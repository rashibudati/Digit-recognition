{
  "nbformat": 4,
  "nbformat_minor": 0,
  "metadata": {
    "kernelspec": {
      "name": "python3",
      "display_name": "Python 3"
    },
    "language_info": {
      "codemirror_mode": {
        "name": "ipython",
        "version": 3
      },
      "file_extension": ".py",
      "mimetype": "text/x-python",
      "name": "python",
      "nbconvert_exporter": "python",
      "pygments_lexer": "ipython3",
      "version": "3.7.3"
    },
    "colab": {
      "name": "digit_recognition.ipynb",
      "provenance": [],
      "collapsed_sections": [
        "d3bnCB6haJT7",
        "WrFMz-f510SI",
        "kH8Vpbgi10SM",
        "yvsq6qC810SQ",
        "PimlQJK-10SS",
        "MAump8gx10SU",
        "R0Lhhegh10Sr",
        "tLbg6LHy10Sw",
        "TtP1QQt_10TG",
        "F2620hkZ10TL",
        "vGSLqzdU10TX",
        "Z79CWPUU10Td",
        "n1SjI6Vm10Tn",
        "Rx0KGhpn10Tu",
        "KmeP2wRd10UA",
        "146fGmnb10UB",
        "k27VvQKj10UB",
        "Uft2Ta-p10UF",
        "YLu3uujr10UG",
        "hR4IU4EX10Uc",
        "tbm9VXIS10Ud",
        "AbFzgTuw10Ue",
        "XZCKBnH710Uf",
        "zK2dyOx810Ug",
        "upx3oKCw10Uj",
        "MQsjsECc10Uq",
        "Xof9sCDm10U7",
        "SZehIKZd10VB",
        "_U-glFmC10VL",
        "9OEa8I3s10VX",
        "r-0grF5110Vg",
        "Jg5n3C-f10Vm",
        "Ax94ABSs10Vp",
        "jU6nsZ0S10V1",
        "qORgtaAM10Wb",
        "Zh1VwYel10Wh",
        "bK9TP85T10Wi",
        "5wIH3dxg10XP",
        "2BQCP21O10XT"
      ]
    },
    "accelerator": "GPU"
  },
  "cells": [
    {
      "cell_type": "code",
      "metadata": {
        "id": "iv6bmqg510Qk",
        "colab_type": "code",
        "colab": {}
      },
      "source": [
        "\n",
        "\n",
        "### Your code implementation goes here.\n",
        "### Feel free to use as many code cells as needed.\n",
        "\n"
      ],
      "execution_count": 0,
      "outputs": []
    },
    {
      "cell_type": "code",
      "metadata": {
        "id": "MwpIZJa410Qn",
        "colab_type": "code",
        "colab": {}
      },
      "source": [
        "# Load dependencies\n",
        "import os\n",
        "import copy\n",
        "import h5py\n",
        "import _pickle as pickle\n",
        "from glob import glob\n",
        "from random import shuffle\n",
        "\n",
        "import cv2\n",
        "from PIL import Image\n",
        "from IPython.display import SVG\n",
        "\n",
        "import numpy as np\n",
        "import pandas as pd\n",
        "\n",
        "import sklearn.utils\n",
        "from sklearn.metrics import accuracy_score\n",
        "from sklearn.model_selection import train_test_split\n",
        "\n",
        "import matplotlib.pyplot as plt\n",
        "\n",
        "%matplotlib inline"
      ],
      "execution_count": 0,
      "outputs": []
    },
    {
      "cell_type": "code",
      "metadata": {
        "id": "DBFc6wQr10Qq",
        "colab_type": "code",
        "outputId": "219520a9-826d-4a51-b525-9f998a55783c",
        "colab": {
          "base_uri": "https://localhost:8080/",
          "height": 34
        }
      },
      "source": [
        "import keras\n",
        "import keras.backend as K\n",
        "\n",
        "from keras.models import Model\n",
        "from keras.layers import Input, BatchNormalization, Convolution2D, Dense, Dropout, MaxPooling2D, Flatten\n",
        "from keras.layers import AveragePooling2D, GlobalAveragePooling2D, concatenate, UpSampling2D, Conv2DTranspose\n",
        "\n",
        "from keras.optimizers import Adam\n",
        "from keras.callbacks import ModelCheckpoint\n",
        "from keras.utils.vis_utils import model_to_dot"
      ],
      "execution_count": 0,
      "outputs": [
        {
          "output_type": "stream",
          "text": [
            "Using TensorFlow backend.\n"
          ],
          "name": "stderr"
        }
      ]
    },
    {
      "cell_type": "markdown",
      "metadata": {
        "id": "pbRKSke_10Qu",
        "colab_type": "text"
      },
      "source": [
        "#### Load the MNIST dataset"
      ]
    },
    {
      "cell_type": "code",
      "metadata": {
        "id": "kVh8n_DM10Qv",
        "colab_type": "code",
        "outputId": "808f84a7-f8ad-48ff-ae1c-cbef42433f61",
        "colab": {
          "base_uri": "https://localhost:8080/",
          "height": 51
        }
      },
      "source": [
        "from keras.datasets import mnist\n",
        "\n",
        "(x_train, y_train), (x_test, y_test) = mnist.load_data()"
      ],
      "execution_count": 0,
      "outputs": [
        {
          "output_type": "stream",
          "text": [
            "Downloading data from https://s3.amazonaws.com/img-datasets/mnist.npz\n",
            "11493376/11490434 [==============================] - 0s 0us/step\n"
          ],
          "name": "stdout"
        }
      ]
    },
    {
      "cell_type": "markdown",
      "metadata": {
        "id": "ifmMfj9w10Qx",
        "colab_type": "text"
      },
      "source": [
        "#### Generate synthetic data based on MNIST"
      ]
    },
    {
      "cell_type": "code",
      "metadata": {
        "id": "tlnDk3mK10Qy",
        "colab_type": "code",
        "colab": {}
      },
      "source": [
        "def create_numbers(numbers, number_labels, maxlength=5, digit_sz=(28, 28), return_label=False):\n",
        "    # Attention: Only coded to work with grayscale images at the moment.\n",
        "\n",
        "    # Randomly choose a number length:\n",
        "    img_len = np.random.choice(range(maxlength)) + 1\n",
        "    label = np.empty(5, dtype='str')\n",
        "\n",
        "    #print \"length: \", img_len\n",
        "\n",
        "\n",
        "    # Randomly choose where in our image the sequence of numbers will appear\n",
        "    if img_len < maxlength:\n",
        "        st_point = np.random.choice(maxlength - img_len)\n",
        "    else:\n",
        "        st_point = 0\n",
        "    \n",
        "    #print \"start:\", st_point\n",
        "\n",
        "    charmap = np.zeros(maxlength)\n",
        "    charmap[st_point:st_point + img_len] = 1\n",
        "    \n",
        "    #print \"charmap: \", charmap\n",
        "\n",
        "    # Define a blank character - this will ensure our input image always have the same dimensions\n",
        "    blank_char = np.zeros_like(digit_sz)\n",
        "    blank_lbl = \".\"\n",
        "\n",
        "    # Initialize a blank image with maxlen * digit_dz width and digit_sz height\n",
        "    new_img_len = maxlength * digit_sz[1]\n",
        "    new_img = np.zeros((digit_sz[0], new_img_len))\n",
        "    \n",
        "    # Fill in the image with random numbers from dataset, starting at st_point\n",
        "    for i, b in enumerate(charmap):\n",
        "        if b > 0:\n",
        "            n = np.random.choice(len(numbers))\n",
        "            st_pos = i * digit_sz[1]\n",
        "            new_img[:, st_pos:st_pos + digit_sz[1]] = numbers[n]\n",
        "            label[i] = str(number_labels[n])\n",
        "        else:\n",
        "            label[i] = blank_lbl\n",
        "\n",
        "    if return_label:\n",
        "        return new_img, label\n",
        "\n",
        "    return new_img"
      ],
      "execution_count": 0,
      "outputs": []
    },
    {
      "cell_type": "code",
      "metadata": {
        "id": "gnT1jjZO10Q1",
        "colab_type": "code",
        "outputId": "6c0f444c-a361-440a-87dd-1f50bdaff6bf",
        "colab": {
          "base_uri": "https://localhost:8080/",
          "height": 135
        }
      },
      "source": [
        "# Create sample to test that function is working\n",
        "img, label = create_numbers(x_train, y_train, return_label=True)\n",
        "plt.imshow(img, cmap='gray')\n",
        "print (label)"
      ],
      "execution_count": 0,
      "outputs": [
        {
          "output_type": "stream",
          "text": [
            "['.' '3' '9' '.' '.']\n"
          ],
          "name": "stdout"
        },
        {
          "output_type": "display_data",
          "data": {
            "image/png": "[encoded data removed]",
            "text/plain": [
              "<Figure size 432x288 with 1 Axes>"
            ]
          },
          "metadata": {
            "tags": []
          }
        }
      ]
    },
    {
      "cell_type": "markdown",
      "metadata": {
        "id": "MdOdry7B10Q3",
        "colab_type": "text"
      },
      "source": [
        "#### Define a Python Generator to create an unlimited amount of training examples"
      ]
    },
    {
      "cell_type": "code",
      "metadata": {
        "id": "WYWbTgJv10Q4",
        "colab_type": "code",
        "colab": {}
      },
      "source": [
        "def generator(numbers, number_labels, batch_size=32):\n",
        "    \"\"\"\n",
        "    This generator receives mnist digits and labels and returns a batch for training\n",
        "\n",
        "    Input:\n",
        "    numbers - array with mnist images.\n",
        "    number_labels - array with mnist labels.\n",
        "\n",
        "    Arguments:\n",
        "    batch_size - size of the mini batch\n",
        "\n",
        "    Output:\n",
        "    X_train and y_train\n",
        "    \"\"\"\n",
        "    while True:  # Loop forever so the generator never terminates\n",
        "\n",
        "        images = []\n",
        "        labels = []\n",
        "\n",
        "        for batch_sample in range(batch_size):\n",
        "            img, label = create_numbers(numbers, number_labels, return_label=True)\n",
        "            \n",
        "            # Here we will convert the label to a format that Keras API can process:\n",
        "            n_label = np.zeros((5, 11), dtype='int')\n",
        "            for i, digit in enumerate(label):\n",
        "                if digit == \".\":\n",
        "                    n_digit = 10\n",
        "                else:\n",
        "                    n_digit = int(digit)\n",
        "\n",
        "                n_label[i][n_digit] = 1\n",
        "                \n",
        "\n",
        "            images.append(img)\n",
        "            #labels.append(label)\n",
        "            labels.append(n_label)\n",
        "\n",
        "        X_train = np.array(images)\n",
        "        if len(X_train.shape) == 3:\n",
        "            X_train = np.expand_dims(X_train, -1)\n",
        "\n",
        "        y_temp = np.array(labels)\n",
        "        \n",
        "        y1 = y_temp[:, 0, :]\n",
        "        y2 = y_temp[:, 1, :]\n",
        "        y3 = y_temp[:, 2, :]\n",
        "        y4 = y_temp[:, 3, :]\n",
        "        y5 = y_temp[:, 4, :]\n",
        "\n",
        "        yield X_train, [y1, y2, y3, y4, y5]"
      ],
      "execution_count": 0,
      "outputs": []
    },
    {
      "cell_type": "code",
      "metadata": {
        "id": "90sl5owA10Q7",
        "colab_type": "code",
        "colab": {}
      },
      "source": [
        "def convert_label(label):\n",
        "    n_label = \"\"\n",
        "    for digit in label:\n",
        "        if np.argmax(digit) == 10:\n",
        "            n_digit = \".\"\n",
        "        else:\n",
        "            n_digit = str(np.argmax(digit))\n",
        "        n_label += n_digit\n",
        "    return n_label"
      ],
      "execution_count": 0,
      "outputs": []
    },
    {
      "cell_type": "code",
      "metadata": {
        "id": "ZzkLDo6f10Q9",
        "colab_type": "code",
        "colab": {}
      },
      "source": [
        "# Create samples to test the generator\n",
        "i = 0\n",
        "for a, b in generator(x_train, y_train, batch_size=16): \n",
        "    test_imgs = a\n",
        "    test_lbls = b\n",
        "    \n",
        "    i += 1\n",
        "    \n",
        "    if i > 1:\n",
        "        break"
      ],
      "execution_count": 0,
      "outputs": []
    },
    {
      "cell_type": "code",
      "metadata": {
        "scrolled": false,
        "id": "bETN8VQn10Q_",
        "colab_type": "code",
        "outputId": "67abc70d-3922-4c61-936d-a09c85bfa217",
        "colab": {
          "base_uri": "https://localhost:8080/",
          "height": 882
        }
      },
      "source": [
        "rows_to_plot = 8\n",
        "cols_to_plot = 2\n",
        "\n",
        "f = plt.figure(figsize=(12, 12))\n",
        "\n",
        "for i in range(16):\n",
        "    f.add_subplot(rows_to_plot, cols_to_plot, i+1)\n",
        "    plt.title(convert_label(np.vstack((test_lbls[0][i], test_lbls[1][i], test_lbls[2][i], \n",
        "                                                test_lbls[3][i],test_lbls[4][i]))))\n",
        "    plt.imshow(test_imgs[i][:, :, 0], cmap='gray')\n",
        "    plt.axis('off')\n",
        "\n",
        "plt.tight_layout()\n",
        "plt.show()"
      ],
      "execution_count": 0,
      "outputs": [
        {
          "output_type": "display_data",
          "data": {
            "image/png": "[encoded data removed]",
            "text/plain": [
              "<Figure size 864x864 with 16 Axes>"
            ]
          },
          "metadata": {
            "tags": []
          }
        }
      ]
    },
    {
      "cell_type": "markdown",
      "metadata": {
        "id": "j7LZbk0U10RC",
        "colab_type": "text"
      },
      "source": [
        "#### End-to-end model"
      ]
    },
    {
      "cell_type": "code",
      "metadata": {
        "id": "TNVOr9Ac10RD",
        "colab_type": "code",
        "colab": {}
      },
      "source": [
        "# Based on Model from: http://static.googleusercontent.com/media/research.google.com/en//pubs/archive/42241.pdf\n",
        "\n",
        "def get_model(input_shape=(28, 28*5, 3), p=0.5, n_class=11):\n",
        "\n",
        "    inputs = Input(((input_shape[0], input_shape[1], input_shape[2])))\n",
        "    \n",
        "    x = BatchNormalization()(inputs)\n",
        "    x = Convolution2D(48, 5, activation='relu', padding='same', strides=(1, 1))(x)\n",
        "    x = MaxPooling2D(pool_size=(2, 2), strides=(2, 2))(x)\n",
        "    x = Dropout(p/4)(x)\n",
        "    \n",
        "    x = BatchNormalization()(x)\n",
        "    x = Convolution2D(64, 5, activation='relu', padding='same', strides=(1, 1))(x)\n",
        "    x = MaxPooling2D(pool_size=(2, 2), strides=(1, 1))(x)\n",
        "    x = Dropout(p/4)(x)\n",
        "\n",
        "    x = BatchNormalization()(x)\n",
        "    x = Convolution2D(128, 5, activation='relu', padding='same', strides=(1, 1))(x)\n",
        "    x = MaxPooling2D(pool_size=(2, 2), strides=(1, 1))(x)\n",
        "    x = Dropout(p/2)(x)\n",
        "\n",
        "    x = BatchNormalization()(x)\n",
        "    x = Convolution2D(160, 5, activation='relu', padding='same', strides=(1, 1))(x)\n",
        "    x = MaxPooling2D(pool_size=(2, 2), strides=(1, 1))(x)\n",
        "    x = Dropout(p/2)(x)\n",
        "\n",
        "#     x = BatchNormalization()(x)\n",
        "#     x = Convolution2D(192, 5, activation='relu', padding='same', strides=(1, 1))(x)\n",
        "#     x = MaxPooling2D(pool_size=(2, 2), strides=(2, 2))(x)\n",
        "#     x = Dropout(p)(x)\n",
        "\n",
        "    x = BatchNormalization()(x)\n",
        "    x = Convolution2D(192, 5, activation='relu', padding='same', strides=(1, 1))(x)\n",
        "    x = MaxPooling2D(pool_size=(2, 2), strides=(1, 1))(x)\n",
        "    x = Dropout(p)(x)\n",
        "    \n",
        "    # I had to remove this part because the input size we have is too small for a network this deep.\n",
        "    # Another alternative would have been change the maxpool strides.\n",
        "    \n",
        "    #x = BatchNormalization()(x)\n",
        "    #x = Convolution2D(192, 5, activation='relu', padding='same', strides=(1, 1))(x)\n",
        "    #x = MaxPooling2D(pool_size=(2, 2), strides=(2, 2))(x)\n",
        "    #x = Dropout(p)(x)\n",
        "\n",
        "    #x = BatchNormalization()(x)\n",
        "    #x = Convolution2D(192, 5, activation='relu', padding='same', strides=(1, 1))(x)\n",
        "    #x = MaxPooling2D(pool_size=(2, 2), strides=(1, 1))(x)\n",
        "    #x = Dropout(p)(x)\n",
        "    \n",
        "    x = Flatten()(x)\n",
        "    x = Dense(1024, activation='relu')(x) # I also reduced the number of activations\n",
        "    x = Dense(1024, activation='relu')(x)\n",
        "    \n",
        "    c1 = Dense(n_class, activation='softmax')(x)\n",
        "    c2 = Dense(n_class, activation='softmax')(x)\n",
        "    c3 = Dense(n_class, activation='softmax')(x)\n",
        "    c4 = Dense(n_class, activation='softmax')(x)\n",
        "    c5 = Dense(n_class, activation='softmax')(x)\n",
        "    \n",
        "    output = [c1, c2, c3, c4, c5]\n",
        "    \n",
        "    model = Model(inputs=inputs, outputs=output)\n",
        "\n",
        "    return model\n"
      ],
      "execution_count": 0,
      "outputs": []
    },
    {
      "cell_type": "code",
      "metadata": {
        "id": "8GaLr14c10RH",
        "colab_type": "code",
        "colab": {}
      },
      "source": [
        "def convert_output(model_output):\n",
        "    model_output = np.array(model_output).swapaxes(0, 1)\n",
        "    labels = []\n",
        "    for output in model_output:\n",
        "        label = convert_label(output)\n",
        "        labels.append(label)\n",
        "\n",
        "    return labels"
      ],
      "execution_count": 0,
      "outputs": []
    },
    {
      "cell_type": "code",
      "metadata": {
        "id": "ycxpI_2T10RK",
        "colab_type": "code",
        "outputId": "642b43bd-5eb9-4641-e35f-3e47667175e1",
        "colab": {
          "base_uri": "https://localhost:8080/",
          "height": 326
        }
      },
      "source": [
        "model = get_model(input_shape=(28, 28*5, 1))"
      ],
      "execution_count": 0,
      "outputs": [
        {
          "output_type": "stream",
          "text": [
            "WARNING:tensorflow:From /usr/local/lib/python3.6/dist-packages/keras/backend/tensorflow_backend.py:66: The name tf.get_default_graph is deprecated. Please use tf.compat.v1.get_default_graph instead.\n",
            "\n",
            "WARNING:tensorflow:From /usr/local/lib/python3.6/dist-packages/keras/backend/tensorflow_backend.py:541: The name tf.placeholder is deprecated. Please use tf.compat.v1.placeholder instead.\n",
            "\n",
            "WARNING:tensorflow:From /usr/local/lib/python3.6/dist-packages/keras/backend/tensorflow_backend.py:190: The name tf.get_default_session is deprecated. Please use tf.compat.v1.get_default_session instead.\n",
            "\n",
            "WARNING:tensorflow:From /usr/local/lib/python3.6/dist-packages/keras/backend/tensorflow_backend.py:197: The name tf.ConfigProto is deprecated. Please use tf.compat.v1.ConfigProto instead.\n",
            "\n",
            "WARNING:tensorflow:From /usr/local/lib/python3.6/dist-packages/keras/backend/tensorflow_backend.py:203: The name tf.Session is deprecated. Please use tf.compat.v1.Session instead.\n",
            "\n",
            "WARNING:tensorflow:From /usr/local/lib/python3.6/dist-packages/keras/backend/tensorflow_backend.py:2041: The name tf.nn.fused_batch_norm is deprecated. Please use tf.compat.v1.nn.fused_batch_norm instead.\n",
            "\n",
            "WARNING:tensorflow:From /usr/local/lib/python3.6/dist-packages/keras/backend/tensorflow_backend.py:4267: The name tf.nn.max_pool is deprecated. Please use tf.nn.max_pool2d instead.\n",
            "\n",
            "WARNING:tensorflow:From /usr/local/lib/python3.6/dist-packages/keras/backend/tensorflow_backend.py:3733: calling dropout (from tensorflow.python.ops.nn_ops) with keep_prob is deprecated and will be removed in a future version.\n",
            "Instructions for updating:\n",
            "Please use `rate` instead of `keep_prob`. Rate should be set to `rate = 1 - keep_prob`.\n"
          ],
          "name": "stdout"
        }
      ]
    },
    {
      "cell_type": "code",
      "metadata": {
        "id": "tARKusp510RN",
        "colab_type": "code",
        "outputId": "51be8b98-5c4f-4302-dabd-8f8a10542877",
        "colab": {
          "base_uri": "https://localhost:8080/",
          "height": 1000
        }
      },
      "source": [
        "model.summary()"
      ],
      "execution_count": 0,
      "outputs": [
        {
          "output_type": "stream",
          "text": [
            "Model: \"model_1\"\n",
            "__________________________________________________________________________________________________\n",
            "Layer (type)                    Output Shape         Param #     Connected to                     \n",
            "==================================================================================================\n",
            "input_1 (InputLayer)            (None, 28, 140, 1)   0                                            \n",
            "__________________________________________________________________________________________________\n",
            "batch_normalization_1 (BatchNor (None, 28, 140, 1)   4           input_1[0][0]                    \n",
            "__________________________________________________________________________________________________\n",
            "conv2d_1 (Conv2D)               (None, 28, 140, 48)  1248        batch_normalization_1[0][0]      \n",
            "__________________________________________________________________________________________________\n",
            "max_pooling2d_1 (MaxPooling2D)  (None, 14, 70, 48)   0           conv2d_1[0][0]                   \n",
            "__________________________________________________________________________________________________\n",
            "dropout_1 (Dropout)             (None, 14, 70, 48)   0           max_pooling2d_1[0][0]            \n",
            "__________________________________________________________________________________________________\n",
            "batch_normalization_2 (BatchNor (None, 14, 70, 48)   192         dropout_1[0][0]                  \n",
            "__________________________________________________________________________________________________\n",
            "conv2d_2 (Conv2D)               (None, 14, 70, 64)   76864       batch_normalization_2[0][0]      \n",
            "__________________________________________________________________________________________________\n",
            "max_pooling2d_2 (MaxPooling2D)  (None, 13, 69, 64)   0           conv2d_2[0][0]                   \n",
            "__________________________________________________________________________________________________\n",
            "dropout_2 (Dropout)             (None, 13, 69, 64)   0           max_pooling2d_2[0][0]            \n",
            "__________________________________________________________________________________________________\n",
            "batch_normalization_3 (BatchNor (None, 13, 69, 64)   256         dropout_2[0][0]                  \n",
            "__________________________________________________________________________________________________\n",
            "conv2d_3 (Conv2D)               (None, 13, 69, 128)  204928      batch_normalization_3[0][0]      \n",
            "__________________________________________________________________________________________________\n",
            "max_pooling2d_3 (MaxPooling2D)  (None, 12, 68, 128)  0           conv2d_3[0][0]                   \n",
            "__________________________________________________________________________________________________\n",
            "dropout_3 (Dropout)             (None, 12, 68, 128)  0           max_pooling2d_3[0][0]            \n",
            "__________________________________________________________________________________________________\n",
            "batch_normalization_4 (BatchNor (None, 12, 68, 128)  512         dropout_3[0][0]                  \n",
            "__________________________________________________________________________________________________\n",
            "conv2d_4 (Conv2D)               (None, 12, 68, 160)  512160      batch_normalization_4[0][0]      \n",
            "__________________________________________________________________________________________________\n",
            "max_pooling2d_4 (MaxPooling2D)  (None, 11, 67, 160)  0           conv2d_4[0][0]                   \n",
            "__________________________________________________________________________________________________\n",
            "dropout_4 (Dropout)             (None, 11, 67, 160)  0           max_pooling2d_4[0][0]            \n",
            "__________________________________________________________________________________________________\n",
            "batch_normalization_5 (BatchNor (None, 11, 67, 160)  640         dropout_4[0][0]                  \n",
            "__________________________________________________________________________________________________\n",
            "conv2d_5 (Conv2D)               (None, 11, 67, 192)  768192      batch_normalization_5[0][0]      \n",
            "__________________________________________________________________________________________________\n",
            "max_pooling2d_5 (MaxPooling2D)  (None, 10, 66, 192)  0           conv2d_5[0][0]                   \n",
            "__________________________________________________________________________________________________\n",
            "dropout_5 (Dropout)             (None, 10, 66, 192)  0           max_pooling2d_5[0][0]            \n",
            "__________________________________________________________________________________________________\n",
            "flatten_1 (Flatten)             (None, 126720)       0           dropout_5[0][0]                  \n",
            "__________________________________________________________________________________________________\n",
            "dense_1 (Dense)                 (None, 1024)         129762304   flatten_1[0][0]                  \n",
            "__________________________________________________________________________________________________\n",
            "dense_2 (Dense)                 (None, 1024)         1049600     dense_1[0][0]                    \n",
            "__________________________________________________________________________________________________\n",
            "dense_3 (Dense)                 (None, 11)           11275       dense_2[0][0]                    \n",
            "__________________________________________________________________________________________________\n",
            "dense_4 (Dense)                 (None, 11)           11275       dense_2[0][0]                    \n",
            "__________________________________________________________________________________________________\n",
            "dense_5 (Dense)                 (None, 11)           11275       dense_2[0][0]                    \n",
            "__________________________________________________________________________________________________\n",
            "dense_6 (Dense)                 (None, 11)           11275       dense_2[0][0]                    \n",
            "__________________________________________________________________________________________________\n",
            "dense_7 (Dense)                 (None, 11)           11275       dense_2[0][0]                    \n",
            "==================================================================================================\n",
            "Total params: 132,433,275\n",
            "Trainable params: 132,432,473\n",
            "Non-trainable params: 802\n",
            "__________________________________________________________________________________________________\n"
          ],
          "name": "stdout"
        }
      ]
    },
    {
      "cell_type": "markdown",
      "metadata": {
        "id": "jzZdwVZk10RY",
        "colab_type": "text"
      },
      "source": [
        "#### Overfit on small sample data"
      ]
    },
    {
      "cell_type": "code",
      "metadata": {
        "id": "zInQPyap10RZ",
        "colab_type": "code",
        "outputId": "56e2ed8f-4ece-4079-e542-503d393628af",
        "colab": {
          "base_uri": "https://localhost:8080/",
          "height": 122
        }
      },
      "source": [
        "# Overfit small data to ensure model can learn\n",
        "optimizer = Adam(lr=1e-3)\n",
        "model.compile(optimizer, loss='categorical_crossentropy')\n",
        "model.fit(test_imgs, test_lbls, epochs=50, verbose=0)\n",
        "teste_out = model.predict(test_imgs)"
      ],
      "execution_count": 0,
      "outputs": [
        {
          "output_type": "stream",
          "text": [
            "WARNING:tensorflow:From /usr/local/lib/python3.6/dist-packages/keras/optimizers.py:793: The name tf.train.Optimizer is deprecated. Please use tf.compat.v1.train.Optimizer instead.\n",
            "\n",
            "WARNING:tensorflow:From /usr/local/lib/python3.6/dist-packages/tensorflow/python/ops/math_grad.py:1250: add_dispatch_support.<locals>.wrapper (from tensorflow.python.ops.array_ops) is deprecated and will be removed in a future version.\n",
            "Instructions for updating:\n",
            "Use tf.where in 2.0, which has the same broadcast rule as np.where\n"
          ],
          "name": "stdout"
        }
      ]
    },
    {
      "cell_type": "code",
      "metadata": {
        "id": "Dd3AGcEw10Rc",
        "colab_type": "code",
        "outputId": "3ea37974-daa1-4004-f7c9-b6a55536b212",
        "colab": {
          "base_uri": "https://localhost:8080/",
          "height": 739
        }
      },
      "source": [
        "output = convert_output(teste_out)\n",
        "\n",
        "rows_to_plot = 4\n",
        "cols_to_plot = 2\n",
        "\n",
        "f = plt.figure(figsize=(12, 6))\n",
        "\n",
        "for i, (pred, img) in enumerate(zip(output, test_imgs)):\n",
        "    f.add_subplot(rows_to_plot, cols_to_plot, i+1)\n",
        "    plt.title(\"Predicted: \" + pred)\n",
        "    plt.imshow(img[:, :, 0], cmap='gray')\n",
        "    plt.axis('off')\n",
        "\n",
        "plt.tight_layout()\n",
        "plt.show()"
      ],
      "execution_count": 0,
      "outputs": [
        {
          "output_type": "error",
          "ename": "ValueError",
          "evalue": "ignored",
          "traceback": [
            "\u001b[0;31m---------------------------------------------------------------------------\u001b[0m",
            "\u001b[0;31mValueError\u001b[0m                                Traceback (most recent call last)",
            "\u001b[0;32m<ipython-input-15-5d75d1e2871e>\u001b[0m in \u001b[0;36m<module>\u001b[0;34m()\u001b[0m\n\u001b[1;32m      7\u001b[0m \u001b[0;34m\u001b[0m\u001b[0m\n\u001b[1;32m      8\u001b[0m \u001b[0;32mfor\u001b[0m \u001b[0mi\u001b[0m\u001b[0;34m,\u001b[0m \u001b[0;34m(\u001b[0m\u001b[0mpred\u001b[0m\u001b[0;34m,\u001b[0m \u001b[0mimg\u001b[0m\u001b[0;34m)\u001b[0m \u001b[0;32min\u001b[0m \u001b[0menumerate\u001b[0m\u001b[0;34m(\u001b[0m\u001b[0mzip\u001b[0m\u001b[0;34m(\u001b[0m\u001b[0moutput\u001b[0m\u001b[0;34m,\u001b[0m \u001b[0mtest_imgs\u001b[0m\u001b[0;34m)\u001b[0m\u001b[0;34m)\u001b[0m\u001b[0;34m:\u001b[0m\u001b[0;34m\u001b[0m\u001b[0;34m\u001b[0m\u001b[0m\n\u001b[0;32m----> 9\u001b[0;31m     \u001b[0mf\u001b[0m\u001b[0;34m.\u001b[0m\u001b[0madd_subplot\u001b[0m\u001b[0;34m(\u001b[0m\u001b[0mrows_to_plot\u001b[0m\u001b[0;34m,\u001b[0m \u001b[0mcols_to_plot\u001b[0m\u001b[0;34m,\u001b[0m \u001b[0mi\u001b[0m\u001b[0;34m+\u001b[0m\u001b[0;36m1\u001b[0m\u001b[0;34m)\u001b[0m\u001b[0;34m\u001b[0m\u001b[0;34m\u001b[0m\u001b[0m\n\u001b[0m\u001b[1;32m     10\u001b[0m     \u001b[0mplt\u001b[0m\u001b[0;34m.\u001b[0m\u001b[0mtitle\u001b[0m\u001b[0;34m(\u001b[0m\u001b[0;34m\"Predicted: \"\u001b[0m \u001b[0;34m+\u001b[0m \u001b[0mpred\u001b[0m\u001b[0;34m)\u001b[0m\u001b[0;34m\u001b[0m\u001b[0;34m\u001b[0m\u001b[0m\n\u001b[1;32m     11\u001b[0m     \u001b[0mplt\u001b[0m\u001b[0;34m.\u001b[0m\u001b[0mimshow\u001b[0m\u001b[0;34m(\u001b[0m\u001b[0mimg\u001b[0m\u001b[0;34m[\u001b[0m\u001b[0;34m:\u001b[0m\u001b[0;34m,\u001b[0m \u001b[0;34m:\u001b[0m\u001b[0;34m,\u001b[0m \u001b[0;36m0\u001b[0m\u001b[0;34m]\u001b[0m\u001b[0;34m,\u001b[0m \u001b[0mcmap\u001b[0m\u001b[0;34m=\u001b[0m\u001b[0;34m'gray'\u001b[0m\u001b[0;34m)\u001b[0m\u001b[0;34m\u001b[0m\u001b[0;34m\u001b[0m\u001b[0m\n",
            "\u001b[0;32m/usr/local/lib/python3.6/dist-packages/matplotlib/figure.py\u001b[0m in \u001b[0;36madd_subplot\u001b[0;34m(self, *args, **kwargs)\u001b[0m\n\u001b[1;32m   1365\u001b[0m                     \u001b[0mself\u001b[0m\u001b[0;34m.\u001b[0m\u001b[0m_axstack\u001b[0m\u001b[0;34m.\u001b[0m\u001b[0mremove\u001b[0m\u001b[0;34m(\u001b[0m\u001b[0max\u001b[0m\u001b[0;34m)\u001b[0m\u001b[0;34m\u001b[0m\u001b[0;34m\u001b[0m\u001b[0m\n\u001b[1;32m   1366\u001b[0m \u001b[0;34m\u001b[0m\u001b[0m\n\u001b[0;32m-> 1367\u001b[0;31m             \u001b[0ma\u001b[0m \u001b[0;34m=\u001b[0m \u001b[0msubplot_class_factory\u001b[0m\u001b[0;34m(\u001b[0m\u001b[0mprojection_class\u001b[0m\u001b[0;34m)\u001b[0m\u001b[0;34m(\u001b[0m\u001b[0mself\u001b[0m\u001b[0;34m,\u001b[0m \u001b[0;34m*\u001b[0m\u001b[0margs\u001b[0m\u001b[0;34m,\u001b[0m \u001b[0;34m**\u001b[0m\u001b[0mkwargs\u001b[0m\u001b[0;34m)\u001b[0m\u001b[0;34m\u001b[0m\u001b[0;34m\u001b[0m\u001b[0m\n\u001b[0m\u001b[1;32m   1368\u001b[0m         \u001b[0mself\u001b[0m\u001b[0;34m.\u001b[0m\u001b[0m_axstack\u001b[0m\u001b[0;34m.\u001b[0m\u001b[0madd\u001b[0m\u001b[0;34m(\u001b[0m\u001b[0mkey\u001b[0m\u001b[0;34m,\u001b[0m \u001b[0ma\u001b[0m\u001b[0;34m)\u001b[0m\u001b[0;34m\u001b[0m\u001b[0;34m\u001b[0m\u001b[0m\n\u001b[1;32m   1369\u001b[0m         \u001b[0mself\u001b[0m\u001b[0;34m.\u001b[0m\u001b[0msca\u001b[0m\u001b[0;34m(\u001b[0m\u001b[0ma\u001b[0m\u001b[0;34m)\u001b[0m\u001b[0;34m\u001b[0m\u001b[0;34m\u001b[0m\u001b[0m\n",
            "\u001b[0;32m/usr/local/lib/python3.6/dist-packages/matplotlib/axes/_subplots.py\u001b[0m in \u001b[0;36m__init__\u001b[0;34m(self, fig, *args, **kwargs)\u001b[0m\n\u001b[1;32m     58\u001b[0m                     raise ValueError(\n\u001b[1;32m     59\u001b[0m                         (\"num must be 1 <= num <= {maxn}, not {num}\"\n\u001b[0;32m---> 60\u001b[0;31m                         ).format(maxn=rows*cols, num=num))\n\u001b[0m\u001b[1;32m     61\u001b[0m                 self._subplotspec = GridSpec(\n\u001b[1;32m     62\u001b[0m                         rows, cols, figure=self.figure)[int(num) - 1]\n",
            "\u001b[0;31mValueError\u001b[0m: num must be 1 <= num <= 8, not 9"
          ]
        },
        {
          "output_type": "display_data",
          "data": {
            "image/png": "[encoded data removed]",
            "text/plain": [
              "<Figure size 864x432 with 8 Axes>"
            ]
          },
          "metadata": {
            "tags": []
          }
        }
      ]
    },
    {
      "cell_type": "markdown",
      "metadata": {
        "id": "YX-sILkD10Rg",
        "colab_type": "text"
      },
      "source": [
        "#### Train the model"
      ]
    },
    {
      "cell_type": "code",
      "metadata": {
        "id": "b5TzT60Z10Rh",
        "colab_type": "code",
        "colab": {}
      },
      "source": [
        "model = get_model(input_shape=(28, 28*5, 1))\n",
        "optimizer = Adam(lr=1e-3)\n",
        "model.compile(optimizer, loss='categorical_crossentropy', metrics=['categorical_accuracy'])\n",
        "\n",
        "trn_generator = generator(x_train, y_train, batch_size=128)\n",
        "val_generator = generator(x_test, y_test, batch_size=128)"
      ],
      "execution_count": 0,
      "outputs": []
    },
    {
      "cell_type": "code",
      "metadata": {
        "id": "zn0HfFqk10Rm",
        "colab_type": "code",
        "outputId": "d046ef5c-5507-4465-a1be-75c7cdb2a848",
        "colab": {
          "base_uri": "https://localhost:8080/",
          "height": 396
        }
      },
      "source": [
        "model.fit_generator(trn_generator,\n",
        "                    epochs=10,\n",
        "                    steps_per_epoch=780,\n",
        "                    validation_data=val_generator,\n",
        "                    validation_steps=780,\n",
        "                    verbose=1)"
      ],
      "execution_count": 0,
      "outputs": [
        {
          "output_type": "stream",
          "text": [
            "Epoch 1/10\n",
            "581/780 [=====================>........] - ETA: 1:44 - loss: 50.3524 - dense_10_loss: 9.8972 - dense_11_loss: 14.7184 - dense_12_loss: 12.6280 - dense_13_loss: 9.9056 - dense_14_loss: 3.2031 - dense_10_categorical_accuracy: 0.3860 - dense_11_categorical_accuracy: 0.0868 - dense_12_categorical_accuracy: 0.2165 - dense_13_categorical_accuracy: 0.3854 - dense_14_categorical_accuracy: 0.8013"
          ],
          "name": "stdout"
        },
        {
          "output_type": "error",
          "ename": "KeyboardInterrupt",
          "evalue": "ignored",
          "traceback": [
            "\u001b[0;31m---------------------------------------------------------------------------\u001b[0m",
            "\u001b[0;31mKeyboardInterrupt\u001b[0m                         Traceback (most recent call last)",
            "\u001b[0;32m<ipython-input-18-3396f760311f>\u001b[0m in \u001b[0;36m<module>\u001b[0;34m()\u001b[0m\n\u001b[1;32m      4\u001b[0m                     \u001b[0mvalidation_data\u001b[0m\u001b[0;34m=\u001b[0m\u001b[0mval_generator\u001b[0m\u001b[0;34m,\u001b[0m\u001b[0;34m\u001b[0m\u001b[0;34m\u001b[0m\u001b[0m\n\u001b[1;32m      5\u001b[0m                     \u001b[0mvalidation_steps\u001b[0m\u001b[0;34m=\u001b[0m\u001b[0;36m780\u001b[0m\u001b[0;34m,\u001b[0m\u001b[0;34m\u001b[0m\u001b[0;34m\u001b[0m\u001b[0m\n\u001b[0;32m----> 6\u001b[0;31m                     verbose=1)\n\u001b[0m",
            "\u001b[0;32m/usr/local/lib/python3.6/dist-packages/keras/legacy/interfaces.py\u001b[0m in \u001b[0;36mwrapper\u001b[0;34m(*args, **kwargs)\u001b[0m\n\u001b[1;32m     89\u001b[0m                 warnings.warn('Update your `' + object_name + '` call to the ' +\n\u001b[1;32m     90\u001b[0m                               'Keras 2 API: ' + signature, stacklevel=2)\n\u001b[0;32m---> 91\u001b[0;31m             \u001b[0;32mreturn\u001b[0m \u001b[0mfunc\u001b[0m\u001b[0;34m(\u001b[0m\u001b[0;34m*\u001b[0m\u001b[0margs\u001b[0m\u001b[0;34m,\u001b[0m \u001b[0;34m**\u001b[0m\u001b[0mkwargs\u001b[0m\u001b[0;34m)\u001b[0m\u001b[0;34m\u001b[0m\u001b[0;34m\u001b[0m\u001b[0m\n\u001b[0m\u001b[1;32m     92\u001b[0m         \u001b[0mwrapper\u001b[0m\u001b[0;34m.\u001b[0m\u001b[0m_original_function\u001b[0m \u001b[0;34m=\u001b[0m \u001b[0mfunc\u001b[0m\u001b[0;34m\u001b[0m\u001b[0;34m\u001b[0m\u001b[0m\n\u001b[1;32m     93\u001b[0m         \u001b[0;32mreturn\u001b[0m \u001b[0mwrapper\u001b[0m\u001b[0;34m\u001b[0m\u001b[0;34m\u001b[0m\u001b[0m\n",
            "\u001b[0;32m/usr/local/lib/python3.6/dist-packages/keras/engine/training.py\u001b[0m in \u001b[0;36mfit_generator\u001b[0;34m(self, generator, steps_per_epoch, epochs, verbose, callbacks, validation_data, validation_steps, validation_freq, class_weight, max_queue_size, workers, use_multiprocessing, shuffle, initial_epoch)\u001b[0m\n\u001b[1;32m   1656\u001b[0m             \u001b[0muse_multiprocessing\u001b[0m\u001b[0;34m=\u001b[0m\u001b[0muse_multiprocessing\u001b[0m\u001b[0;34m,\u001b[0m\u001b[0;34m\u001b[0m\u001b[0;34m\u001b[0m\u001b[0m\n\u001b[1;32m   1657\u001b[0m             \u001b[0mshuffle\u001b[0m\u001b[0;34m=\u001b[0m\u001b[0mshuffle\u001b[0m\u001b[0;34m,\u001b[0m\u001b[0;34m\u001b[0m\u001b[0;34m\u001b[0m\u001b[0m\n\u001b[0;32m-> 1658\u001b[0;31m             initial_epoch=initial_epoch)\n\u001b[0m\u001b[1;32m   1659\u001b[0m \u001b[0;34m\u001b[0m\u001b[0m\n\u001b[1;32m   1660\u001b[0m     \u001b[0;34m@\u001b[0m\u001b[0minterfaces\u001b[0m\u001b[0;34m.\u001b[0m\u001b[0mlegacy_generator_methods_support\u001b[0m\u001b[0;34m\u001b[0m\u001b[0;34m\u001b[0m\u001b[0m\n",
            "\u001b[0;32m/usr/local/lib/python3.6/dist-packages/keras/engine/training_generator.py\u001b[0m in \u001b[0;36mfit_generator\u001b[0;34m(model, generator, steps_per_epoch, epochs, verbose, callbacks, validation_data, validation_steps, validation_freq, class_weight, max_queue_size, workers, use_multiprocessing, shuffle, initial_epoch)\u001b[0m\n\u001b[1;32m    213\u001b[0m                 outs = model.train_on_batch(x, y,\n\u001b[1;32m    214\u001b[0m                                             \u001b[0msample_weight\u001b[0m\u001b[0;34m=\u001b[0m\u001b[0msample_weight\u001b[0m\u001b[0;34m,\u001b[0m\u001b[0;34m\u001b[0m\u001b[0;34m\u001b[0m\u001b[0m\n\u001b[0;32m--> 215\u001b[0;31m                                             class_weight=class_weight)\n\u001b[0m\u001b[1;32m    216\u001b[0m \u001b[0;34m\u001b[0m\u001b[0m\n\u001b[1;32m    217\u001b[0m                 \u001b[0mouts\u001b[0m \u001b[0;34m=\u001b[0m \u001b[0mto_list\u001b[0m\u001b[0;34m(\u001b[0m\u001b[0mouts\u001b[0m\u001b[0;34m)\u001b[0m\u001b[0;34m\u001b[0m\u001b[0;34m\u001b[0m\u001b[0m\n",
            "\u001b[0;32m/usr/local/lib/python3.6/dist-packages/keras/engine/training.py\u001b[0m in \u001b[0;36mtrain_on_batch\u001b[0;34m(self, x, y, sample_weight, class_weight)\u001b[0m\n\u001b[1;32m   1447\u001b[0m             \u001b[0mins\u001b[0m \u001b[0;34m=\u001b[0m \u001b[0mx\u001b[0m \u001b[0;34m+\u001b[0m \u001b[0my\u001b[0m \u001b[0;34m+\u001b[0m \u001b[0msample_weights\u001b[0m\u001b[0;34m\u001b[0m\u001b[0;34m\u001b[0m\u001b[0m\n\u001b[1;32m   1448\u001b[0m         \u001b[0mself\u001b[0m\u001b[0;34m.\u001b[0m\u001b[0m_make_train_function\u001b[0m\u001b[0;34m(\u001b[0m\u001b[0;34m)\u001b[0m\u001b[0;34m\u001b[0m\u001b[0;34m\u001b[0m\u001b[0m\n\u001b[0;32m-> 1449\u001b[0;31m         \u001b[0moutputs\u001b[0m \u001b[0;34m=\u001b[0m \u001b[0mself\u001b[0m\u001b[0;34m.\u001b[0m\u001b[0mtrain_function\u001b[0m\u001b[0;34m(\u001b[0m\u001b[0mins\u001b[0m\u001b[0;34m)\u001b[0m\u001b[0;34m\u001b[0m\u001b[0;34m\u001b[0m\u001b[0m\n\u001b[0m\u001b[1;32m   1450\u001b[0m         \u001b[0;32mreturn\u001b[0m \u001b[0munpack_singleton\u001b[0m\u001b[0;34m(\u001b[0m\u001b[0moutputs\u001b[0m\u001b[0;34m)\u001b[0m\u001b[0;34m\u001b[0m\u001b[0;34m\u001b[0m\u001b[0m\n\u001b[1;32m   1451\u001b[0m \u001b[0;34m\u001b[0m\u001b[0m\n",
            "\u001b[0;32m/usr/local/lib/python3.6/dist-packages/keras/backend/tensorflow_backend.py\u001b[0m in \u001b[0;36m__call__\u001b[0;34m(self, inputs)\u001b[0m\n\u001b[1;32m   2977\u001b[0m                     \u001b[0;32mreturn\u001b[0m \u001b[0mself\u001b[0m\u001b[0;34m.\u001b[0m\u001b[0m_legacy_call\u001b[0m\u001b[0;34m(\u001b[0m\u001b[0minputs\u001b[0m\u001b[0;34m)\u001b[0m\u001b[0;34m\u001b[0m\u001b[0;34m\u001b[0m\u001b[0m\n\u001b[1;32m   2978\u001b[0m \u001b[0;34m\u001b[0m\u001b[0m\n\u001b[0;32m-> 2979\u001b[0;31m             \u001b[0;32mreturn\u001b[0m \u001b[0mself\u001b[0m\u001b[0;34m.\u001b[0m\u001b[0m_call\u001b[0m\u001b[0;34m(\u001b[0m\u001b[0minputs\u001b[0m\u001b[0;34m)\u001b[0m\u001b[0;34m\u001b[0m\u001b[0;34m\u001b[0m\u001b[0m\n\u001b[0m\u001b[1;32m   2980\u001b[0m         \u001b[0;32melse\u001b[0m\u001b[0;34m:\u001b[0m\u001b[0;34m\u001b[0m\u001b[0;34m\u001b[0m\u001b[0m\n\u001b[1;32m   2981\u001b[0m             \u001b[0;32mif\u001b[0m \u001b[0mpy_any\u001b[0m\u001b[0;34m(\u001b[0m\u001b[0mis_tensor\u001b[0m\u001b[0;34m(\u001b[0m\u001b[0mx\u001b[0m\u001b[0;34m)\u001b[0m \u001b[0;32mfor\u001b[0m \u001b[0mx\u001b[0m \u001b[0;32min\u001b[0m \u001b[0minputs\u001b[0m\u001b[0;34m)\u001b[0m\u001b[0;34m:\u001b[0m\u001b[0;34m\u001b[0m\u001b[0;34m\u001b[0m\u001b[0m\n",
            "\u001b[0;32m/usr/local/lib/python3.6/dist-packages/keras/backend/tensorflow_backend.py\u001b[0m in \u001b[0;36m_call\u001b[0;34m(self, inputs)\u001b[0m\n\u001b[1;32m   2935\u001b[0m             \u001b[0mfetched\u001b[0m \u001b[0;34m=\u001b[0m \u001b[0mself\u001b[0m\u001b[0;34m.\u001b[0m\u001b[0m_callable_fn\u001b[0m\u001b[0;34m(\u001b[0m\u001b[0;34m*\u001b[0m\u001b[0marray_vals\u001b[0m\u001b[0;34m,\u001b[0m \u001b[0mrun_metadata\u001b[0m\u001b[0;34m=\u001b[0m\u001b[0mself\u001b[0m\u001b[0;34m.\u001b[0m\u001b[0mrun_metadata\u001b[0m\u001b[0;34m)\u001b[0m\u001b[0;34m\u001b[0m\u001b[0;34m\u001b[0m\u001b[0m\n\u001b[1;32m   2936\u001b[0m         \u001b[0;32melse\u001b[0m\u001b[0;34m:\u001b[0m\u001b[0;34m\u001b[0m\u001b[0;34m\u001b[0m\u001b[0m\n\u001b[0;32m-> 2937\u001b[0;31m             \u001b[0mfetched\u001b[0m \u001b[0;34m=\u001b[0m \u001b[0mself\u001b[0m\u001b[0;34m.\u001b[0m\u001b[0m_callable_fn\u001b[0m\u001b[0;34m(\u001b[0m\u001b[0;34m*\u001b[0m\u001b[0marray_vals\u001b[0m\u001b[0;34m)\u001b[0m\u001b[0;34m\u001b[0m\u001b[0;34m\u001b[0m\u001b[0m\n\u001b[0m\u001b[1;32m   2938\u001b[0m         \u001b[0;32mreturn\u001b[0m \u001b[0mfetched\u001b[0m\u001b[0;34m[\u001b[0m\u001b[0;34m:\u001b[0m\u001b[0mlen\u001b[0m\u001b[0;34m(\u001b[0m\u001b[0mself\u001b[0m\u001b[0;34m.\u001b[0m\u001b[0moutputs\u001b[0m\u001b[0;34m)\u001b[0m\u001b[0;34m]\u001b[0m\u001b[0;34m\u001b[0m\u001b[0;34m\u001b[0m\u001b[0m\n\u001b[1;32m   2939\u001b[0m \u001b[0;34m\u001b[0m\u001b[0m\n",
            "\u001b[0;32m/usr/local/lib/python3.6/dist-packages/tensorflow/python/client/session.py\u001b[0m in \u001b[0;36m__call__\u001b[0;34m(self, *args, **kwargs)\u001b[0m\n\u001b[1;32m   1456\u001b[0m         ret = tf_session.TF_SessionRunCallable(self._session._session,\n\u001b[1;32m   1457\u001b[0m                                                \u001b[0mself\u001b[0m\u001b[0;34m.\u001b[0m\u001b[0m_handle\u001b[0m\u001b[0;34m,\u001b[0m \u001b[0margs\u001b[0m\u001b[0;34m,\u001b[0m\u001b[0;34m\u001b[0m\u001b[0;34m\u001b[0m\u001b[0m\n\u001b[0;32m-> 1458\u001b[0;31m                                                run_metadata_ptr)\n\u001b[0m\u001b[1;32m   1459\u001b[0m         \u001b[0;32mif\u001b[0m \u001b[0mrun_metadata\u001b[0m\u001b[0;34m:\u001b[0m\u001b[0;34m\u001b[0m\u001b[0;34m\u001b[0m\u001b[0m\n\u001b[1;32m   1460\u001b[0m           \u001b[0mproto_data\u001b[0m \u001b[0;34m=\u001b[0m \u001b[0mtf_session\u001b[0m\u001b[0;34m.\u001b[0m\u001b[0mTF_GetBuffer\u001b[0m\u001b[0;34m(\u001b[0m\u001b[0mrun_metadata_ptr\u001b[0m\u001b[0;34m)\u001b[0m\u001b[0;34m\u001b[0m\u001b[0;34m\u001b[0m\u001b[0m\n",
            "\u001b[0;31mKeyboardInterrupt\u001b[0m: "
          ]
        }
      ]
    },
    {
      "cell_type": "markdown",
      "metadata": {
        "id": "0irbTdiF10Rq",
        "colab_type": "text"
      },
      "source": [
        "#### Evaluate"
      ]
    },
    {
      "cell_type": "code",
      "metadata": {
        "id": "y1N5BOZr10Rr",
        "colab_type": "code",
        "colab": {}
      },
      "source": [
        "# Create a test set with 1,000 examples\n",
        "\n",
        "i = 0\n",
        "for test_set, test_labels in generator(x_train, y_train, batch_size=1000): \n",
        "\n",
        "    i += 1\n",
        "\n",
        "    if i > 1:\n",
        "        break"
      ],
      "execution_count": 0,
      "outputs": []
    },
    {
      "cell_type": "code",
      "metadata": {
        "id": "AXcQK1Rz10Rw",
        "colab_type": "code",
        "colab": {}
      },
      "source": [
        "model.evaluate(test_set, test_labels)"
      ],
      "execution_count": 0,
      "outputs": []
    },
    {
      "cell_type": "code",
      "metadata": {
        "id": "8TdZpqvY10Ry",
        "colab_type": "code",
        "colab": {}
      },
      "source": [
        "test_pred = model.predict(test_set)"
      ],
      "execution_count": 0,
      "outputs": []
    },
    {
      "cell_type": "code",
      "metadata": {
        "id": "-pv1_J2X10R0",
        "colab_type": "code",
        "colab": {}
      },
      "source": [
        "test_pred_labels = convert_output(test_pred)\n",
        "test_true_labels = convert_output(test_labels)\n",
        "\n",
        "# print(test_pred_labels)"
      ],
      "execution_count": 0,
      "outputs": []
    },
    {
      "cell_type": "code",
      "metadata": {
        "id": "PJsSYb7a10R3",
        "colab_type": "code",
        "colab": {}
      },
      "source": [
        "ref = 800\n",
        "print (\"Predicted: \", test_pred_labels[ref])\n",
        "print (\"Ground Truth: \", test_true_labels[ref])\n",
        "\n",
        "plt.imshow(test_set[ref][:, :, 0], cmap='gray')"
      ],
      "execution_count": 0,
      "outputs": []
    },
    {
      "cell_type": "markdown",
      "metadata": {
        "id": "HPhoNDEn10R5",
        "colab_type": "text"
      },
      "source": [
        "We can see that the individual predictions are above 99.5% for all digits, but the true error will be higher than that since any digit that we misclassify will be enough to render our prediction useless.\n",
        "\n",
        "So we need to evaluate the whole prediction as either right or wrong."
      ]
    },
    {
      "cell_type": "code",
      "metadata": {
        "id": "Or0KgOhg10R6",
        "colab_type": "code",
        "colab": {}
      },
      "source": [
        "accuracy = accuracy_score(test_true_labels, test_pred_labels)"
      ],
      "execution_count": 0,
      "outputs": []
    },
    {
      "cell_type": "code",
      "metadata": {
        "id": "rVPxj6_U10R8",
        "colab_type": "code",
        "colab": {}
      },
      "source": [
        "print( \"Accuracy: \", accuracy*100, \"%\")"
      ],
      "execution_count": 0,
      "outputs": []
    },
    {
      "cell_type": "markdown",
      "metadata": {
        "id": "-xQl61RR10R_",
        "colab_type": "text"
      },
      "source": [
        "#### Save  and load our model"
      ]
    },
    {
      "cell_type": "code",
      "metadata": {
        "id": "5wIQ6h2b10SA",
        "colab_type": "code",
        "colab": {}
      },
      "source": [
        "model.save_weights('step1.h5')"
      ],
      "execution_count": 0,
      "outputs": []
    },
    {
      "cell_type": "code",
      "metadata": {
        "id": "m__wgWRw10SC",
        "colab_type": "code",
        "colab": {}
      },
      "source": [
        "model.load_weights('step1.h5')"
      ],
      "execution_count": 0,
      "outputs": []
    },
    {
      "cell_type": "code",
      "metadata": {
        "id": "--fqUjNG7B-o",
        "colab_type": "code",
        "colab": {}
      },
      "source": [
        "import numpy as np\n",
        "print('Label: ', y_train[100])\n",
        "plt.imshow(x_train[100], cmap=plt.cm.bone);\n",
        "x_train.shape"
      ],
      "execution_count": 0,
      "outputs": []
    },
    {
      "cell_type": "code",
      "metadata": {
        "id": "H9BDCxoJgpFH",
        "colab_type": "code",
        "colab": {}
      },
      "source": [
        "from google.colab import files\n",
        "uploaded = files.upload()"
      ],
      "execution_count": 0,
      "outputs": []
    },
    {
      "cell_type": "code",
      "metadata": {
        "id": "ahD0_oBE9YPG",
        "colab_type": "code",
        "colab": {}
      },
      "source": [
        "# import the necessary packages\n",
        "from imutils.perspective import four_point_transform\n",
        "from imutils import contours\n",
        "import imutils\n",
        "import cv2"
      ],
      "execution_count": 0,
      "outputs": []
    },
    {
      "cell_type": "code",
      "metadata": {
        "id": "UMshA_n189sh",
        "colab_type": "code",
        "colab": {}
      },
      "source": [
        "image = cv2.imread(\"m.png\")\n",
        "\n",
        "import numpy as np\n",
        "# pre-process the image by resizing it, converting it to\n",
        "# graycale, blurring it, and computing an edge map\n",
        "image1 = cv2.resize(image, (28*5, 28))\n",
        "\n",
        "gray = cv2.cvtColor(image1, cv2.COLOR_BGR2GRAY)\n",
        "blurred = cv2.GaussianBlur(gray, (5, 5), 0)\n",
        "edged = cv2.Canny(blurred, 50, 200, 255)\n",
        "plt.imshow(gray, cmap=plt.cm.bone)\n",
        "gray.shape"
      ],
      "execution_count": 0,
      "outputs": []
    },
    {
      "cell_type": "code",
      "metadata": {
        "id": "pBfkezFN89w0",
        "colab_type": "code",
        "colab": {}
      },
      "source": [
        "test_pred = model.predict(gray.reshape([-1,28,140,1]))"
      ],
      "execution_count": 0,
      "outputs": []
    },
    {
      "cell_type": "code",
      "metadata": {
        "id": "ISaJNt2e9WlI",
        "colab_type": "code",
        "colab": {}
      },
      "source": [
        "test_pred_labels = convert_output(test_pred)"
      ],
      "execution_count": 0,
      "outputs": []
    },
    {
      "cell_type": "code",
      "metadata": {
        "id": "lf_dK3R-89qc",
        "colab_type": "code",
        "colab": {}
      },
      "source": [
        "print(test_pred_labels)"
      ],
      "execution_count": 0,
      "outputs": []
    },
    {
      "cell_type": "code",
      "metadata": {
        "id": "QqYqZ4DD7Cne",
        "colab_type": "code",
        "outputId": "92db8f34-6edc-4189-cad7-8a0baf96cb50",
        "colab": {
          "base_uri": "https://localhost:8080/",
          "height": 34
        }
      },
      "source": [
        "ref = 0\n",
        "print (\"Predicted: \", test_pred_labels[ref])"
      ],
      "execution_count": 0,
      "outputs": [
        {
          "output_type": "stream",
          "text": [
            "Predicted:  23288\n"
          ],
          "name": "stdout"
        }
      ]
    },
    {
      "cell_type": "markdown",
      "metadata": {
        "colab_type": "text",
        "id": "d3bnCB6haJT7"
      },
      "source": [
        "#### New model"
      ]
    },
    {
      "cell_type": "code",
      "metadata": {
        "id": "KDuMoKdvaVWa",
        "colab_type": "code",
        "outputId": "2901d517-460e-4d95-9b83-0f04f28157ed",
        "colab": {
          "resources": {
            "http://localhost:8080/nbextensions/google.colab/files.js": {
              "data": "Ly8gQ29weXJpZ2h0IDIwMTcgR29vZ2xlIExMQwovLwovLyBMaWNlbnNlZCB1bmRlciB0aGUgQXBhY2hlIExpY2Vuc2UsIFZlcnNpb24gMi4wICh0aGUgIkxpY2Vuc2UiKTsKLy8geW91IG1heSBub3QgdXNlIHRoaXMgZmlsZSBleGNlcHQgaW4gY29tcGxpYW5jZSB3aXRoIHRoZSBMaWNlbnNlLgovLyBZb3UgbWF5IG9idGFpbiBhIGNvcHkgb2YgdGhlIExpY2Vuc2UgYXQKLy8KLy8gICAgICBodHRwOi8vd3d3LmFwYWNoZS5vcmcvbGljZW5zZXMvTElDRU5TRS0yLjAKLy8KLy8gVW5sZXNzIHJlcXVpcmVkIGJ5IGFwcGxpY2FibGUgbGF3IG9yIGFncmVlZCB0byBpbiB3cml0aW5nLCBzb2Z0d2FyZQovLyBkaXN0cmlidXRlZCB1bmRlciB0aGUgTGljZW5zZSBpcyBkaXN0cmlidXRlZCBvbiBhbiAiQVMgSVMiIEJBU0lTLAovLyBXSVRIT1VUIFdBUlJBTlRJRVMgT1IgQ09ORElUSU9OUyBPRiBBTlkgS0lORCwgZWl0aGVyIGV4cHJlc3Mgb3IgaW1wbGllZC4KLy8gU2VlIHRoZSBMaWNlbnNlIGZvciB0aGUgc3BlY2lmaWMgbGFuZ3VhZ2UgZ292ZXJuaW5nIHBlcm1pc3Npb25zIGFuZAovLyBsaW1pdGF0aW9ucyB1bmRlciB0aGUgTGljZW5zZS4KCi8qKgogKiBAZmlsZW92ZXJ2aWV3IEhlbHBlcnMgZm9yIGdvb2dsZS5jb2xhYiBQeXRob24gbW9kdWxlLgogKi8KKGZ1bmN0aW9uKHNjb3BlKSB7CmZ1bmN0aW9uIHNwYW4odGV4dCwgc3R5bGVBdHRyaWJ1dGVzID0ge30pIHsKICBjb25zdCBlbGVtZW50ID0gZG9jdW1lbnQuY3JlYXRlRWxlbWVudCgnc3BhbicpOwogIGVsZW1lbnQudGV4dENvbnRlbnQgPSB0ZXh0OwogIGZvciAoY29uc3Qga2V5IG9mIE9iamVjdC5rZXlzKHN0eWxlQXR0cmlidXRlcykpIHsKICAgIGVsZW1lbnQuc3R5bGVba2V5XSA9IHN0eWxlQXR0cmlidXRlc1trZXldOwogIH0KICByZXR1cm4gZWxlbWVudDsKfQoKLy8gTWF4IG51bWJlciBvZiBieXRlcyB3aGljaCB3aWxsIGJlIHVwbG9hZGVkIGF0IGEgdGltZS4KY29uc3QgTUFYX1BBWUxPQURfU0laRSA9IDEwMCAqIDEwMjQ7Ci8vIE1heCBhbW91bnQgb2YgdGltZSB0byBibG9jayB3YWl0aW5nIGZvciB0aGUgdXNlci4KY29uc3QgRklMRV9DSEFOR0VfVElNRU9VVF9NUyA9IDMwICogMTAwMDsKCmZ1bmN0aW9uIF91cGxvYWRGaWxlcyhpbnB1dElkLCBvdXRwdXRJZCkgewogIGNvbnN0IHN0ZXBzID0gdXBsb2FkRmlsZXNTdGVwKGlucHV0SWQsIG91dHB1dElkKTsKICBjb25zdCBvdXRwdXRFbGVtZW50ID0gZG9jdW1lbnQuZ2V0RWxlbWVudEJ5SWQob3V0cHV0SWQpOwogIC8vIENhY2hlIHN0ZXBzIG9uIHRoZSBvdXRwdXRFbGVtZW50IHRvIG1ha2UgaXQgYXZhaWxhYmxlIGZvciB0aGUgbmV4dCBjYWxsCiAgLy8gdG8gdXBsb2FkRmlsZXNDb250aW51ZSBmcm9tIFB5dGhvbi4KICBvdXRwdXRFbGVtZW50LnN0ZXBzID0gc3RlcHM7CgogIHJldHVybiBfdXBsb2FkRmlsZXNDb250aW51ZShvdXRwdXRJZCk7Cn0KCi8vIFRoaXMgaXMgcm91Z2hseSBhbiBhc3luYyBnZW5lcmF0b3IgKG5vdCBzdXBwb3J0ZWQgaW4gdGhlIGJyb3dzZXIgeWV0KSwKLy8gd2hlcmUgdGhlcmUgYXJlIG11bHRpcGxlIGFzeW5jaHJvbm91cyBzdGVwcyBhbmQgdGhlIFB5dGhvbiBzaWRlIGlzIGdvaW5nCi8vIHRvIHBvbGwgZm9yIGNvbXBsZXRpb24gb2YgZWFjaCBzdGVwLgovLyBUaGlzIHVzZXMgYSBQcm9taXNlIHRvIGJsb2NrIHRoZSBweXRob24gc2lkZSBvbiBjb21wbGV0aW9uIG9mIGVhY2ggc3RlcCwKLy8gdGhlbiBwYXNzZXMgdGhlIHJlc3VsdCBvZiB0aGUgcHJldmlvdXMgc3RlcCBhcyB0aGUgaW5wdXQgdG8gdGhlIG5leHQgc3RlcC4KZnVuY3Rpb24gX3VwbG9hZEZpbGVzQ29udGludWUob3V0cHV0SWQpIHsKICBjb25zdCBvdXRwdXRFbGVtZW50ID0gZG9jdW1lbnQuZ2V0RWxlbWVudEJ5SWQob3V0cHV0SWQpOwogIGNvbnN0IHN0ZXBzID0gb3V0cHV0RWxlbWVudC5zdGVwczsKCiAgY29uc3QgbmV4dCA9IHN0ZXBzLm5leHQob3V0cHV0RWxlbWVudC5sYXN0UHJvbWlzZVZhbHVlKTsKICByZXR1cm4gUHJvbWlzZS5yZXNvbHZlKG5leHQudmFsdWUucHJvbWlzZSkudGhlbigodmFsdWUpID0+IHsKICAgIC8vIENhY2hlIHRoZSBsYXN0IHByb21pc2UgdmFsdWUgdG8gbWFrZSBpdCBhdmFpbGFibGUgdG8gdGhlIG5leHQKICAgIC8vIHN0ZXAgb2YgdGhlIGdlbmVyYXRvci4KICAgIG91dHB1dEVsZW1lbnQubGFzdFByb21pc2VWYWx1ZSA9IHZhbHVlOwogICAgcmV0dXJuIG5leHQudmFsdWUucmVzcG9uc2U7CiAgfSk7Cn0KCi8qKgogKiBHZW5lcmF0b3IgZnVuY3Rpb24gd2hpY2ggaXMgY2FsbGVkIGJldHdlZW4gZWFjaCBhc3luYyBzdGVwIG9mIHRoZSB1cGxvYWQKICogcHJvY2Vzcy4KICogQHBhcmFtIHtzdHJpbmd9IGlucHV0SWQgRWxlbWVudCBJRCBvZiB0aGUgaW5wdXQgZmlsZSBwaWNrZXIgZWxlbWVudC4KICogQHBhcmFtIHtzdHJpbmd9IG91dHB1dElkIEVsZW1lbnQgSUQgb2YgdGhlIG91dHB1dCBkaXNwbGF5LgogKiBAcmV0dXJuIHshSXRlcmFibGU8IU9iamVjdD59IEl0ZXJhYmxlIG9mIG5leHQgc3RlcHMuCiAqLwpmdW5jdGlvbiogdXBsb2FkRmlsZXNTdGVwKGlucHV0SWQsIG91dHB1dElkKSB7CiAgY29uc3QgaW5wdXRFbGVtZW50ID0gZG9jdW1lbnQuZ2V0RWxlbWVudEJ5SWQoaW5wdXRJZCk7CiAgaW5wdXRFbGVtZW50LmRpc2FibGVkID0gZmFsc2U7CgogIGNvbnN0IG91dHB1dEVsZW1lbnQgPSBkb2N1bWVudC5nZXRFbGVtZW50QnlJZChvdXRwdXRJZCk7CiAgb3V0cHV0RWxlbWVudC5pbm5lckhUTUwgPSAnJzsKCiAgY29uc3QgcGlja2VkUHJvbWlzZSA9IG5ldyBQcm9taXNlKChyZXNvbHZlKSA9PiB7CiAgICBpbnB1dEVsZW1lbnQuYWRkRXZlbnRMaXN0ZW5lcignY2hhbmdlJywgKGUpID0+IHsKICAgICAgcmVzb2x2ZShlLnRhcmdldC5maWxlcyk7CiAgICB9KTsKICB9KTsKCiAgY29uc3QgY2FuY2VsID0gZG9jdW1lbnQuY3JlYXRlRWxlbWVudCgnYnV0dG9uJyk7CiAgaW5wdXRFbGVtZW50LnBhcmVudEVsZW1lbnQuYXBwZW5kQ2hpbGQoY2FuY2VsKTsKICBjYW5jZWwudGV4dENvbnRlbnQgPSAnQ2FuY2VsIHVwbG9hZCc7CiAgY29uc3QgY2FuY2VsUHJvbWlzZSA9IG5ldyBQcm9taXNlKChyZXNvbHZlKSA9PiB7CiAgICBjYW5jZWwub25jbGljayA9ICgpID0+IHsKICAgICAgcmVzb2x2ZShudWxsKTsKICAgIH07CiAgfSk7CgogIC8vIENhbmNlbCB1cGxvYWQgaWYgdXNlciBoYXNuJ3QgcGlja2VkIGFueXRoaW5nIGluIHRpbWVvdXQuCiAgY29uc3QgdGltZW91dFByb21pc2UgPSBuZXcgUHJvbWlzZSgocmVzb2x2ZSkgPT4gewogICAgc2V0VGltZW91dCgoKSA9PiB7CiAgICAgIHJlc29sdmUobnVsbCk7CiAgICB9LCBGSUxFX0NIQU5HRV9USU1FT1VUX01TKTsKICB9KTsKCiAgLy8gV2FpdCBmb3IgdGhlIHVzZXIgdG8gcGljayB0aGUgZmlsZXMuCiAgY29uc3QgZmlsZXMgPSB5aWVsZCB7CiAgICBwcm9taXNlOiBQcm9taXNlLnJhY2UoW3BpY2tlZFByb21pc2UsIHRpbWVvdXRQcm9taXNlLCBjYW5jZWxQcm9taXNlXSksCiAgICByZXNwb25zZTogewogICAgICBhY3Rpb246ICdzdGFydGluZycsCiAgICB9CiAgfTsKCiAgaWYgKCFmaWxlcykgewogICAgcmV0dXJuIHsKICAgICAgcmVzcG9uc2U6IHsKICAgICAgICBhY3Rpb246ICdjb21wbGV0ZScsCiAgICAgIH0KICAgIH07CiAgfQoKICBjYW5jZWwucmVtb3ZlKCk7CgogIC8vIERpc2FibGUgdGhlIGlucHV0IGVsZW1lbnQgc2luY2UgZnVydGhlciBwaWNrcyBhcmUgbm90IGFsbG93ZWQuCiAgaW5wdXRFbGVtZW50LmRpc2FibGVkID0gdHJ1ZTsKCiAgZm9yIChjb25zdCBmaWxlIG9mIGZpbGVzKSB7CiAgICBjb25zdCBsaSA9IGRvY3VtZW50LmNyZWF0ZUVsZW1lbnQoJ2xpJyk7CiAgICBsaS5hcHBlbmQoc3BhbihmaWxlLm5hbWUsIHtmb250V2VpZ2h0OiAnYm9sZCd9KSk7CiAgICBsaS5hcHBlbmQoc3BhbigKICAgICAgICBgKCR7ZmlsZS50eXBlIHx8ICduL2EnfSkgLSAke2ZpbGUuc2l6ZX0gYnl0ZXMsIGAgKwogICAgICAgIGBsYXN0IG1vZGlmaWVkOiAkewogICAgICAgICAgICBmaWxlLmxhc3RNb2RpZmllZERhdGUgPyBmaWxlLmxhc3RNb2RpZmllZERhdGUudG9Mb2NhbGVEYXRlU3RyaW5nKCkgOgogICAgICAgICAgICAgICAgICAgICAgICAgICAgICAgICAgICAnbi9hJ30gLSBgKSk7CiAgICBjb25zdCBwZXJjZW50ID0gc3BhbignMCUgZG9uZScpOwogICAgbGkuYXBwZW5kQ2hpbGQocGVyY2VudCk7CgogICAgb3V0cHV0RWxlbWVudC5hcHBlbmRDaGlsZChsaSk7CgogICAgY29uc3QgZmlsZURhdGFQcm9taXNlID0gbmV3IFByb21pc2UoKHJlc29sdmUpID0+IHsKICAgICAgY29uc3QgcmVhZGVyID0gbmV3IEZpbGVSZWFkZXIoKTsKICAgICAgcmVhZGVyLm9ubG9hZCA9IChlKSA9PiB7CiAgICAgICAgcmVzb2x2ZShlLnRhcmdldC5yZXN1bHQpOwogICAgICB9OwogICAgICByZWFkZXIucmVhZEFzQXJyYXlCdWZmZXIoZmlsZSk7CiAgICB9KTsKICAgIC8vIFdhaXQgZm9yIHRoZSBkYXRhIHRvIGJlIHJlYWR5LgogICAgbGV0IGZpbGVEYXRhID0geWllbGQgewogICAgICBwcm9taXNlOiBmaWxlRGF0YVByb21pc2UsCiAgICAgIHJlc3BvbnNlOiB7CiAgICAgICAgYWN0aW9uOiAnY29udGludWUnLAogICAgICB9CiAgICB9OwoKICAgIC8vIFVzZSBhIGNodW5rZWQgc2VuZGluZyB0byBhdm9pZCBtZXNzYWdlIHNpemUgbGltaXRzLiBTZWUgYi82MjExNTY2MC4KICAgIGxldCBwb3NpdGlvbiA9IDA7CiAgICB3aGlsZSAocG9zaXRpb24gPCBmaWxlRGF0YS5ieXRlTGVuZ3RoKSB7CiAgICAgIGNvbnN0IGxlbmd0aCA9IE1hdGgubWluKGZpbGVEYXRhLmJ5dGVMZW5ndGggLSBwb3NpdGlvbiwgTUFYX1BBWUxPQURfU0laRSk7CiAgICAgIGNvbnN0IGNodW5rID0gbmV3IFVpbnQ4QXJyYXkoZmlsZURhdGEsIHBvc2l0aW9uLCBsZW5ndGgpOwogICAgICBwb3NpdGlvbiArPSBsZW5ndGg7CgogICAgICBjb25zdCBiYXNlNjQgPSBidG9hKFN0cmluZy5mcm9tQ2hhckNvZGUuYXBwbHkobnVsbCwgY2h1bmspKTsKICAgICAgeWllbGQgewogICAgICAgIHJlc3BvbnNlOiB7CiAgICAgICAgICBhY3Rpb246ICdhcHBlbmQnLAogICAgICAgICAgZmlsZTogZmlsZS5uYW1lLAogICAgICAgICAgZGF0YTogYmFzZTY0LAogICAgICAgIH0sCiAgICAgIH07CiAgICAgIHBlcmNlbnQudGV4dENvbnRlbnQgPQogICAgICAgICAgYCR7TWF0aC5yb3VuZCgocG9zaXRpb24gLyBmaWxlRGF0YS5ieXRlTGVuZ3RoKSAqIDEwMCl9JSBkb25lYDsKICAgIH0KICB9CgogIC8vIEFsbCBkb25lLgogIHlpZWxkIHsKICAgIHJlc3BvbnNlOiB7CiAgICAgIGFjdGlvbjogJ2NvbXBsZXRlJywKICAgIH0KICB9Owp9CgpzY29wZS5nb29nbGUgPSBzY29wZS5nb29nbGUgfHwge307CnNjb3BlLmdvb2dsZS5jb2xhYiA9IHNjb3BlLmdvb2dsZS5jb2xhYiB8fCB7fTsKc2NvcGUuZ29vZ2xlLmNvbGFiLl9maWxlcyA9IHsKICBfdXBsb2FkRmlsZXMsCiAgX3VwbG9hZEZpbGVzQ29udGludWUsCn07Cn0pKHNlbGYpOwo=",
              "ok": true,
              "headers": [
                [
                  "content-type",
                  "application/javascript"
                ]
              ],
              "status": 200,
              "status_text": ""
            }
          },
          "base_uri": "https://localhost:8080/",
          "height": 74
        }
      },
      "source": [
        "from google.colab import files\n",
        "uploaded = files.upload()"
      ],
      "execution_count": 0,
      "outputs": [
        {
          "output_type": "display_data",
          "data": {
            "text/html": [
              "\n",
              "     <input type=\"file\" id=\"files-ed953ac4-7885-4a93-83fa-71b0c5019841\" name=\"files[]\" multiple disabled />\n",
              "     <output id=\"result-ed953ac4-7885-4a93-83fa-71b0c5019841\">\n",
              "      Upload widget is only available when the cell has been executed in the\n",
              "      current browser session. Please rerun this cell to enable.\n",
              "      </output>\n",
              "      <script src=\"/nbextensions/google.colab/files.js\"></script> "
            ],
            "text/plain": [
              "<IPython.core.display.HTML object>"
            ]
          },
          "metadata": {
            "tags": []
          }
        },
        {
          "output_type": "stream",
          "text": [
            "Saving step2.h5 to step2.h5\n"
          ],
          "name": "stdout"
        }
      ]
    },
    {
      "cell_type": "code",
      "metadata": {
        "id": "1TzPEI9Wgj8b",
        "colab_type": "code",
        "colab": {}
      },
      "source": [
        "# Based on Model from: http://static.googleusercontent.com/media/research.google.com/en//pubs/archive/42241.pdf\n",
        "\n",
        "def get_new_model(input_shape=(54, 54, 3), p=0.5, n_class=11, n_len=6):\n",
        "\n",
        "    inputs = Input(((input_shape[0], input_shape[1], input_shape[2])))\n",
        "    \n",
        "    x = BatchNormalization()(inputs)\n",
        "    x = Convolution2D(48, 5, activation='relu', padding='same', strides=(1, 1))(x)\n",
        "    x = MaxPooling2D(pool_size=(2, 2), strides=(2, 2))(x)\n",
        "    x = Dropout(p/4)(x)\n",
        "    \n",
        "    x = BatchNormalization()(x)\n",
        "    x = Convolution2D(64, 5, activation='relu', padding='same', strides=(1, 1))(x)\n",
        "    x = MaxPooling2D(pool_size=(2, 2), strides=(1, 1))(x)\n",
        "    x = Dropout(p/4)(x)\n",
        "\n",
        "    x = BatchNormalization()(x)\n",
        "    x = Convolution2D(128, 5, activation='relu', padding='same', strides=(1, 1))(x)\n",
        "    x = MaxPooling2D(pool_size=(2, 2), strides=(2, 2))(x)\n",
        "    x = Dropout(p/2)(x)\n",
        "\n",
        "    x = BatchNormalization()(x)\n",
        "    x = Convolution2D(160, 5, activation='relu', padding='same', strides=(1, 1))(x)\n",
        "    x = MaxPooling2D(pool_size=(2, 2), strides=(1, 1))(x)\n",
        "    x = Dropout(p/2)(x)\n",
        "\n",
        "    x = BatchNormalization()(x)\n",
        "    x = Convolution2D(192, 5, activation='relu', padding='same', strides=(1, 1))(x)\n",
        "    x = MaxPooling2D(pool_size=(2, 2), strides=(2, 2))(x)\n",
        "    x = Dropout(p)(x)\n",
        "\n",
        "    x = BatchNormalization()(x)\n",
        "    x = Convolution2D(192, 5, activation='relu', padding='same', strides=(1, 1))(x)\n",
        "    x = MaxPooling2D(pool_size=(2, 2), strides=(1, 1))(x)\n",
        "    x = Dropout(p)(x)\n",
        "    \n",
        "    x = BatchNormalization()(x)\n",
        "    x = Convolution2D(192, 5, activation='relu', padding='same', strides=(1, 1))(x)\n",
        "    x = MaxPooling2D(pool_size=(2, 2), strides=(2, 2))(x)\n",
        "    x = Dropout(p)(x)\n",
        "\n",
        "    x = BatchNormalization()(x)\n",
        "    x = Convolution2D(192, 5, activation='relu', padding='same', strides=(1, 1))(x)\n",
        "    x = MaxPooling2D(pool_size=(2, 2), strides=(1, 1))(x)\n",
        "    x = Dropout(p)(x)\n",
        "    \n",
        "    x = Flatten()(x)\n",
        "    x = Dense(3072, activation='relu')(x)\n",
        "    x = Dense(3072, activation='relu')(x)\n",
        "\n",
        "    l = Dense(n_len, activation='softmax')(x)\n",
        "    c1 = Dense(n_class, activation='softmax')(x)\n",
        "    c2 = Dense(n_class, activation='softmax')(x)\n",
        "    c3 = Dense(n_class, activation='softmax')(x)\n",
        "    c4 = Dense(n_class, activation='softmax')(x)\n",
        "    c5 = Dense(n_class, activation='softmax')(x)\n",
        "    \n",
        "    output = [l, c1, c2, c3, c4, c5]\n",
        "    \n",
        "    model = Model(inputs=inputs, outputs=output)\n",
        "\n",
        "    return model"
      ],
      "execution_count": 0,
      "outputs": []
    },
    {
      "cell_type": "code",
      "metadata": {
        "id": "H-8WP32Agsf5",
        "colab_type": "code",
        "colab": {}
      },
      "source": [
        "new_model = get_new_model()"
      ],
      "execution_count": 0,
      "outputs": []
    },
    {
      "cell_type": "code",
      "metadata": {
        "id": "BzsO68K_gsc7",
        "colab_type": "code",
        "outputId": "60382d22-6d18-434d-e9e8-b8a9cbcc9a06",
        "colab": {
          "base_uri": "https://localhost:8080/",
          "height": 1000
        }
      },
      "source": [
        "new_model.summary()"
      ],
      "execution_count": 0,
      "outputs": [
        {
          "output_type": "stream",
          "text": [
            "Model: \"model_3\"\n",
            "__________________________________________________________________________________________________\n",
            "Layer (type)                    Output Shape         Param #     Connected to                     \n",
            "==================================================================================================\n",
            "input_3 (InputLayer)            (None, 54, 54, 3)    0                                            \n",
            "__________________________________________________________________________________________________\n",
            "batch_normalization_13 (BatchNo (None, 54, 54, 3)    12          input_3[0][0]                    \n",
            "__________________________________________________________________________________________________\n",
            "conv2d_13 (Conv2D)              (None, 54, 54, 48)   3648        batch_normalization_13[0][0]     \n",
            "__________________________________________________________________________________________________\n",
            "max_pooling2d_13 (MaxPooling2D) (None, 27, 27, 48)   0           conv2d_13[0][0]                  \n",
            "__________________________________________________________________________________________________\n",
            "dropout_13 (Dropout)            (None, 27, 27, 48)   0           max_pooling2d_13[0][0]           \n",
            "__________________________________________________________________________________________________\n",
            "batch_normalization_14 (BatchNo (None, 27, 27, 48)   192         dropout_13[0][0]                 \n",
            "__________________________________________________________________________________________________\n",
            "conv2d_14 (Conv2D)              (None, 27, 27, 64)   76864       batch_normalization_14[0][0]     \n",
            "__________________________________________________________________________________________________\n",
            "max_pooling2d_14 (MaxPooling2D) (None, 26, 26, 64)   0           conv2d_14[0][0]                  \n",
            "__________________________________________________________________________________________________\n",
            "dropout_14 (Dropout)            (None, 26, 26, 64)   0           max_pooling2d_14[0][0]           \n",
            "__________________________________________________________________________________________________\n",
            "batch_normalization_15 (BatchNo (None, 26, 26, 64)   256         dropout_14[0][0]                 \n",
            "__________________________________________________________________________________________________\n",
            "conv2d_15 (Conv2D)              (None, 26, 26, 128)  204928      batch_normalization_15[0][0]     \n",
            "__________________________________________________________________________________________________\n",
            "max_pooling2d_15 (MaxPooling2D) (None, 13, 13, 128)  0           conv2d_15[0][0]                  \n",
            "__________________________________________________________________________________________________\n",
            "dropout_15 (Dropout)            (None, 13, 13, 128)  0           max_pooling2d_15[0][0]           \n",
            "__________________________________________________________________________________________________\n",
            "batch_normalization_16 (BatchNo (None, 13, 13, 128)  512         dropout_15[0][0]                 \n",
            "__________________________________________________________________________________________________\n",
            "conv2d_16 (Conv2D)              (None, 13, 13, 160)  512160      batch_normalization_16[0][0]     \n",
            "__________________________________________________________________________________________________\n",
            "max_pooling2d_16 (MaxPooling2D) (None, 12, 12, 160)  0           conv2d_16[0][0]                  \n",
            "__________________________________________________________________________________________________\n",
            "dropout_16 (Dropout)            (None, 12, 12, 160)  0           max_pooling2d_16[0][0]           \n",
            "__________________________________________________________________________________________________\n",
            "batch_normalization_17 (BatchNo (None, 12, 12, 160)  640         dropout_16[0][0]                 \n",
            "__________________________________________________________________________________________________\n",
            "conv2d_17 (Conv2D)              (None, 12, 12, 192)  768192      batch_normalization_17[0][0]     \n",
            "__________________________________________________________________________________________________\n",
            "max_pooling2d_17 (MaxPooling2D) (None, 6, 6, 192)    0           conv2d_17[0][0]                  \n",
            "__________________________________________________________________________________________________\n",
            "dropout_17 (Dropout)            (None, 6, 6, 192)    0           max_pooling2d_17[0][0]           \n",
            "__________________________________________________________________________________________________\n",
            "batch_normalization_18 (BatchNo (None, 6, 6, 192)    768         dropout_17[0][0]                 \n",
            "__________________________________________________________________________________________________\n",
            "conv2d_18 (Conv2D)              (None, 6, 6, 192)    921792      batch_normalization_18[0][0]     \n",
            "__________________________________________________________________________________________________\n",
            "max_pooling2d_18 (MaxPooling2D) (None, 5, 5, 192)    0           conv2d_18[0][0]                  \n",
            "__________________________________________________________________________________________________\n",
            "dropout_18 (Dropout)            (None, 5, 5, 192)    0           max_pooling2d_18[0][0]           \n",
            "__________________________________________________________________________________________________\n",
            "batch_normalization_19 (BatchNo (None, 5, 5, 192)    768         dropout_18[0][0]                 \n",
            "__________________________________________________________________________________________________\n",
            "conv2d_19 (Conv2D)              (None, 5, 5, 192)    921792      batch_normalization_19[0][0]     \n",
            "__________________________________________________________________________________________________\n",
            "max_pooling2d_19 (MaxPooling2D) (None, 2, 2, 192)    0           conv2d_19[0][0]                  \n",
            "__________________________________________________________________________________________________\n",
            "dropout_19 (Dropout)            (None, 2, 2, 192)    0           max_pooling2d_19[0][0]           \n",
            "__________________________________________________________________________________________________\n",
            "batch_normalization_20 (BatchNo (None, 2, 2, 192)    768         dropout_19[0][0]                 \n",
            "__________________________________________________________________________________________________\n",
            "conv2d_20 (Conv2D)              (None, 2, 2, 192)    921792      batch_normalization_20[0][0]     \n",
            "__________________________________________________________________________________________________\n",
            "max_pooling2d_20 (MaxPooling2D) (None, 1, 1, 192)    0           conv2d_20[0][0]                  \n",
            "__________________________________________________________________________________________________\n",
            "dropout_20 (Dropout)            (None, 1, 1, 192)    0           max_pooling2d_20[0][0]           \n",
            "__________________________________________________________________________________________________\n",
            "flatten_3 (Flatten)             (None, 192)          0           dropout_20[0][0]                 \n",
            "__________________________________________________________________________________________________\n",
            "dense_15 (Dense)                (None, 3072)         592896      flatten_3[0][0]                  \n",
            "__________________________________________________________________________________________________\n",
            "dense_16 (Dense)                (None, 3072)         9440256     dense_15[0][0]                   \n",
            "__________________________________________________________________________________________________\n",
            "dense_17 (Dense)                (None, 6)            18438       dense_16[0][0]                   \n",
            "__________________________________________________________________________________________________\n",
            "dense_18 (Dense)                (None, 11)           33803       dense_16[0][0]                   \n",
            "__________________________________________________________________________________________________\n",
            "dense_19 (Dense)                (None, 11)           33803       dense_16[0][0]                   \n",
            "__________________________________________________________________________________________________\n",
            "dense_20 (Dense)                (None, 11)           33803       dense_16[0][0]                   \n",
            "__________________________________________________________________________________________________\n",
            "dense_21 (Dense)                (None, 11)           33803       dense_16[0][0]                   \n",
            "__________________________________________________________________________________________________\n",
            "dense_22 (Dense)                (None, 11)           33803       dense_16[0][0]                   \n",
            "==================================================================================================\n",
            "Total params: 14,555,689\n",
            "Trainable params: 14,553,731\n",
            "Non-trainable params: 1,958\n",
            "__________________________________________________________________________________________________\n"
          ],
          "name": "stdout"
        }
      ]
    },
    {
      "cell_type": "code",
      "metadata": {
        "id": "rU3GZCStgsau",
        "colab_type": "code",
        "colab": {}
      },
      "source": [
        "def new_convert_output(model_output):\n",
        "    l = model_output[0]\n",
        "    digits = np.array(model_output[1:]).swapaxes(0, 1)\n",
        "    labels = []\n",
        "    for i in range(len(l)):\n",
        "        label = new_convert_label(([l[i]], digits[i, 0, :], digits[i, 1, :],\n",
        "                                  digits[i, 2, :], digits[i, 3, :], digits[i, 4, :]))\n",
        "        labels.append(label)\n",
        "\n",
        "    return labels"
      ],
      "execution_count": 0,
      "outputs": []
    },
    {
      "cell_type": "code",
      "metadata": {
        "id": "zmV6yshdicHm",
        "colab_type": "code",
        "colab": {}
      },
      "source": [
        "def new_convert_label(label):\n",
        "    l = label[0]\n",
        "    labels = label[1:]\n",
        "    n_label = \"\"\n",
        "    for digit in labels:\n",
        "        if np.argmax(digit) == 0:\n",
        "            n_digit = \"\"\n",
        "        elif np.argmax(digit) == 10:\n",
        "            n_digit = \"0\"\n",
        "        else:\n",
        "            n_digit = str(np.argmax(digit))\n",
        "        n_label += n_digit\n",
        "    return n_label"
      ],
      "execution_count": 0,
      "outputs": []
    },
    {
      "cell_type": "code",
      "metadata": {
        "id": "Fs8kQrrugxgZ",
        "colab_type": "code",
        "colab": {}
      },
      "source": [
        "optimizer = Adam(lr=1e-3)\n",
        "new_model.compile(optimizer, loss='categorical_crossentropy')\n",
        "# new_model.fit(test_imgs, test_lbls, epochs=1000, verbose=0)\n",
        "# teste_out = new_model.predict(test_imgs)"
      ],
      "execution_count": 0,
      "outputs": []
    },
    {
      "cell_type": "code",
      "metadata": {
        "id": "rsJ8CD_RgxkD",
        "colab_type": "code",
        "colab": {}
      },
      "source": [
        "new_model = get_new_model()\n",
        "optimizer = Adam(lr=1e-3)\n",
        "new_model.compile(optimizer, loss='categorical_crossentropy', metrics=['categorical_accuracy'])"
      ],
      "execution_count": 0,
      "outputs": []
    },
    {
      "cell_type": "code",
      "metadata": {
        "id": "2c0Hdb5wgxeR",
        "colab_type": "code",
        "colab": {}
      },
      "source": [
        "new_model.load_weights('step2.h5')"
      ],
      "execution_count": 0,
      "outputs": []
    },
    {
      "cell_type": "code",
      "metadata": {
        "colab_type": "code",
        "id": "k2pAdN6iaJUb",
        "colab": {}
      },
      "source": [
        "# import the necessary packages\n",
        "from imutils.perspective import four_point_transform\n",
        "from imutils import contours\n",
        "import imutils\n",
        "import cv2"
      ],
      "execution_count": 0,
      "outputs": []
    },
    {
      "cell_type": "code",
      "metadata": {
        "colab_type": "code",
        "outputId": "0d97f7a3-f532-4e6d-e901-4376bd229a17",
        "id": "FY-OZaf1aJUl",
        "colab": {
          "base_uri": "https://localhost:8080/",
          "height": 286
        }
      },
      "source": [
        "image = cv2.imread(\"1.png\")\n",
        "\n",
        "import numpy as np\n",
        "# pre-process the image by resizing it, converting it to\n",
        "# graycale, blurring it, and computing an edge map\n",
        "image2 = cv2.resize(image, (54, 54))\n",
        "\n",
        "gray = cv2.cvtColor(image1, cv2.COLOR_BGR2GRAY)\n",
        "blurred = cv2.GaussianBlur(gray, (5, 5), 0)\n",
        "edged = cv2.Canny(blurred, 50, 200, 255)\n",
        "plt.imshow(image2, cmap=plt.cm.bone)\n",
        "image2.shape"
      ],
      "execution_count": 0,
      "outputs": [
        {
          "output_type": "execute_result",
          "data": {
            "text/plain": [
              "(54, 54, 3)"
            ]
          },
          "metadata": {
            "tags": []
          },
          "execution_count": 169
        },
        {
          "output_type": "display_data",
          "data": {
            "image/png": "[encoded data removed]",
            "text/plain": [
              "<Figure size 432x288 with 1 Axes>"
            ]
          },
          "metadata": {
            "tags": []
          }
        }
      ]
    },
    {
      "cell_type": "code",
      "metadata": {
        "colab_type": "code",
        "id": "BLd1_03BaJUs",
        "colab": {}
      },
      "source": [
        "test_pred2 = new_model.predict(image2.reshape([-1,54,54,3]))"
      ],
      "execution_count": 0,
      "outputs": []
    },
    {
      "cell_type": "code",
      "metadata": {
        "colab_type": "code",
        "id": "Kw7ZkqQeaJUz",
        "colab": {}
      },
      "source": [
        "test_pred_labels2 = new_convert_output(test_pred)"
      ],
      "execution_count": 0,
      "outputs": []
    },
    {
      "cell_type": "code",
      "metadata": {
        "colab_type": "code",
        "outputId": "b8687096-38eb-4700-c2a1-0b23ccbbc320",
        "id": "kvdLKwNeaJU6",
        "colab": {
          "base_uri": "https://localhost:8080/",
          "height": 34
        }
      },
      "source": [
        "print(test_pred_labels2)"
      ],
      "execution_count": 0,
      "outputs": [
        {
          "output_type": "stream",
          "text": [
            "['3321']\n"
          ],
          "name": "stdout"
        }
      ]
    },
    {
      "cell_type": "code",
      "metadata": {
        "colab_type": "code",
        "outputId": "5dfb7e2c-bdf5-4c8f-fc42-164c123840eb",
        "id": "7nMJmK4waJVE",
        "colab": {
          "base_uri": "https://localhost:8080/",
          "height": 34
        }
      },
      "source": [
        "ref = 0\n",
        "print (\"Predicted: \", test_pred_labels[ref])"
      ],
      "execution_count": 0,
      "outputs": [
        {
          "output_type": "stream",
          "text": [
            "Predicted:  3321\n"
          ],
          "name": "stdout"
        }
      ]
    },
    {
      "cell_type": "code",
      "metadata": {
        "id": "ugydhIqLjG77",
        "colab_type": "code",
        "colab": {}
      },
      "source": [
        ""
      ],
      "execution_count": 0,
      "outputs": []
    },
    {
      "cell_type": "markdown",
      "metadata": {
        "id": "CsxOCc1gjH9W",
        "colab_type": "text"
      },
      "source": [
        "#Not needed"
      ]
    },
    {
      "cell_type": "markdown",
      "metadata": {
        "id": "WrFMz-f510SI",
        "colab_type": "text"
      },
      "source": [
        "### Question 1\n",
        "_What approach did you take in coming up with a solution to this problem?_"
      ]
    },
    {
      "cell_type": "markdown",
      "metadata": {
        "id": "hxbdsDdy10SJ",
        "colab_type": "text"
      },
      "source": [
        "**Answer:** \n",
        "\n",
        "Before I started coding the first step, it was good to think about the purpose of the synthetic dataset in the pipeline. Generally speaking, in an academic study, the datasets are somewhat standardized, and benchmarks for new models are established on top of this \"clean data\" - in commercial applications, however, that is not the norm. Labeled data to train your models are expensive to obtain, and the best approach is to often train a model in a similar dataset if available and then fine-tune it to the new problem you are trying to solve.\n",
        "\n",
        "Having said that, we want to make our synthetic data as close as possible to the data you expect to feed your model when you fine-tune it. So the obvious thing is to have a look at a few images from the SVHN dataset and then come up with a \"proxy\" synthetic dataset.\n",
        "\n",
        "Upon exploring the SVHN dataset we notice that the numbers are not always exactly centered, and they appear in several different colors, skew and rotation. \n",
        "\n",
        "Our synthetic dataset was created by first randomly choosing a number length between 1 and 5 digits, followed by another random decision as to where in the image we would like the sequence to appear (centered, skip first character, etc...) and then finally randomly pulling N digits from the MNIST training dataset.\n",
        "\n",
        "When creating the labels I decided to use \".\" to represent blank spaces to help when visually investigating the dataset.\n",
        "\n",
        "Examples were thoroughly provided on the notebook.\n",
        "\n",
        "\n",
        "** End-To-End Deep CNN model **\n",
        "\n",
        "In the project instructions there were several recommended approaches to create a pipeline to solve our problem, the one that I found more interesting is based on [[1]](http://static.googleusercontent.com/media/research.google.com/en//pubs/archive/42241.pdf \"Multi-digit Number Recognition from Street View\n",
        "Imagery using Deep Convolutional Neural Networks\") where the authors proposed an end-to-end solution to this problem that does not involve breaking down the problem into localization, segmentation and recognition in different steps.\n",
        "\n",
        "As Goodfellow et al. describe in their work:\n",
        ">Recognizing arbitrary multi-character text in unconstrained natural photographs is a hard problem. In this paper, we address an equally hard sub-problem in this domain viz. recognizing arbitrary multi-digit numbers from Street View imagery.\n",
        "Traditional approaches to solve this problem typically separate out the localization, segmentation, and recognition steps. In this paper we propose a unified approach that integrates these three steps via the use of a deep convolutional neural network that operates directly on the image pixels\n",
        "\n",
        "Inspired by the great results they displayed in their study and an elegant solution that would learn from these images without the assistance of a digit localizer, I decided to replicate their work for this pipeline."
      ]
    },
    {
      "cell_type": "markdown",
      "metadata": {
        "id": "kH8Vpbgi10SM",
        "colab_type": "text"
      },
      "source": [
        "### Question 2\n",
        "_What does your final architecture look like? (Type of model, layers, sizes, connectivity, etc.)_"
      ]
    },
    {
      "cell_type": "markdown",
      "metadata": {
        "id": "P9BX2O5W10SN",
        "colab_type": "text"
      },
      "source": [
        "**Answer:**\n",
        "The model proposed by Goodfellow et al. is the following:\n",
        ">Our best architecture consists of eight convolutional hidden layers, one locally connected hidden layer, and two densely connected hidden layers. All connections are feedforward and go from one layer to the next (no skip connections). The first hidden layer contains maxout units (Goodfellow et al., 2013) (with three filters per unit) while the others contain rectifier units (Jarrett et al., 2009; Glorot et al., 2011). The number of units at each spatial location in each layer is [48, 64, 128, 160] for the first four layers and 192 for all other locally connected layers. The fully connected layers contain 3,072 units each.\n",
        "\n",
        "\n",
        "The dimensions of our synthetic images are 28 x 140 x 1 (MNIST dimensions are 28 x 28 and we concatenated up to 5 of them together) and the 11 layer the authors used in their work was too deep for our data, so some modification was needed.\n",
        "\n",
        "I could have just removed a few of the MaxPooling layers, but since this problem was simpler to solve I decided to completely remove the last two convolutional blocks and the first locally connected hidden layer. I also included BatchNormalization before every convolutional layer and reduced the number of activations on the fully connected layers to 1024.\n",
        "\n",
        "The final version can be seen below"
      ]
    },
    {
      "cell_type": "code",
      "metadata": {
        "scrolled": false,
        "id": "S-FE_Be410SO",
        "colab_type": "code",
        "colab": {}
      },
      "source": [
        "SVG(model_to_dot(model, show_shapes=True).create(prog='dot', format='svg'))"
      ],
      "execution_count": 0,
      "outputs": []
    },
    {
      "cell_type": "markdown",
      "metadata": {
        "id": "yvsq6qC810SQ",
        "colab_type": "text"
      },
      "source": [
        "### Question 3\n",
        "_How did you train your model? How did you generate your synthetic dataset?_ Include examples of images from the synthetic data you constructed."
      ]
    },
    {
      "cell_type": "markdown",
      "metadata": {
        "id": "3fS8cMPf10SR",
        "colab_type": "text"
      },
      "source": [
        "**Answer:**\n",
        "\n",
        "The first step was to create a function that would output an image of up to 5 digits, randomly extracted from the MNIST dataset and it's label - For the sake of visualization I decided to use a \".\" to represent blank cells, that way we can validate if the position of the prediction is in the right place. The full implementation can be found in this notebook, under the function **create_numbers**.\n",
        "\n",
        "The next step was to create a python generator that would output several of these images and their labels in a format that Keras API would be able to process. This can be found under the function **generator** provided above.\n",
        "\n",
        "The python generator leverages the **create_numbers** function in order to provide us with a virtually unlimited training set. A thorough explanation of how it works can be seen below:\n",
        "\n",
        "```python\n",
        "def generator(numbers, number_labels, batch_size=32):\n",
        "\n",
        "    while True:  # Loop forever so the generator never terminates\n",
        "    \n",
        "        # define blank lists that will be filled in the for loop\n",
        "        images = []\n",
        "        labels = []\n",
        "        \n",
        "        # loop for as many iterations as you want your batch size to be\n",
        "        for batch_sample in range(batch_size):\n",
        "            img, label = create_numbers(numbers, number_labels, return_label=True)\n",
        "            \n",
        "            # After calling our create_numbers function we are basically done, but unfortunately\n",
        "            # Keras needs the labels to be one-hot encoded so from here on we just convert\n",
        "            # our labels into arrays of n_label dimensions that has 1 for the column to which class\n",
        "            # the sample belongs and 0 everywhere else.\n",
        "            \n",
        "            # define a label set with 5 rows (number of digits) and 11 columns (0-9 digits + blank)\n",
        "            n_label = np.zeros((5, 11), dtype='int')\n",
        "            for i, digit in enumerate(label):\n",
        "                if digit == \".\":\n",
        "                    n_digit = 10\n",
        "                else:\n",
        "                    n_digit = int(digit)\n",
        "\n",
        "                n_label[i][n_digit] = 1\n",
        "                \n",
        "        # in the function we manipulate the numbers furter to ensure compatibility with Keras' API \n",
        "\n",
        "        # return randomly generated image and list of one-hot encoded labels\n",
        "        yield X_train, [y1, y2, y3, y4, y5]\n",
        "```\n",
        "\n",
        "Samples were provided right after each function was created.\n",
        "\n",
        "With this generator we can have an unlimited amount of data to train our model. My first step was to train the model with a very small dataset (8 samples) that allowed me to quickly identify mistakes and fix the model without the burden of waiting for the long training time. At this stage I also made sure the model could overfit the small sample.\n",
        "\n",
        "When you have unlimited training data, the only problem you need to worry about is for how long to train. In general, it's difficult to end up over fitting to your data if your synthetic data is carefully crafted like ours.\n",
        "\n",
        "I used a mini-batch size of 128 samples, a number large enough that also fit in my GPU memory, and decided that every epoch should consist of approximately 100k images (as it would in theory allow the model to see each possibility at least once, although in practice we can't be sure) after just two epochs of training our validation accuracy was already above 99.5% for each individual digit so I stopped training.\n",
        "\n",
        "Measuring accuracy in that way is not recommended, because if our output has any of the digits wrong, the information is useless. So I converted the predicted digits back to string and compared with the ground truth strings generated for 1,000 random images from the validation set and the accuracy this time was 98.5%."
      ]
    },
    {
      "cell_type": "markdown",
      "metadata": {
        "id": "njvrCtwB10SR",
        "colab_type": "text"
      },
      "source": [
        "----\n",
        "## Step 2: Train a Model on a Realistic Dataset\n",
        "Once you have settled on a good architecture, you can train your model on real data. In particular, the [Street View House Numbers (SVHN)](http://ufldl.stanford.edu/housenumbers/) dataset is a good large-scale dataset collected from house numbers in Google Street View. Training on this more challenging dataset, where the digits are not neatly lined-up and have various skews, fonts and colors, likely means you have to do some hyperparameter exploration to perform well."
      ]
    },
    {
      "cell_type": "markdown",
      "metadata": {
        "id": "PimlQJK-10SS",
        "colab_type": "text"
      },
      "source": [
        "### Implementation\n",
        "Use the code cell (or multiple code cells, if necessary) to implement the first step of your project. Once you have completed your implementation and are satisfied with the results, be sure to thoroughly answer the questions that follow."
      ]
    },
    {
      "cell_type": "code",
      "metadata": {
        "id": "1dMPq4Pm10SS",
        "colab_type": "code",
        "colab": {}
      },
      "source": [
        "\n",
        "\n",
        "### Your code implementation goes here.\n",
        "### Feel free to use as many code cells as needed.\n",
        "\n"
      ],
      "execution_count": 0,
      "outputs": []
    },
    {
      "cell_type": "markdown",
      "metadata": {
        "id": "MAump8gx10SU",
        "colab_type": "text"
      },
      "source": [
        "#### Data Exploration"
      ]
    },
    {
      "cell_type": "code",
      "metadata": {
        "id": "-fX7VZYM10SV",
        "colab_type": "code",
        "colab": {}
      },
      "source": [
        "path = '/home/bruno/Documents/eLearning/udacity/Digit-Recognition'\n",
        "dataset_path = '/media/bruno/Data/Datasets/SVHN/'"
      ],
      "execution_count": 0,
      "outputs": []
    },
    {
      "cell_type": "code",
      "metadata": {
        "id": "6on6t4-Z10SY",
        "colab_type": "code",
        "colab": {}
      },
      "source": [
        "train_filenames = glob(dataset_path + '/train/*.png')"
      ],
      "execution_count": 0,
      "outputs": []
    },
    {
      "cell_type": "code",
      "metadata": {
        "id": "13CKY9AW10Sa",
        "colab_type": "code",
        "colab": {}
      },
      "source": [
        "rows_to_plot = 5\n",
        "cols_to_plot = 5\n",
        "\n",
        "f = plt.figure(figsize=(16, 4))\n",
        "\n",
        "for i, fn in enumerate(np.random.choice(len(train_filenames), rows_to_plot * cols_to_plot)):\n",
        "    f.add_subplot(rows_to_plot, cols_to_plot, i+1)\n",
        "    plt.imshow(Image.open(train_filenames[fn], mode='r'))\n",
        "    plt.axis('off')\n",
        "\n",
        "plt.show()"
      ],
      "execution_count": 0,
      "outputs": []
    },
    {
      "cell_type": "markdown",
      "metadata": {
        "id": "lqzRrO_B10Sc",
        "colab_type": "text"
      },
      "source": [
        "From this first exploration we can see that it's going to be a lot harder to train a model that performs well on this dataset. The numbers appear in different colors, distortions, skews and conditions (e.g. blurred images).\n",
        "\n",
        "Differently than our synthetic dataset, street numbers in real life don't have a random distribution like the ones we created. Most streets are short ones and we should expect to see a lot more numbers with less 3 or less digits than with 4 or 5.\n",
        "\n",
        "Let's take a look at how the length of digits is distributed in our training set."
      ]
    },
    {
      "cell_type": "code",
      "metadata": {
        "id": "f6UQVknm10Sd",
        "colab_type": "code",
        "colab": {}
      },
      "source": [
        "def readAndSaveMetadata(filepath):\n",
        "    # Forked from https://discussions.udacity.com/t/how-to-deal-with-mat-files/160657/3\n",
        "    \n",
        "    # Load the given MatLab file\n",
        "    f = h5py.File(filepath, 'r')\n",
        "    fn = filepath.split('/')[-1]\n",
        "    \n",
        "    # Create our empty dictionary\n",
        "    metadata= {}\n",
        "    metadata['height'] = []\n",
        "    metadata['label'] = []\n",
        "    metadata['left'] = []\n",
        "    metadata['top'] = []\n",
        "    metadata['width'] = []\n",
        "    \n",
        "    # define a function to pass to h5py's visititems() function\n",
        "    def print_attrs(name, obj):\n",
        "        vals = []\n",
        "        if obj.shape[0] == 1:\n",
        "            vals.append(obj[0][0])\n",
        "        else:\n",
        "            for k in range(obj.shape[0]):\n",
        "                vals.append(f[obj[k][0]][0][0])\n",
        "        metadata[name].append(vals)\n",
        "    \n",
        "    # Add information to metadata\n",
        "    for item in f['/digitStruct/bbox']:\n",
        "        f[item[0]].visititems(print_attrs)\n",
        "    \n",
        "    # Save to a pickle file\n",
        "    pickle_file = fn + '.pickle'\n",
        "    try:\n",
        "      pickleData = open(pickle_file, 'wb')\n",
        "      pickle.dump(metadata, pickleData, pickle.HIGHEST_PROTOCOL)\n",
        "      pickleData.close()\n",
        "    except Exception as e:\n",
        "      print 'Unable to save data to', pickle_file, ':', e\n",
        "      raise"
      ],
      "execution_count": 0,
      "outputs": []
    },
    {
      "cell_type": "code",
      "metadata": {
        "id": "-NHFsypB10Sg",
        "colab_type": "code",
        "colab": {}
      },
      "source": [
        "#readAndSaveMetadata(dataset_path + 'train_digitStruct.mat')\n",
        "#readAndSaveMetadata(dataset_path + 'test_digitStruct.mat')"
      ],
      "execution_count": 0,
      "outputs": []
    },
    {
      "cell_type": "code",
      "metadata": {
        "id": "MBfrp5cb10Si",
        "colab_type": "code",
        "colab": {}
      },
      "source": [
        "f = open('train_digitStruct.mat.pickle', 'r')\n",
        "trn_data = pickle.load(f)\n",
        "trn_data = pd.DataFrame.from_dict(trn_data)\n",
        "\n",
        "f = open('test_digitStruct.mat.pickle', 'r')\n",
        "tst_data = pickle.load(f)\n",
        "tst_data = pd.DataFrame.from_dict(tst_data)"
      ],
      "execution_count": 0,
      "outputs": []
    },
    {
      "cell_type": "code",
      "metadata": {
        "id": "xkd7AIWb10Sl",
        "colab_type": "code",
        "colab": {}
      },
      "source": [
        "trn_label_len = []\n",
        "for label in trn_data['label']:\n",
        "    label_len = len(label)\n",
        "    trn_label_len.append(label_len)\n",
        "    "
      ],
      "execution_count": 0,
      "outputs": []
    },
    {
      "cell_type": "code",
      "metadata": {
        "id": "9PO35BcB10So",
        "colab_type": "code",
        "colab": {}
      },
      "source": [
        "count, bins, patches = plt.hist(trn_label_len, bins=range(1,7), normed=True )\n",
        "\n",
        "plt.plot(np.concatenate(([0], np.cumsum(count))), 'r' )\n",
        "plt.xlabel('Length')\n",
        "plt.ylabel('Frequency')\n",
        "plt.title('House Number Length Distribution')\n",
        "plt.tight_layout()"
      ],
      "execution_count": 0,
      "outputs": []
    },
    {
      "cell_type": "markdown",
      "metadata": {
        "id": "JdJm9VIu10Sq",
        "colab_type": "text"
      },
      "source": [
        "As we expected over 95% of our sample has 3 or less digits. This will probably impact the performance of our algorithm when detecting longer street numbers."
      ]
    },
    {
      "cell_type": "markdown",
      "metadata": {
        "id": "R0Lhhegh10Sr",
        "colab_type": "text"
      },
      "source": [
        "#### Image pre-processing\n",
        "\n",
        "The authors of the paper we are basing this work on have suggested the following pre-processing steps:\n",
        "\n",
        "- Based on the provided bounding boxes, find another box that will contain all digits on the image\n",
        "\n",
        "- Expand this bounding box by 30% in each direction and crop the image to this bounding box\n",
        "\n",
        "- Resize the cropped image to 64 x 64 pixels\n",
        "\n",
        "- Random crop a 54 x 54 sample from the cropped image\n",
        "\n",
        "This will be implemented inside a generate_crop function that will later on be called by our generator."
      ]
    },
    {
      "cell_type": "code",
      "metadata": {
        "id": "i9DX-_DC10Ss",
        "colab_type": "code",
        "colab": {}
      },
      "source": [
        "def generate_crop(filepath, dataframe, expand_by=0.3, verbose=0, crop_sz=(64, 64), random_crop=True):\n",
        "    \"\"\"\n",
        "    This function expects a filepath of an image and will return either a 64 x 64 crop\n",
        "    or a 54 x 54 random crop of the street number depending on the random_crop parameter.\n",
        "    \n",
        "    \"\"\"\n",
        "    # 1 - open the image and store img dimensions\n",
        "    img = cv2.imread(filepath, cv2.IMREAD_COLOR)\n",
        "    img = cv2.cvtColor(img, cv2.COLOR_BGR2RGB)\n",
        "\n",
        "    img_h = img.shape[0]\n",
        "    img_w = img.shape[1]\n",
        "\n",
        "    if verbose>0:\n",
        "        print \"img_h: \", img_h, \"    img_w: \", img_w, \"\\n\"\n",
        "\n",
        "    # 2 - find bounding box for whole street number\n",
        "    fn = filepath.split('/')[-1].split('.')[0]\n",
        "\n",
        "    left = np.min(dataframe.loc[int(fn) - 1].left)\n",
        "    top = np.min(dataframe.loc[int(fn) - 1].top)\n",
        "    bottom = (np.max(dataframe.loc[int(fn) - 1].top) + np.max(dataframe.loc[int(fn) - 1].height))\n",
        "    right = (np.max(dataframe.loc[int(fn) - 1].left) + np.max(dataframe.loc[int(fn) - 1].width))\n",
        "\n",
        "    if verbose>0:\n",
        "        print \"left: \", left, \"    right: \", right, \"    top: \", top, \"    bottom: \", bottom, \"\\n\"\n",
        "\n",
        "    # 3 - Expand bounding box by X%\n",
        "    mid_x = (left + right) // 2\n",
        "    mid_y = (top + bottom) // 2\n",
        "    new_h = np.abs(bottom - top) * (1 + expand_by)\n",
        "    new_w = np.abs(right - left) * (1 + expand_by)\n",
        "\n",
        "    if verbose>0:\n",
        "        print \"mid_x: \", mid_x, \"    mid_y: \", mid_y, \"    new_h: \", new_h, \"    new_w: \", new_w, \"\\n\"\n",
        "    \n",
        "    # New points will be determined by the calculations above and the original image size\n",
        "    left = np.max((0, mid_x - new_w // 2)).astype(np.uint)\n",
        "    right = np.min((img_w, mid_x + new_w // 2)).astype(np.uint)\n",
        "    top = np.max((0, mid_y - new_h // 2)).astype(np.uint)\n",
        "    bottom = np.min((img_h, mid_y + new_h // 2)).astype(np.uint)\n",
        "\n",
        "    if verbose>0:\n",
        "        print \"n_left: \", left, \"    n_right: \", right, \"    n_top: \", top, \"    n_bottom: \", bottom, \"\\n\"\n",
        "    \n",
        "    # 4 - Crop image within bounding box\n",
        "    cropped = img[top:bottom, left:right, :].copy()\n",
        "\n",
        "    # 5 - Rescale to 64 x 64\n",
        "    rescaled = cv2.resize(cropped, crop_sz)\n",
        "    \n",
        "    if random_crop:\n",
        "        dx = np.random.randint(0, 10)\n",
        "        dy = np.random.randint(0, 10)\n",
        "        rescaled = rescaled[dx:dx+54, dy:dy+54, :]\n",
        "    \n",
        "    return rescaled"
      ],
      "execution_count": 0,
      "outputs": []
    },
    {
      "cell_type": "code",
      "metadata": {
        "id": "v9NV06Ag10Su",
        "colab_type": "code",
        "colab": {}
      },
      "source": [
        "items_to_plot = 10\n",
        "\n",
        "f = plt.figure(figsize=(12, 12))\n",
        "\n",
        "i = 0\n",
        "for fn in np.random.choice(len(train_filenames), items_to_plot):\n",
        "    # Plot original\n",
        "    f.add_subplot(items_to_plot // 2, 4, i+1)\n",
        "    plt.title('Original Image')\n",
        "    plt.imshow(Image.open(train_filenames[fn], mode='r'))\n",
        "    plt.axis('off')\n",
        "    i += 1\n",
        "\n",
        "    # Plot cropped\n",
        "    f.add_subplot(items_to_plot // 2, 4, i+1)\n",
        "    plt.title('Random Crop')\n",
        "    plt.imshow(generate_crop(train_filenames[fn], trn_data))\n",
        "    plt.axis('off')\n",
        "    i += 1\n",
        "\n",
        "plt.tight_layout()\n",
        "plt.show()"
      ],
      "execution_count": 0,
      "outputs": []
    },
    {
      "cell_type": "markdown",
      "metadata": {
        "id": "tLbg6LHy10Sw",
        "colab_type": "text"
      },
      "source": [
        "#### Test run with the previous model"
      ]
    },
    {
      "cell_type": "markdown",
      "metadata": {
        "id": "-x4mkvYe10Sw",
        "colab_type": "text"
      },
      "source": [
        "Now that we can isolate the numbers from the rest of the image, we can pass this image to our first model and see how it performs. In order to do that we will need to scale them to 28 x 140 and grayscale - since this is how our model was trained."
      ]
    },
    {
      "cell_type": "code",
      "metadata": {
        "id": "KOxMhdM_10Sx",
        "colab_type": "code",
        "colab": {}
      },
      "source": [
        "test_img = generate_crop(train_filenames[35], trn_data, crop_sz=(140, 28), random_crop=False)\n",
        "test_img = cv2.cvtColor(test_img, cv2.COLOR_RGB2GRAY)\n",
        "plt.imshow(test_img, cmap='gray')"
      ],
      "execution_count": 0,
      "outputs": []
    },
    {
      "cell_type": "code",
      "metadata": {
        "id": "Z6BEylj010S0",
        "colab_type": "code",
        "colab": {}
      },
      "source": [
        "test_img = np.expand_dims(test_img, -1)"
      ],
      "execution_count": 0,
      "outputs": []
    },
    {
      "cell_type": "code",
      "metadata": {
        "id": "dH_V-Rx010S3",
        "colab_type": "code",
        "colab": {}
      },
      "source": [
        "test_pred = model.predict(np.expand_dims(test_img, 0))\n",
        "test_pred_labels = convert_output(test_pred)\n",
        "print \"Predicted: \", test_pred_labels"
      ],
      "execution_count": 0,
      "outputs": []
    },
    {
      "cell_type": "code",
      "metadata": {
        "id": "RoY7wKC-10S5",
        "colab_type": "code",
        "colab": {}
      },
      "source": [
        "ref = 35\n",
        "test_img = generate_crop(train_filenames[ref], trn_data, crop_sz=(140, 28), random_crop=False)\n",
        "test_img = cv2.cvtColor(test_img, cv2.COLOR_RGB2GRAY)\n",
        "test_img = np.expand_dims(test_img, -1)\n",
        "test_pred = model.predict(np.expand_dims(test_img, 0))\n",
        "test_pred_labels = convert_output(test_pred)\n",
        "\n",
        "plt.imshow(test_img[:, :, 0], cmap='gray')\n",
        "plt.title(\"Predicted label: \" + test_pred_labels[0])"
      ],
      "execution_count": 0,
      "outputs": []
    },
    {
      "cell_type": "markdown",
      "metadata": {
        "id": "VvN1Wdr410S7",
        "colab_type": "text"
      },
      "source": [
        "That's not a good indicator, I personally chose the above image as i expected it to be easier, as it's somewhat similar to what we have been using so far. Unfortunately because the two datasets have labels created in very different ways, it would be too time consuming to develop a compatibility layer just to prove that our current model is not doing a good job.\n",
        "\n",
        "If we had reasons to believe it would perform well, it would probably be worth to invest time into doing that, but if it fails on the \"easy\" images, we will make a better use of our time if we train a new model.\n",
        "\n",
        "The paper we are basing our work on trains the model using not only the 5 digits, but also the length of the digits, we will now define a function to get us this information for each sample in our dataset."
      ]
    },
    {
      "cell_type": "code",
      "metadata": {
        "id": "DYbC4Q4M10S8",
        "colab_type": "code",
        "colab": {}
      },
      "source": [
        "def get_label(filepath, dataframe, maxlength=5):\n",
        "    \"\"\"\n",
        "\n",
        "    This function will return the categorical (one-hot) representation of 6 digits \n",
        "    that will be used to train our model.\n",
        "    \n",
        "    The first is the length of the house number for a given filepath and then one digit\n",
        "    for each of the 5 possible spots we are trying to predict, with 0 being \"more than 5\" for length\n",
        "    and blank for the individual digits.\n",
        "    \n",
        "    \"\"\"\n",
        "\n",
        "    fn = filepath.split('/')[-1].split('.')[0]\n",
        "\n",
        "    label = dataframe.loc[int(fn) - 1].label\n",
        "\n",
        "    l = np.zeros(maxlength+1)\n",
        "    try:\n",
        "        l[len(label)] = 1\n",
        "    except:\n",
        "        l[0] = 1\n",
        "\n",
        "    y = np.zeros((5, 11), dtype=int)\n",
        "\n",
        "    for i in range(5):\n",
        "        try:\n",
        "            y[i][int(label[i])] = 1\n",
        "        except:\n",
        "            y[i][0] = 1\n",
        "\n",
        "    return [l, y[0], y[1], y[2], y[3], y[4]]"
      ],
      "execution_count": 0,
      "outputs": []
    },
    {
      "cell_type": "markdown",
      "metadata": {
        "id": "oICauw9X10S-",
        "colab_type": "text"
      },
      "source": [
        "We also need to define a new function to convert back our label to a format we can understand"
      ]
    },
    {
      "cell_type": "code",
      "metadata": {
        "id": "T8yymPnz10S_",
        "colab_type": "code",
        "colab": {}
      },
      "source": [
        "def new_convert_label(label):\n",
        "    l = label[0]\n",
        "    labels = label[1:]\n",
        "    n_label = \"\"\n",
        "    for digit in labels:\n",
        "        if np.argmax(digit) == 0:\n",
        "            n_digit = \"\"\n",
        "        elif np.argmax(digit) == 10:\n",
        "            n_digit = \"0\"\n",
        "        else:\n",
        "            n_digit = str(np.argmax(digit))\n",
        "        n_label += n_digit\n",
        "    return n_label"
      ],
      "execution_count": 0,
      "outputs": []
    },
    {
      "cell_type": "code",
      "metadata": {
        "id": "-NDpYaP510TC",
        "colab_type": "code",
        "colab": {}
      },
      "source": [
        "# Test if everything works\n",
        "# print (get_label(train_filenames[100], trn_data))\n",
        "print \"converted label: \", new_convert_label(get_label(train_filenames[10], trn_data))\n",
        "plt.imshow(generate_crop(train_filenames[10], trn_data))"
      ],
      "execution_count": 0,
      "outputs": []
    },
    {
      "cell_type": "markdown",
      "metadata": {
        "id": "TtP1QQt_10TG",
        "colab_type": "text"
      },
      "source": [
        "#### Another Generator\n",
        "\n",
        "Similarly to what we did on the first step, we will define a generator that will pass a random crop of the image and all the labels to our new model."
      ]
    },
    {
      "cell_type": "code",
      "metadata": {
        "id": "N5GsbvB910TG",
        "colab_type": "code",
        "colab": {}
      },
      "source": [
        "def new_generator(filepath_list, dataframe, batch_size=32, crop_sz=(64, 64),\n",
        "                  shuffle_data=True, random_crop=True, return_labels=True):\n",
        "    \"\"\"\n",
        "    This generator receives a lisit of filenames from the SVHN dataset and a pandas dataframe\n",
        "    with the label information and returns a random crop of the image and the one-hot encoding\n",
        "    of the labels so we can pass it directly to Keras.\n",
        "\n",
        "    Input:\n",
        "    filepath_list - list with path to SVHN images.\n",
        "    dataframe - pandas dataframe with information about each image.\n",
        "\n",
        "    Arguments:\n",
        "    batch_size - size of the mini batch\n",
        "\n",
        "    Outputs:\n",
        "    X_train and y_train\n",
        "    \"\"\"\n",
        "\n",
        "    num_samples = len(filepath_list)\n",
        "    filelist = copy.copy(filepath_list)\n",
        "\n",
        "    if shuffle_data:\n",
        "        shuffle(filelist)\n",
        "\n",
        "    while True:  # Loop forever so the generator never terminates\n",
        "        for offset in range(0, num_samples, batch_size):\n",
        "            batch_samples = filelist[offset:offset + batch_size]\n",
        "\n",
        "            if shuffle_data:\n",
        "                shuffle(batch_samples)\n",
        "\n",
        "            images = []\n",
        "            length = []\n",
        "            digits = []\n",
        "\n",
        "            for batch_sample in batch_samples:\n",
        "                img = generate_crop(batch_sample, dataframe, crop_sz=crop_sz, random_crop=random_crop)\n",
        "                y = np.zeros((5, 11), dtype='int')\n",
        "                [l, y[0, :], y[1, :], y[2, :], y[3, :], y[4, :]] = get_label(batch_sample, dataframe)\n",
        "            \n",
        "                images.append(img)\n",
        "                length.append(l)\n",
        "                digits.append(y)\n",
        "\n",
        "            X_train = np.array(images)\n",
        "            if len(X_train.shape) == 3:\n",
        "                X_train = np.expand_dims(X_train, -1)\n",
        "\n",
        "            y_temp = np.array(digits)\n",
        "            l = np.array(length)\n",
        "\n",
        "            y1 = y_temp[:, 0, :]\n",
        "            y2 = y_temp[:, 1, :]\n",
        "            y3 = y_temp[:, 2, :]\n",
        "            y4 = y_temp[:, 3, :]\n",
        "            y5 = y_temp[:, 4, :]\n",
        "            \n",
        "            if return_labels:\n",
        "                yield X_train, [l, y1, y2, y3, y4, y5]\n",
        "            else:\n",
        "                yield X_train"
      ],
      "execution_count": 0,
      "outputs": []
    },
    {
      "cell_type": "code",
      "metadata": {
        "id": "WWmvmouV10TI",
        "colab_type": "code",
        "colab": {}
      },
      "source": [
        "# Create samples to test the generator\n",
        "i = 0\n",
        "for a, b in new_generator(train_filenames, trn_data, batch_size=25): \n",
        "    test_imgs = a\n",
        "    test_lbls = b\n",
        "    \n",
        "    i += 1\n",
        "    \n",
        "    if i > 1:\n",
        "        break"
      ],
      "execution_count": 0,
      "outputs": []
    },
    {
      "cell_type": "code",
      "metadata": {
        "id": "k3097DQL10TK",
        "colab_type": "code",
        "colab": {}
      },
      "source": [
        "rows_to_plot = 5\n",
        "cols_to_plot = 5\n",
        "\n",
        "f = plt.figure(figsize=(12, 6))\n",
        "\n",
        "for i in range(rows_to_plot * cols_to_plot):\n",
        "    f.add_subplot(rows_to_plot, cols_to_plot, i+1)\n",
        "    plt.title(new_convert_label([test_lbls[0][i], test_lbls[1][i], test_lbls[2][i], \n",
        "                                 test_lbls[3][i], test_lbls[4][i], test_lbls[5][i]]))\n",
        "    plt.imshow(test_imgs[i])\n",
        "    plt.axis('off')\n",
        "\n",
        "plt.tight_layout()\n",
        "plt.show()"
      ],
      "execution_count": 0,
      "outputs": []
    },
    {
      "cell_type": "markdown",
      "metadata": {
        "id": "F2620hkZ10TL",
        "colab_type": "text"
      },
      "source": [
        "#### Model\n",
        "\n",
        "This time we can define the model exactly as proposed on the literature, given that our input images are also with the same dimension."
      ]
    },
    {
      "cell_type": "code",
      "metadata": {
        "id": "cRUPt8wa10TM",
        "colab_type": "code",
        "colab": {}
      },
      "source": [
        "# Based on Model from: http://static.googleusercontent.com/media/research.google.com/en//pubs/archive/42241.pdf\n",
        "\n",
        "def get_new_model(input_shape=(54, 54, 3), p=0.5, n_class=11, n_len=6):\n",
        "\n",
        "    inputs = Input(((input_shape[0], input_shape[1], input_shape[2])))\n",
        "    \n",
        "    x = BatchNormalization()(inputs)\n",
        "    x = Convolution2D(48, 5, activation='relu', padding='same', strides=(1, 1))(x)\n",
        "    x = MaxPooling2D(pool_size=(2, 2), strides=(2, 2))(x)\n",
        "    x = Dropout(p/4)(x)\n",
        "    \n",
        "    x = BatchNormalization()(x)\n",
        "    x = Convolution2D(64, 5, activation='relu', padding='same', strides=(1, 1))(x)\n",
        "    x = MaxPooling2D(pool_size=(2, 2), strides=(1, 1))(x)\n",
        "    x = Dropout(p/4)(x)\n",
        "\n",
        "    x = BatchNormalization()(x)\n",
        "    x = Convolution2D(128, 5, activation='relu', padding='same', strides=(1, 1))(x)\n",
        "    x = MaxPooling2D(pool_size=(2, 2), strides=(2, 2))(x)\n",
        "    x = Dropout(p/2)(x)\n",
        "\n",
        "    x = BatchNormalization()(x)\n",
        "    x = Convolution2D(160, 5, activation='relu', padding='same', strides=(1, 1))(x)\n",
        "    x = MaxPooling2D(pool_size=(2, 2), strides=(1, 1))(x)\n",
        "    x = Dropout(p/2)(x)\n",
        "\n",
        "    x = BatchNormalization()(x)\n",
        "    x = Convolution2D(192, 5, activation='relu', padding='same', strides=(1, 1))(x)\n",
        "    x = MaxPooling2D(pool_size=(2, 2), strides=(2, 2))(x)\n",
        "    x = Dropout(p)(x)\n",
        "\n",
        "    x = BatchNormalization()(x)\n",
        "    x = Convolution2D(192, 5, activation='relu', padding='same', strides=(1, 1))(x)\n",
        "    x = MaxPooling2D(pool_size=(2, 2), strides=(1, 1))(x)\n",
        "    x = Dropout(p)(x)\n",
        "    \n",
        "    x = BatchNormalization()(x)\n",
        "    x = Convolution2D(192, 5, activation='relu', padding='same', strides=(1, 1))(x)\n",
        "    x = MaxPooling2D(pool_size=(2, 2), strides=(2, 2))(x)\n",
        "    x = Dropout(p)(x)\n",
        "\n",
        "    x = BatchNormalization()(x)\n",
        "    x = Convolution2D(192, 5, activation='relu', padding='same', strides=(1, 1))(x)\n",
        "    x = MaxPooling2D(pool_size=(2, 2), strides=(1, 1))(x)\n",
        "    x = Dropout(p)(x)\n",
        "    \n",
        "    x = Flatten()(x)\n",
        "    x = Dense(3072, activation='relu')(x)\n",
        "    x = Dense(3072, activation='relu')(x)\n",
        "\n",
        "    l = Dense(n_len, activation='softmax')(x)\n",
        "    c1 = Dense(n_class, activation='softmax')(x)\n",
        "    c2 = Dense(n_class, activation='softmax')(x)\n",
        "    c3 = Dense(n_class, activation='softmax')(x)\n",
        "    c4 = Dense(n_class, activation='softmax')(x)\n",
        "    c5 = Dense(n_class, activation='softmax')(x)\n",
        "    \n",
        "    output = [l, c1, c2, c3, c4, c5]\n",
        "    \n",
        "    model = Model(inputs=inputs, outputs=output)\n",
        "\n",
        "    return model"
      ],
      "execution_count": 0,
      "outputs": []
    },
    {
      "cell_type": "code",
      "metadata": {
        "id": "O7aKDTST10TP",
        "colab_type": "code",
        "colab": {}
      },
      "source": [
        "new_model = get_new_model()"
      ],
      "execution_count": 0,
      "outputs": []
    },
    {
      "cell_type": "code",
      "metadata": {
        "id": "xF_Rm32u10TS",
        "colab_type": "code",
        "colab": {}
      },
      "source": [
        "new_model.summary()"
      ],
      "execution_count": 0,
      "outputs": []
    },
    {
      "cell_type": "code",
      "metadata": {
        "id": "Z8UcUJyN10TW",
        "colab_type": "code",
        "colab": {}
      },
      "source": [
        "def new_convert_output(model_output):\n",
        "    l = model_output[0]\n",
        "    digits = np.array(model_output[1:]).swapaxes(0, 1)\n",
        "    labels = []\n",
        "    for i in range(len(l)):\n",
        "        label = new_convert_label(([l[i]], digits[i, 0, :], digits[i, 1, :],\n",
        "                                  digits[i, 2, :], digits[i, 3, :], digits[i, 4, :]))\n",
        "        labels.append(label)\n",
        "\n",
        "    return labels"
      ],
      "execution_count": 0,
      "outputs": []
    },
    {
      "cell_type": "markdown",
      "metadata": {
        "id": "vGSLqzdU10TX",
        "colab_type": "text"
      },
      "source": [
        "#### Overfit new model on small sample data"
      ]
    },
    {
      "cell_type": "code",
      "metadata": {
        "id": "c3ZN9kqG10TY",
        "colab_type": "code",
        "colab": {}
      },
      "source": [
        "optimizer = Adam(lr=1e-3)\n",
        "new_model.compile(optimizer, loss='categorical_crossentropy')\n",
        "new_model.fit(test_imgs, test_lbls, epochs=1000, verbose=0)\n",
        "teste_out = new_model.predict(test_imgs)"
      ],
      "execution_count": 0,
      "outputs": []
    },
    {
      "cell_type": "code",
      "metadata": {
        "id": "2EfyInIM10Ta",
        "colab_type": "code",
        "colab": {}
      },
      "source": [
        "output = new_convert_output(teste_out)\n",
        "\n",
        "rows_to_plot = 5\n",
        "cols_to_plot = 5\n",
        "\n",
        "f = plt.figure(figsize=(12, 6))\n",
        "\n",
        "for i, (pred, img) in enumerate(zip(output, test_imgs)):\n",
        "    f.add_subplot(rows_to_plot, cols_to_plot, i+1)\n",
        "    plt.title(\"Predicted: \" + pred)\n",
        "    plt.imshow(img)\n",
        "    plt.axis('off')\n",
        "\n",
        "plt.tight_layout()\n",
        "plt.show()"
      ],
      "execution_count": 0,
      "outputs": []
    },
    {
      "cell_type": "markdown",
      "metadata": {
        "id": "DtvjroX-10Tc",
        "colab_type": "text"
      },
      "source": [
        "This time the model required 1,000 epochs on the sample dataset to get to a \"reasonable\" point. It's still not overfitting completely, but it's learning."
      ]
    },
    {
      "cell_type": "markdown",
      "metadata": {
        "id": "Z79CWPUU10Td",
        "colab_type": "text"
      },
      "source": [
        "#### Train the model"
      ]
    },
    {
      "cell_type": "code",
      "metadata": {
        "id": "FODyN4k710Td",
        "colab_type": "code",
        "colab": {}
      },
      "source": [
        "# Split data into training and validation, using 80% for training and 20% for validation:\n",
        "trn_filenames, val_filenames = train_test_split(train_filenames, test_size=0.2)"
      ],
      "execution_count": 0,
      "outputs": []
    },
    {
      "cell_type": "code",
      "metadata": {
        "id": "mGB8yFkH10Ti",
        "colab_type": "code",
        "colab": {}
      },
      "source": [
        "new_model = get_new_model()\n",
        "optimizer = Adam(lr=1e-3)\n",
        "new_model.compile(optimizer, loss='categorical_crossentropy', metrics=['categorical_accuracy'])\n",
        "callbacks = [ModelCheckpoint('./models/new_model.{epoch:02d}-{val_loss:.2f}.hdf5')]\n",
        "\n",
        "trn_generator = new_generator(trn_filenames, trn_data, batch_size=128)\n",
        "val_generator = new_generator(val_filenames, trn_data, batch_size=128)"
      ],
      "execution_count": 0,
      "outputs": []
    },
    {
      "cell_type": "code",
      "metadata": {
        "id": "Bg4NBytS10Tl",
        "colab_type": "code",
        "colab": {}
      },
      "source": [
        "new_model.fit_generator(trn_generator,\n",
        "                    epochs=5,\n",
        "                    steps_per_epoch=200,\n",
        "                    validation_data=val_generator,\n",
        "                    validation_steps=200,\n",
        "                    callbacks=callbacks,\n",
        "                    verbose=1)"
      ],
      "execution_count": 0,
      "outputs": []
    },
    {
      "cell_type": "markdown",
      "metadata": {
        "id": "n1SjI6Vm10Tn",
        "colab_type": "text"
      },
      "source": [
        "#### Save  and load our model"
      ]
    },
    {
      "cell_type": "code",
      "metadata": {
        "id": "EW0QQxKY10To",
        "colab_type": "code",
        "colab": {}
      },
      "source": [
        "#new_model.save_weights('./models/step2.h5')"
      ],
      "execution_count": 0,
      "outputs": []
    },
    {
      "cell_type": "code",
      "metadata": {
        "id": "mUjWcm7910Tq",
        "colab_type": "code",
        "colab": {}
      },
      "source": [
        "new_model.load_weights('./models/step2.h5')"
      ],
      "execution_count": 0,
      "outputs": []
    },
    {
      "cell_type": "code",
      "metadata": {
        "id": "y5xml68g10Tr",
        "colab_type": "code",
        "colab": {}
      },
      "source": [
        "teste_out = new_model.predict(test_imgs)"
      ],
      "execution_count": 0,
      "outputs": []
    },
    {
      "cell_type": "code",
      "metadata": {
        "id": "GdI7QpEN10Tt",
        "colab_type": "code",
        "colab": {}
      },
      "source": [
        "output = new_convert_output(teste_out)\n",
        "\n",
        "rows_to_plot = 5\n",
        "cols_to_plot = 5\n",
        "\n",
        "f = plt.figure(figsize=(12, 6))\n",
        "\n",
        "for i, (pred, img) in enumerate(zip(output, test_imgs)):\n",
        "    f.add_subplot(rows_to_plot, cols_to_plot, i+1)\n",
        "    plt.title(\"Predicted: \" + pred)\n",
        "    plt.imshow(img)\n",
        "    plt.axis('off')\n",
        "\n",
        "plt.tight_layout()\n",
        "plt.show()"
      ],
      "execution_count": 0,
      "outputs": []
    },
    {
      "cell_type": "markdown",
      "metadata": {
        "id": "Rx0KGhpn10Tu",
        "colab_type": "text"
      },
      "source": [
        "#### Evaluate the model"
      ]
    },
    {
      "cell_type": "code",
      "metadata": {
        "id": "kMO-OuVD10Tv",
        "colab_type": "code",
        "colab": {}
      },
      "source": [
        "tst_filenames = glob(dataset_path + '/test/*.png')"
      ],
      "execution_count": 0,
      "outputs": []
    },
    {
      "cell_type": "code",
      "metadata": {
        "id": "AWyVbVHA10Tx",
        "colab_type": "code",
        "colab": {}
      },
      "source": [
        "tst_imgs = []\n",
        "tst_labels = []\n",
        "for filename in tst_filenames:\n",
        "    img = generate_crop(filename, tst_data, crop_sz=(54, 54), random_crop=False)\n",
        "    lbl = get_label(filename, tst_data)\n",
        "    n_lbl = new_convert_label(lbl)\n",
        "    tst_labels.append(n_lbl)\n",
        "    tst_imgs.append(img)\n",
        "\n",
        "tst_imgs = np.array(tst_imgs)"
      ],
      "execution_count": 0,
      "outputs": []
    },
    {
      "cell_type": "code",
      "metadata": {
        "id": "sPl8Iclk10Ty",
        "colab_type": "code",
        "colab": {}
      },
      "source": [
        "# Check that we are getting the imgs and labels correctly\n",
        "rows_to_plot = 5\n",
        "cols_to_plot = 5\n",
        "\n",
        "f = plt.figure(figsize=(16, 16))\n",
        "\n",
        "for i, fn in enumerate(np.random.choice(len(tst_filenames), rows_to_plot * cols_to_plot)):\n",
        "    f.add_subplot(rows_to_plot, cols_to_plot, i+1)\n",
        "    plt.imshow(tst_imgs[fn])\n",
        "    plt.title(tst_labels[fn])\n",
        "    plt.axis('off')\n",
        "\n",
        "plt.tight_layout()\n",
        "plt.show()"
      ],
      "execution_count": 0,
      "outputs": []
    },
    {
      "cell_type": "code",
      "metadata": {
        "id": "2rSxQKtj10T0",
        "colab_type": "code",
        "colab": {}
      },
      "source": [
        "#tst_generator = new_generator(tst_filenames, tst_data, batch_size=128, crop_sz=(54, 54),\n",
        "#                              shuffle_data=False, random_crop=False, return_labels=False)"
      ],
      "execution_count": 0,
      "outputs": []
    },
    {
      "cell_type": "code",
      "metadata": {
        "id": "KowxRFDS10T2",
        "colab_type": "code",
        "colab": {}
      },
      "source": [
        "#tst_pred = new_model.predict_generator(tst_generator, steps=len(tst_filenames) // 128 + 1)"
      ],
      "execution_count": 0,
      "outputs": []
    },
    {
      "cell_type": "code",
      "metadata": {
        "id": "t74chp9Y10T3",
        "colab_type": "code",
        "colab": {}
      },
      "source": [
        "tst_pred = new_model.predict(tst_imgs, batch_size=128)"
      ],
      "execution_count": 0,
      "outputs": []
    },
    {
      "cell_type": "code",
      "metadata": {
        "id": "IoJJH-Qx10T5",
        "colab_type": "code",
        "colab": {}
      },
      "source": [
        "pred_labels = new_convert_output(tst_pred)"
      ],
      "execution_count": 0,
      "outputs": []
    },
    {
      "cell_type": "code",
      "metadata": {
        "id": "8QQx8VF310T8",
        "colab_type": "code",
        "colab": {}
      },
      "source": [
        "tst_accuracy = accuracy_score(tst_labels, pred_labels)"
      ],
      "execution_count": 0,
      "outputs": []
    },
    {
      "cell_type": "code",
      "metadata": {
        "id": "Ws0NVcFc10T9",
        "colab_type": "code",
        "colab": {}
      },
      "source": [
        "print \"Accuracy: \", np.round(tst_accuracy*100, 1), \"%\""
      ],
      "execution_count": 0,
      "outputs": []
    },
    {
      "cell_type": "markdown",
      "metadata": {
        "id": "vUJs3BIz10UA",
        "colab_type": "text"
      },
      "source": [
        "This is still significantly below the 98% of human accuracy, but in Goodfellow et al. they trained 10 models in parallel for 6 days to achieve human level accuracy. Our version was trained for 20 epochs, where in each epoch it would see approximately 10 different crops of each image.\n",
        "\n",
        "If we continued to optimize the model weights, I am positive we would have better results."
      ]
    },
    {
      "cell_type": "markdown",
      "metadata": {
        "id": "KmeP2wRd10UA",
        "colab_type": "text"
      },
      "source": [
        "### Question 4\n",
        "_Describe how you set up the training and testing data for your model. How does the model perform on a realistic dataset?_"
      ]
    },
    {
      "cell_type": "markdown",
      "metadata": {
        "id": "146fGmnb10UB",
        "colab_type": "text"
      },
      "source": [
        "**Answer:**\n",
        "\n",
        "### Testing the first model on the SVHN dataset\n",
        "\n",
        "At this point I realized that I should have also explored the labels from the SVHN dataset and not only the images when creating our synthetic dataset.\n",
        "\n",
        "The fact that the labels were incompatible made large-scaling impossible without developing a label-conversion function and before doing that I decided to manually test the model in a few selected images to see if it was worth investing the time to convert the labels.\n",
        "\n",
        "The only processing steps on the new images were to scale to 28 x 140 pixels and convert to gray scale, as that is how our model was trained.\n",
        "\n",
        "Surprisingly the model was not able to generalize at all, it was incorrect on 100% of the test images. I was obviously expecting a decrease in performance but 0% accuracy was definitely an unpleasant surprise.\n",
        "\n",
        "Due to the incompatibility of labels and input size between datasets, fine tuning would be more difficult than training a new model. Too bad, as we ended up missing an important part of the purpose of the synthetic dataset, although all this was not completely wasted, we validated that the model architecture we chose is right for the problem at hand.\n",
        "\n",
        "### Training 2.0\n",
        "\n",
        "The SVHN data set provides coordinates of bounding boxes for each digit in an image, but since the purpose of our pipeline is to identify the whole street number in one shot, we needed to pass a cropped version of the image with all numbers in it, and not much more.\n",
        "\n",
        "We followed the suggested training methodology from Goodfellow et al.\n",
        "\n",
        "- Based on the provided bounding boxes, find another box that will contain all digits on the image\n",
        "\n",
        "- Expand this bounding box by 30% in each direction and crop the image to this bounding box\n",
        "\n",
        "- Resize the cropped image to 64 x 64 pixels\n",
        "\n",
        "- Random crop a 54 x 54 sample from the cropped image\n",
        "\n",
        "Training was again assisted by a python generator, that randomly cropped the 64 x 64 pixel image into 54 x 54 patches, aiming to increase the amount of training data. At this time 20% of the dataset was put aside for validation.\n",
        "\n",
        "The accuracy of the model on a realistic dataset is 83%, but the accuracy was still improving when we decided to interrupt the optimization."
      ]
    },
    {
      "cell_type": "markdown",
      "metadata": {
        "id": "k27VvQKj10UB",
        "colab_type": "text"
      },
      "source": [
        "### Question 5\n",
        "_What changes did you have to make, if any, to achieve \"good\" results? Were there any options you explored that made the results worse?_"
      ]
    },
    {
      "cell_type": "markdown",
      "metadata": {
        "id": "PHn0Nvsw10UC",
        "colab_type": "text"
      },
      "source": [
        "**Answer:**\n",
        "\n",
        "Knowing that we would need to train a new model from scratch gave me the freedom to implement some improvements to the architecture. I added back to the model the two convolutional blocks that were initially removed, I also increased the number of hidden units in the last two fully connected layers and added a new branch of softmax classifier to predict the length of the sequence of digits.\n",
        "\n",
        "Aside from these few adjustments, the model architecture is very similar to our first one and can be seen below:\n"
      ]
    },
    {
      "cell_type": "code",
      "metadata": {
        "id": "T352wL1B10UC",
        "colab_type": "code",
        "colab": {}
      },
      "source": [
        "SVG(model_to_dot(new_model, show_shapes=True).create(prog='dot', format='svg'))"
      ],
      "execution_count": 0,
      "outputs": []
    },
    {
      "cell_type": "markdown",
      "metadata": {
        "id": "Uft2Ta-p10UF",
        "colab_type": "text"
      },
      "source": [
        "### Question 6\n",
        "_What were your initial and final results with testing on a realistic dataset? Do you believe your model is doing a good enough job at classifying numbers correctly?_"
      ]
    },
    {
      "cell_type": "markdown",
      "metadata": {
        "id": "I7-wjZDD10UF",
        "colab_type": "text"
      },
      "source": [
        "**Answer:**\n",
        "\n",
        "My initial result was probably very close to 0, as I tried to use the pre-trained weights of my model on step 1, but didn't have an easy way of converting the labels of the second dataset to measure it's performance. Since the initial exploration was already indicating that it would have a poor performance, I decided to train a larger model, following the suggestion of the literature we based this work on.\n",
        "\n",
        "At the end of 20 epochs the accuracy of our model was 83% - still significantly below human accuracy, but it is a strong indicator that the model is able to learn and if trained for longer, it could achieve results similar to what was observed by the authors of the paper."
      ]
    },
    {
      "cell_type": "markdown",
      "metadata": {
        "id": "N0rR3pOe10UF",
        "colab_type": "text"
      },
      "source": [
        "----\n",
        "## Step 3: Test a Model on Newly-Captured Images\n",
        "\n",
        "Take several pictures of numbers that you find around you (at least five), and run them through your classifier on your computer to produce example results. Alternatively (optionally), you can try using OpenCV / SimpleCV / Pygame to capture live images from a webcam and run those through your classifier."
      ]
    },
    {
      "cell_type": "markdown",
      "metadata": {
        "id": "YLu3uujr10UG",
        "colab_type": "text"
      },
      "source": [
        "### Implementation\n",
        "Use the code cell (or multiple code cells, if necessary) to implement the first step of your project. Once you have completed your implementation and are satisfied with the results, be sure to thoroughly answer the questions that follow."
      ]
    },
    {
      "cell_type": "code",
      "metadata": {
        "id": "A8STK_kn10UG",
        "colab_type": "code",
        "colab": {}
      },
      "source": [
        "\n",
        "\n",
        "### Your code implementation goes here.\n",
        "### Feel free to use as many code cells as needed.\n",
        "\n"
      ],
      "execution_count": 0,
      "outputs": []
    },
    {
      "cell_type": "code",
      "metadata": {
        "id": "aFozo1wZ10UJ",
        "colab_type": "code",
        "colab": {}
      },
      "source": [
        "new_images = []\n",
        "new_filenames = []\n",
        "\n",
        "filelist = os.listdir('./data/')\n",
        "\n",
        "for file in filelist:\n",
        "\n",
        "    try:\n",
        "        img = cv2.imread('./data/' + file, cv2.IMREAD_COLOR)\n",
        "    except:\n",
        "        img = None\n",
        "\n",
        "    if img is not None:\n",
        "        img = cv2.cvtColor(img, cv2.COLOR_BGR2RGB)\n",
        "        img = cv2.resize(img, (54, 54))\n",
        "        new_images.append(img)\n",
        "        new_filenames.append(file)"
      ],
      "execution_count": 0,
      "outputs": []
    },
    {
      "cell_type": "code",
      "metadata": {
        "id": "st_lMQwA10UM",
        "colab_type": "code",
        "colab": {}
      },
      "source": [
        "new_images = np.array(new_images)\n",
        "test_new_preds = new_model.predict(new_images)\n",
        "new_pred_labels = new_convert_output(test_new_preds)"
      ],
      "execution_count": 0,
      "outputs": []
    },
    {
      "cell_type": "code",
      "metadata": {
        "scrolled": true,
        "id": "7ipLOwIO10UT",
        "colab_type": "code",
        "colab": {}
      },
      "source": [
        "rows_to_plot = 5\n",
        "cols_to_plot = 2\n",
        "\n",
        "f = plt.figure(figsize=(12, 20))\n",
        "\n",
        "for i, (pred, img) in enumerate(zip(new_pred_labels, new_images)):\n",
        "    f.add_subplot(rows_to_plot, cols_to_plot, i+1)\n",
        "    plt.title(\"Predicted: \" + pred)\n",
        "    plt.imshow(img)\n",
        "    plt.axis('off')\n",
        "\n",
        "plt.tight_layout()\n",
        "plt.show()"
      ],
      "execution_count": 0,
      "outputs": []
    },
    {
      "cell_type": "markdown",
      "metadata": {
        "id": "CRpts_LB10UU",
        "colab_type": "text"
      },
      "source": [
        "We will now pass on the cropped numbers to see if it gets any better"
      ]
    },
    {
      "cell_type": "code",
      "metadata": {
        "id": "6X-DQwi_10UV",
        "colab_type": "code",
        "colab": {}
      },
      "source": [
        "new_images = []\n",
        "new_filenames = []\n",
        "\n",
        "filelist = os.listdir('./data/small/')\n",
        "\n",
        "for file in filelist:\n",
        "\n",
        "    try:\n",
        "        img = cv2.imread('./data/small/' + file, cv2.IMREAD_COLOR)\n",
        "    except:\n",
        "        img = None\n",
        "\n",
        "    if img is not None:\n",
        "        img = cv2.cvtColor(img, cv2.COLOR_BGR2RGB)\n",
        "        img = cv2.resize(img, (54, 54))\n",
        "        new_images.append(img)\n",
        "        new_filenames.append(file)"
      ],
      "execution_count": 0,
      "outputs": []
    },
    {
      "cell_type": "code",
      "metadata": {
        "id": "Ur2FEMFX10UZ",
        "colab_type": "code",
        "colab": {}
      },
      "source": [
        "new_images = np.array(new_images)\n",
        "test_new_preds = new_model.predict(new_images)\n",
        "new_pred_labels = new_convert_output(test_new_preds)"
      ],
      "execution_count": 0,
      "outputs": []
    },
    {
      "cell_type": "code",
      "metadata": {
        "id": "cqZhVViq10Ua",
        "colab_type": "code",
        "colab": {}
      },
      "source": [
        "rows_to_plot = 5\n",
        "cols_to_plot = 2\n",
        "\n",
        "f = plt.figure(figsize=(12, 20))\n",
        "\n",
        "for i, (pred, img) in enumerate(zip(new_pred_labels, new_images)):\n",
        "    f.add_subplot(rows_to_plot, cols_to_plot, i+1)\n",
        "    plt.title(\"Predicted: \" + pred)\n",
        "    plt.imshow(img)\n",
        "    plt.axis('off')\n",
        "\n",
        "plt.tight_layout()\n",
        "plt.show()"
      ],
      "execution_count": 0,
      "outputs": []
    },
    {
      "cell_type": "markdown",
      "metadata": {
        "id": "CUUhsYfP10Uc",
        "colab_type": "text"
      },
      "source": [
        "Ah! Much better!"
      ]
    },
    {
      "cell_type": "markdown",
      "metadata": {
        "id": "hR4IU4EX10Uc",
        "colab_type": "text"
      },
      "source": [
        "### Question 7\n",
        "_Choose five candidate images of numbers you took from around you and provide them in the report. Are there any particular qualities of the image(s) that might make classification difficult?_"
      ]
    },
    {
      "cell_type": "markdown",
      "metadata": {
        "id": "CjHw3EMJ10Uc",
        "colab_type": "text"
      },
      "source": [
        "**Answer:**\n",
        "\n",
        "The pictures were taking from a long distance, and when they were scaled down the algorithm failed to predict in all 5 cases. When we passed the cropped number it actually had a performance similar to what we found above ~80% (4 out of 5 numbers were correctly labeled)"
      ]
    },
    {
      "cell_type": "markdown",
      "metadata": {
        "id": "tbm9VXIS10Ud",
        "colab_type": "text"
      },
      "source": [
        "### Question 8\n",
        "_Is your model able to perform equally well on captured pictures or a live camera stream when compared to testing on the realistic dataset?_"
      ]
    },
    {
      "cell_type": "markdown",
      "metadata": {
        "id": "qPkLyAXr10Ud",
        "colab_type": "text"
      },
      "source": [
        "**Answer:**\n",
        "\n",
        "Our model only performed well when the images were cropped in a similar way as the images we passed on to the model during training. Which is in line with what should be expected. We trained the model using an easier dataset where the numbers were already located for it and it's unreasonable to expect that the model would be able to generalize to images with a lot more information.\n",
        "\n",
        "Another issue is that we trained the model on a super small patch of image 54 x 54 pixels, and to use an image that was captured with a smartphone we needed to downsize it so much that any detail was lost. "
      ]
    },
    {
      "cell_type": "markdown",
      "metadata": {
        "id": "AbFzgTuw10Ue",
        "colab_type": "text"
      },
      "source": [
        "### Optional: Question 9\n",
        "_If necessary, provide documentation for how an interface was built for your model to load and classify newly-acquired images._"
      ]
    },
    {
      "cell_type": "markdown",
      "metadata": {
        "id": "dShIGa0K10Uf",
        "colab_type": "text"
      },
      "source": [
        "**Answer:** Leave blank if you did not complete this part."
      ]
    },
    {
      "cell_type": "markdown",
      "metadata": {
        "id": "XZCKBnH710Uf",
        "colab_type": "text"
      },
      "source": [
        "----\n",
        "### Step 4: Explore an Improvement for a Model\n",
        "\n",
        "There are many things you can do once you have the basic classifier in place. One example would be to also localize where the numbers are on the image. The SVHN dataset provides bounding boxes that you can tune to train a localizer. Train a regression loss to the coordinates of the bounding box, and then test it. "
      ]
    },
    {
      "cell_type": "markdown",
      "metadata": {
        "id": "zK2dyOx810Ug",
        "colab_type": "text"
      },
      "source": [
        "### Implementation\n",
        "Use the code cell (or multiple code cells, if necessary) to implement the first step of your project. Once you have completed your implementation and are satisfied with the results, be sure to thoroughly answer the questions that follow."
      ]
    },
    {
      "cell_type": "code",
      "metadata": {
        "id": "Ne8fsxmg10Ug",
        "colab_type": "code",
        "colab": {}
      },
      "source": [
        "\n",
        "\n",
        "### Your code implementation goes here.\n",
        "### Feel free to use as many code cells as needed.\n",
        "\n"
      ],
      "execution_count": 0,
      "outputs": []
    },
    {
      "cell_type": "code",
      "metadata": {
        "id": "WeECFwso10Ui",
        "colab_type": "code",
        "colab": {}
      },
      "source": [
        "trn_filenames, val_filenames = train_test_split(train_filenames, test_size=0.2)"
      ],
      "execution_count": 0,
      "outputs": []
    },
    {
      "cell_type": "markdown",
      "metadata": {
        "id": "upx3oKCw10Uj",
        "colab_type": "text"
      },
      "source": [
        "#### Get bounding boxes to train"
      ]
    },
    {
      "cell_type": "code",
      "metadata": {
        "id": "VvgPezIN10Ul",
        "colab_type": "code",
        "colab": {}
      },
      "source": [
        "def get_bbox(filepath, dataframe, verbose=0):\n",
        "    \"\"\"\n",
        "    This function expects a filepath of an image and a dataframe with information for the bounding boxes\n",
        "    and will return a larger bounding box that wraps all the digits on the house number.\n",
        "    \n",
        "    \"\"\"\n",
        "\n",
        "    # 1 - find bounding box for whole street number\n",
        "    fn = filepath.split('/')[-1].split('.')[0]\n",
        "\n",
        "    left = np.min(dataframe.loc[int(fn) - 1].left).astype(np.uint)\n",
        "    top = np.min(dataframe.loc[int(fn) - 1].top).astype(np.uint)\n",
        "    bottom = (np.max(dataframe.loc[int(fn) - 1].top) + np.max(dataframe.loc[int(fn) - 1].height)).astype(np.uint)\n",
        "    right = (np.max(dataframe.loc[int(fn) - 1].left) + np.max(dataframe.loc[int(fn) - 1].width)).astype(np.uint)\n",
        "\n",
        "    if verbose>0:\n",
        "        print \"left: \", left, \"    right: \", right, \"    top: \", top, \"    bottom: \", bottom, \"\\n\"\n",
        "\n",
        "    \n",
        "    return left, right, top, bottom"
      ],
      "execution_count": 0,
      "outputs": []
    },
    {
      "cell_type": "code",
      "metadata": {
        "id": "YQ92rQvL10Um",
        "colab_type": "code",
        "colab": {}
      },
      "source": [
        "def create_rect(bb, color='red'):\n",
        "    return plt.Rectangle((bb[0], bb[2]), bb[1] - bb[0], bb[3] - bb[2], color=color, fill=False, lw=3)\n",
        "\n",
        "def show_bb_raw(filepath, dataframe):\n",
        "    bb = get_bbox(filepath, dataframe)\n",
        "    plt.imshow(Image.open(filepath, mode='r'))\n",
        "    plt.gca().add_patch(create_rect(bb))\n",
        "\n",
        "def show_bb(img, bb, bb_2=None):\n",
        "    plt.imshow(img)\n",
        "    plt.gca().add_patch(create_rect(bb))\n",
        "    if bb_2 is not None:\n",
        "        plt.gca().add_patch(create_rect(bb_2, 'yellow'))"
      ],
      "execution_count": 0,
      "outputs": []
    },
    {
      "cell_type": "code",
      "metadata": {
        "id": "LKdDZLMX10Uo",
        "colab_type": "code",
        "colab": {}
      },
      "source": [
        "show_bb_raw(val_filenames[5587], trn_data)"
      ],
      "execution_count": 0,
      "outputs": []
    },
    {
      "cell_type": "markdown",
      "metadata": {
        "id": "MQsjsECc10Uq",
        "colab_type": "text"
      },
      "source": [
        "#### Rescaling images and bounding boxes\n",
        "\n",
        "Since we have images with various dimensions, we will need to rescale them to the same size in order to feed our model. We will also need to apply the same transformation to the bounding boxes coordinates."
      ]
    },
    {
      "cell_type": "code",
      "metadata": {
        "id": "ztj2q0b410Ur",
        "colab_type": "code",
        "colab": {}
      },
      "source": [
        "def resize_imgs(filepath, dataframe, return_bbox=True, target_sz=(64, 64), verbose=0):\n",
        "\n",
        "    # 1 - open the image and store img dimensions\n",
        "    img = cv2.imread(filepath, cv2.IMREAD_COLOR)\n",
        "    img = cv2.cvtColor(img, cv2.COLOR_BGR2RGB)\n",
        "\n",
        "    img_h = float(img.shape[0])\n",
        "    img_w = float(img.shape[1])\n",
        "\n",
        "    if verbose>0:\n",
        "        print \"img_h: \", img_h, \"    img_w: \", img_w, \"\\n\"\n",
        "        print \"tgt_sz_0: \", target_sz[0], \"    tgt_sz_1: \", target_sz[1], \"\\n\"\n",
        "\n",
        "    # 2 - resize image\n",
        "    rescaled = cv2.resize(img, target_sz)\n",
        "    \n",
        "    if return_bbox:\n",
        "\n",
        "        # 3 - find bounding box for whole street number\n",
        "        fn = filepath.split('/')[-1].split('.')[0]\n",
        "\n",
        "        left = np.min(dataframe.loc[int(fn) - 1].left)\n",
        "        top = np.min(dataframe.loc[int(fn) - 1].top)\n",
        "        bottom = (np.max(dataframe.loc[int(fn) - 1].top) + np.max(dataframe.loc[int(fn) - 1].height))\n",
        "        right = (np.max(dataframe.loc[int(fn) - 1].left) + np.max(dataframe.loc[int(fn) - 1].width))\n",
        "        \n",
        "        if verbose>0:\n",
        "            print \"left: \", left, \"    right: \", right, \"    top: \", top, \"    bottom: \", bottom, \"\\n\"\n",
        "\n",
        "        # 4 - Convert bounding box to new image size\n",
        "        h_ratio = img_h / target_sz[0]\n",
        "        w_ratio = img_w / target_sz[1]\n",
        "\n",
        "        if verbose>0:\n",
        "            print \"h_ratio: \", h_ratio, \"    w_ratio: \", w_ratio, \"\\n\"\n",
        "        \n",
        "        left = np.max((0, np.floor_divide(left, w_ratio)))\n",
        "        right = np.min((target_sz[1], np.floor_divide(right, w_ratio)))\n",
        "        top = np.max((0, np.floor_divide(top, h_ratio)))\n",
        "        bottom = np.min((target_sz[0], np.floor_divide(bottom, h_ratio)))\n",
        "\n",
        "        if verbose>0:\n",
        "            print \"left: \", left, \"    right: \", right, \"    top: \", top, \"    bottom: \", bottom, \"\\n\"\n",
        "\n",
        "        return rescaled, [left, right, top, bottom]\n",
        "\n",
        "    else:\n",
        "        return rescaled"
      ],
      "execution_count": 0,
      "outputs": []
    },
    {
      "cell_type": "code",
      "metadata": {
        "id": "WLuCj8Ad10Us",
        "colab_type": "code",
        "colab": {}
      },
      "source": [
        "\"\"\"trn_bbox_imgs = []\n",
        "trn_bbox_box = []\n",
        "target_sz = (64, 64)\n",
        "\n",
        "for filename in trn_filenames:\n",
        "    img, bb = resize_imgs(filename, trn_data, target_sz=(64, 64), verbose=0)\n",
        "    trn_bbox_imgs.append(img)\n",
        "    trn_bbox_box.append(bb)\n",
        "\n",
        "trn_bbox_box = np.array(trn_bbox_box)\n",
        "trn_bbox_imgs = np.array(trn_bbox_imgs)\"\"\""
      ],
      "execution_count": 0,
      "outputs": []
    },
    {
      "cell_type": "code",
      "metadata": {
        "id": "ODNjB-4_10Uu",
        "colab_type": "code",
        "colab": {}
      },
      "source": [
        "\"\"\"val_bbox_imgs = []\n",
        "val_bbox_box = []\n",
        "target_sz = (64, 64)\n",
        "\n",
        "for filename in val_filenames:\n",
        "    img, bb = resize_imgs(filename, trn_data, target_sz=(64, 64), verbose=0)\n",
        "    val_bbox_imgs.append(img)\n",
        "    val_bbox_box.append(bb)\n",
        "\n",
        "val_bbox_box = np.array(val_bbox_box)\n",
        "val_bbox_imgs = np.array(val_bbox_imgs)\"\"\""
      ],
      "execution_count": 0,
      "outputs": []
    },
    {
      "cell_type": "code",
      "metadata": {
        "id": "NDMI6GBZ10Uy",
        "colab_type": "code",
        "colab": {}
      },
      "source": [
        "\"\"\"# Save images and bboxes to pickle\n",
        "f = open('trn_filenames.pickle', 'wb')\n",
        "pickle.dump(trn_filenames, f, pickle.HIGHEST_PROTOCOL)\n",
        "f.close()\n",
        "\n",
        "f = open('val_filenames.pickle', 'wb')\n",
        "pickle.dump(val_filenames, f, pickle.HIGHEST_PROTOCOL)\n",
        "f.close()\n",
        "\n",
        "f = open('trn_bbox_box.pickle', 'wb')\n",
        "pickle.dump(trn_bbox_box, f, pickle.HIGHEST_PROTOCOL)\n",
        "f.close()\n",
        "\n",
        "f = open('trn_bbox_imgs.pickle', 'wb')\n",
        "pickle.dump(trn_bbox_imgs, f, pickle.HIGHEST_PROTOCOL)\n",
        "f.close()\n",
        "\n",
        "f = open('val_bbox_box.pickle', 'wb')\n",
        "pickle.dump(val_bbox_box, f, pickle.HIGHEST_PROTOCOL)\n",
        "f.close()\n",
        "\n",
        "f = open('val_bbox_imgs.pickle', 'wb')\n",
        "pickle.dump(val_bbox_imgs, f, pickle.HIGHEST_PROTOCOL)\n",
        "f.close()\"\"\""
      ],
      "execution_count": 0,
      "outputs": []
    },
    {
      "cell_type": "code",
      "metadata": {
        "id": "yKTqjsgl10Uz",
        "colab_type": "code",
        "colab": {}
      },
      "source": [
        "# Load Pickles\n",
        "f = open('trn_filenames.pickle', 'r')\n",
        "trn_filenames = pickle.load(f)\n",
        "f.close()\n",
        "\n",
        "f = open('val_filenames.pickle', 'r')\n",
        "val_filenames = pickle.load(f)\n",
        "f.close()\n",
        "\n",
        "f = open('trn_bbox_box.pickle', 'r')\n",
        "trn_bbox_box = pickle.load(f)\n",
        "f.close()\n",
        "\n",
        "f = open('trn_bbox_imgs.pickle', 'r')\n",
        "trn_bbox_imgs = pickle.load(f)\n",
        "f.close()\n",
        "\n",
        "f = open('val_bbox_box.pickle', 'r')\n",
        "val_bbox_box = pickle.load(f)\n",
        "f.close()\n",
        "\n",
        "f = open('val_bbox_imgs.pickle', 'r')\n",
        "val_bbox_imgs = pickle.load(f)\n",
        "f.close()\n",
        "\n",
        "trn_bbox_box = np.array(trn_bbox_box, dtype=float)\n",
        "trn_bbox_imgs = np.array(trn_bbox_imgs, dtype=float)\n",
        "val_bbox_box = np.array(val_bbox_box, dtype=float)\n",
        "val_bbox_imgs = np.array(val_bbox_imgs, dtype=float)"
      ],
      "execution_count": 0,
      "outputs": []
    },
    {
      "cell_type": "code",
      "metadata": {
        "id": "FLNIZ_ab10U1",
        "colab_type": "code",
        "colab": {}
      },
      "source": [
        "def cvt_bbox(bbox):\n",
        "    \"\"\"\n",
        "    Input: bounding box: Left, Right, Top, Bottom\n",
        "    Output: x0, y0, width, height\n",
        "    \"\"\"\n",
        "    \n",
        "    left, right, top, bottom = bbox\n",
        "    \n",
        "    x0 = left\n",
        "    y0 = top\n",
        "    width = right - left\n",
        "    height = bottom - top\n",
        "    \n",
        "    return x0, y0, width, height"
      ],
      "execution_count": 0,
      "outputs": []
    },
    {
      "cell_type": "code",
      "metadata": {
        "id": "HCamIxQO10U2",
        "colab_type": "code",
        "colab": {}
      },
      "source": [
        "#trn_bbox_box_new = [cvt_bbox(box) for box in trn_bbox_box]\n",
        "trn_bbox_imgs /= 255\n",
        "trn_bbox_imgs -= 0.5\n",
        "\n",
        "#val_bbox_box_new  = [cvt_bbox(box) for box in val_bbox_box]\n",
        "val_bbox_imgs /= 255\n",
        "val_bbox_imgs -= 0.5"
      ],
      "execution_count": 0,
      "outputs": []
    },
    {
      "cell_type": "code",
      "metadata": {
        "id": "ujSrFebB10U5",
        "colab_type": "code",
        "colab": {}
      },
      "source": [
        "ref=777\n",
        "show_bb(trn_bbox_imgs[ref], trn_bbox_box[ref])"
      ],
      "execution_count": 0,
      "outputs": []
    },
    {
      "cell_type": "markdown",
      "metadata": {
        "id": "Xof9sCDm10U7",
        "colab_type": "text"
      },
      "source": [
        "#### First attempt: Use the image and the coordinates of the bounding boxes"
      ]
    },
    {
      "cell_type": "code",
      "metadata": {
        "id": "kNfRZLJg10U9",
        "colab_type": "code",
        "colab": {}
      },
      "source": [
        "inputs = Input(((64, 64, 3)))\n",
        "\n",
        "x = BatchNormalization()(inputs)\n",
        "x = Convolution2D(64, 3, activation='relu', padding='same')(x)\n",
        "x = Dropout(0.25)(x)\n",
        "\n",
        "x = BatchNormalization()(x)\n",
        "x = Convolution2D(128, 3, activation='relu', padding='same')(x)\n",
        "x = Dropout(0.5)(x)\n",
        "\n",
        "x = BatchNormalization()(x)\n",
        "x = Convolution2D(256, 3, activation='relu', padding='same')(x)\n",
        "x = Dropout(0.5)(x)\n",
        "\n",
        "x = Flatten()(x)\n",
        "x_bb = Dense(4, name='bb')(x)"
      ],
      "execution_count": 0,
      "outputs": []
    },
    {
      "cell_type": "markdown",
      "metadata": {
        "id": "SZehIKZd10VB",
        "colab_type": "text"
      },
      "source": [
        "#### Overfit small sample"
      ]
    },
    {
      "cell_type": "code",
      "metadata": {
        "id": "ogAn9Osk10VC",
        "colab_type": "code",
        "colab": {}
      },
      "source": [
        "loc_model = Model([inputs], x_bb,)\n",
        "loc_model.compile(Adam(lr=0.001), loss='mse', metrics=['mae'])"
      ],
      "execution_count": 0,
      "outputs": []
    },
    {
      "cell_type": "code",
      "metadata": {
        "id": "NrOMP_QF10VE",
        "colab_type": "code",
        "colab": {}
      },
      "source": [
        "loc_model.fit(trn_bbox_imgs[0:5], trn_bbox_box[0:5], batch_size=5, epochs=50, verbose=0)"
      ],
      "execution_count": 0,
      "outputs": []
    },
    {
      "cell_type": "code",
      "metadata": {
        "id": "MwaME7sI10VI",
        "colab_type": "code",
        "colab": {}
      },
      "source": [
        "plt.plot(loc_model.history.history['loss'], '-o')\n",
        "plt.legend(['trn_loss'], loc='upper right')\n",
        "plt.xlabel('iteration')\n",
        "plt.ylabel('loss')"
      ],
      "execution_count": 0,
      "outputs": []
    },
    {
      "cell_type": "markdown",
      "metadata": {
        "id": "_U-glFmC10VL",
        "colab_type": "text"
      },
      "source": [
        "#### Train"
      ]
    },
    {
      "cell_type": "code",
      "metadata": {
        "id": "GzvXFugy10VL",
        "colab_type": "code",
        "colab": {}
      },
      "source": [
        "loc_model = Model([inputs], x_bb,)\n",
        "loc_model.compile(Adam(lr=0.001), loss='mse', metrics=['mae'])"
      ],
      "execution_count": 0,
      "outputs": []
    },
    {
      "cell_type": "code",
      "metadata": {
        "id": "c_Ct5Jf210VN",
        "colab_type": "code",
        "colab": {}
      },
      "source": [
        "loc_model.fit(trn_bbox_imgs, trn_bbox_box, batch_size=32, epochs=5,\n",
        "              validation_data=(val_bbox_imgs, val_bbox_box), verbose=1)"
      ],
      "execution_count": 0,
      "outputs": []
    },
    {
      "cell_type": "code",
      "metadata": {
        "id": "bVKlG9qK10VP",
        "colab_type": "code",
        "colab": {}
      },
      "source": [
        "plt.plot(loc_model.history.history['loss'], '-o')\n",
        "plt.plot(loc_model.history.history['val_loss'], '-o')\n",
        "plt.legend(['trn_loss', 'val_loss'], loc='upper right')\n",
        "plt.xlabel('iteration')\n",
        "plt.ylabel('loss')"
      ],
      "execution_count": 0,
      "outputs": []
    },
    {
      "cell_type": "code",
      "metadata": {
        "id": "Tgonrd-k10VS",
        "colab_type": "code",
        "colab": {}
      },
      "source": [
        "pred_box = loc_model.predict(val_bbox_imgs)"
      ],
      "execution_count": 0,
      "outputs": []
    },
    {
      "cell_type": "code",
      "metadata": {
        "id": "3oSmwxVt10VV",
        "colab_type": "code",
        "colab": {}
      },
      "source": [
        "val_ref=8\n",
        "show_bb((val_bbox_imgs[val_ref] + 0.5) * 255, val_bbox_box[val_ref], pred_box[val_ref])"
      ],
      "execution_count": 0,
      "outputs": []
    },
    {
      "cell_type": "markdown",
      "metadata": {
        "id": "9OEa8I3s10VX",
        "colab_type": "text"
      },
      "source": [
        "#### Second attempt: Transform bounding boxes into image masks and use a better loss function"
      ]
    },
    {
      "cell_type": "code",
      "metadata": {
        "id": "2-CmRQ3l10VX",
        "colab_type": "code",
        "colab": {}
      },
      "source": [
        "def get_mask_seg(img, bbox, value=1.):\n",
        "    \n",
        "    img_mask = np.zeros_like(img[:,:,0])\n",
        "    \n",
        "    x_min, x_max, y_min, y_max = bbox\n",
        "    \n",
        "    x_min = np.round(x_min,0).astype(np.uint8)\n",
        "    x_max = np.round(x_max,0).astype(np.uint8)\n",
        "    y_min = np.round(y_min,0).astype(np.uint8)\n",
        "    y_max = np.round(y_max,0).astype(np.uint8)\n",
        "\n",
        "    img_mask[y_min:y_max, x_min:x_max]= 1. * value\n",
        "\n",
        "    img_mask = np.reshape(img_mask,(np.shape(img_mask)[0],np.shape(img_mask)[1],1))\n",
        "    \n",
        "    return img_mask"
      ],
      "execution_count": 0,
      "outputs": []
    },
    {
      "cell_type": "code",
      "metadata": {
        "id": "7k5S1Yi010VZ",
        "colab_type": "code",
        "colab": {}
      },
      "source": [
        "def plot_im_mask(im,im_mask):\n",
        "    ### Function to plot image mask \n",
        "    \n",
        "    im = np.array(im,dtype=np.uint8)\n",
        "    im_mask = np.array(im_mask,dtype=np.uint8)\n",
        "    plt.figure(figsize=(24,12))\n",
        "    plt.subplot(1,3,1)\n",
        "    plt.imshow(im)\n",
        "    plt.axis('off')\n",
        "    plt.subplot(1,3,2)\n",
        "    plt.imshow(im_mask[:,:,0])\n",
        "    plt.axis('off')\n",
        "    plt.subplot(1,3,3)\n",
        "    plt.imshow(cv2.bitwise_and(im,im,mask=im_mask));\n",
        "    plt.axis('off')\n",
        "    plt.show();"
      ],
      "execution_count": 0,
      "outputs": []
    },
    {
      "cell_type": "code",
      "metadata": {
        "id": "leXSRwjl10Va",
        "colab_type": "code",
        "colab": {}
      },
      "source": [
        "loc_trn_mask = np.array([get_mask_seg(img,bbox, value=1.) for (img,bbox) in zip(trn_bbox_imgs, trn_bbox_box) ])\n",
        "\n",
        "loc_val_mask = np.array([get_mask_seg(img,bbox, value=1.) for (img,bbox) in zip(val_bbox_imgs, val_bbox_box) ])"
      ],
      "execution_count": 0,
      "outputs": []
    },
    {
      "cell_type": "code",
      "metadata": {
        "id": "psNk4XyD10Vc",
        "colab_type": "code",
        "colab": {}
      },
      "source": [
        "ref = 777\n",
        "plot_im_mask(trn_bbox_imgs[ref], loc_trn_mask[ref] * 255.)"
      ],
      "execution_count": 0,
      "outputs": []
    },
    {
      "cell_type": "markdown",
      "metadata": {
        "id": "r-0grF5110Vg",
        "colab_type": "text"
      },
      "source": [
        "#### IOU Loss"
      ]
    },
    {
      "cell_type": "code",
      "metadata": {
        "id": "i-FiF14d10Vh",
        "colab_type": "code",
        "colab": {}
      },
      "source": [
        "### IOU or dice coeff calculation measures the similarity in both area and position of the two bounding boxes\n",
        "\n",
        "def IOU_calc(y_true, y_pred, smooth=1):\n",
        "    y_true_f = K.flatten(y_true)\n",
        "    y_pred_f = K.flatten(y_pred)\n",
        "    intersection = K.sum(y_true_f * y_pred_f)\n",
        "    \n",
        "    return (2. * intersection + smooth) / (K.sum(y_true_f) + K.sum(y_pred_f) + smooth)\n",
        "\n",
        "def IOU_loss(y_true, y_pred):\n",
        "    return -IOU_calc(y_true, y_pred)"
      ],
      "execution_count": 0,
      "outputs": []
    },
    {
      "cell_type": "code",
      "metadata": {
        "id": "IEbJmjei10Vj",
        "colab_type": "code",
        "colab": {}
      },
      "source": [
        "inputs2 = Input(((64, 64, 3)))\n",
        "\n",
        "x = BatchNormalization()(inputs2)\n",
        "x = Convolution2D(64, 3, activation='relu', padding='same')(x)\n",
        "x = Dropout(0.25)(x)\n",
        "\n",
        "x = BatchNormalization()(x)\n",
        "x = Convolution2D(128, 3, activation='relu', padding='same')(x)\n",
        "x = Dropout(0.5)(x)\n",
        "\n",
        "x = BatchNormalization()(x)\n",
        "x = Convolution2D(256, 3, activation='relu', padding='same')(x)\n",
        "x = Dropout(0.5)(x)\n",
        "\n",
        "output2 = Convolution2D(1, 3, activation='sigmoid', padding='same')(x)"
      ],
      "execution_count": 0,
      "outputs": []
    },
    {
      "cell_type": "code",
      "metadata": {
        "id": "2PMAlmwT10Vk",
        "colab_type": "code",
        "colab": {}
      },
      "source": [
        "loc_model2 = Model([inputs2], output2,)\n",
        "loc_model2.compile(Adam(lr=0.001), loss=IOU_loss, metrics=[IOU_calc])"
      ],
      "execution_count": 0,
      "outputs": []
    },
    {
      "cell_type": "markdown",
      "metadata": {
        "id": "Jg5n3C-f10Vm",
        "colab_type": "text"
      },
      "source": [
        "#### Overfit small sample"
      ]
    },
    {
      "cell_type": "code",
      "metadata": {
        "id": "_C40wJ1m10Vm",
        "colab_type": "code",
        "colab": {}
      },
      "source": [
        "loc_model2.fit(trn_bbox_imgs[0:5], loc_trn_mask[0:5], batch_size=5, epochs=10, verbose=1)"
      ],
      "execution_count": 0,
      "outputs": []
    },
    {
      "cell_type": "code",
      "metadata": {
        "id": "D7s3R8sB10Vo",
        "colab_type": "code",
        "colab": {}
      },
      "source": [
        "plt.plot(loc_model2.history.history['loss'], '-o')\n",
        "plt.legend(['trn_loss'], loc='upper right')\n",
        "plt.xlabel('iteration')\n",
        "plt.ylabel('loss')"
      ],
      "execution_count": 0,
      "outputs": []
    },
    {
      "cell_type": "markdown",
      "metadata": {
        "id": "Ax94ABSs10Vp",
        "colab_type": "text"
      },
      "source": [
        "#### Train"
      ]
    },
    {
      "cell_type": "code",
      "metadata": {
        "id": "4UW-I0t210Vq",
        "colab_type": "code",
        "colab": {}
      },
      "source": [
        "loc_model2 = Model([inputs2], output2,)\n",
        "loc_model2.compile(Adam(lr=0.001), loss=IOU_loss, metrics=[IOU_calc])"
      ],
      "execution_count": 0,
      "outputs": []
    },
    {
      "cell_type": "code",
      "metadata": {
        "id": "GBKRfq1K10Vr",
        "colab_type": "code",
        "colab": {}
      },
      "source": [
        "loc_model2.fit(trn_bbox_imgs, loc_trn_mask, batch_size=32, epochs=2,\n",
        "              validation_data=(val_bbox_imgs, loc_val_mask), verbose=1)"
      ],
      "execution_count": 0,
      "outputs": []
    },
    {
      "cell_type": "code",
      "metadata": {
        "id": "YOTQYvIb10Vt",
        "colab_type": "code",
        "colab": {}
      },
      "source": [
        "plt.plot(loc_model2.history.history['loss'], '-o')\n",
        "plt.plot(loc_model2.history.history['val_loss'], '-o')\n",
        "plt.legend(['trn_loss', 'val_loss'], loc='upper right')\n",
        "plt.xlabel('iteration')\n",
        "plt.ylabel('loss')"
      ],
      "execution_count": 0,
      "outputs": []
    },
    {
      "cell_type": "code",
      "metadata": {
        "id": "KqI_KzuK10Vv",
        "colab_type": "code",
        "colab": {}
      },
      "source": [
        "pred_box2 = loc_model2.predict(val_bbox_imgs)"
      ],
      "execution_count": 0,
      "outputs": []
    },
    {
      "cell_type": "code",
      "metadata": {
        "id": "JQgC5RDr10Vw",
        "colab_type": "code",
        "colab": {}
      },
      "source": [
        "plt.imshow(loc_val_mask[2][:,:,0], cmap='gray')"
      ],
      "execution_count": 0,
      "outputs": []
    },
    {
      "cell_type": "code",
      "metadata": {
        "id": "o51HYND610Vy",
        "colab_type": "code",
        "colab": {}
      },
      "source": [
        "plt.imshow(pred_box2[2][:,:,0], cmap='gray')"
      ],
      "execution_count": 0,
      "outputs": []
    },
    {
      "cell_type": "markdown",
      "metadata": {
        "id": "jU6nsZ0S10V1",
        "colab_type": "text"
      },
      "source": [
        "#### Save  and load our model"
      ]
    },
    {
      "cell_type": "code",
      "metadata": {
        "id": "N_R8lALM10V1",
        "colab_type": "code",
        "colab": {}
      },
      "source": [
        "#loc_model.save_weights('./models/locator.h5')"
      ],
      "execution_count": 0,
      "outputs": []
    },
    {
      "cell_type": "code",
      "metadata": {
        "id": "0VENZ8KZ10V3",
        "colab_type": "code",
        "colab": {}
      },
      "source": [
        "loc_model.load_weights('./models/locator.h5')"
      ],
      "execution_count": 0,
      "outputs": []
    },
    {
      "cell_type": "markdown",
      "metadata": {
        "id": "5Zlq7SRd10V5",
        "colab_type": "text"
      },
      "source": [
        "Still not amazing, but with this approach we can try fancier networks, like U-net.\n",
        "[U-Net: Convolutional Networks for Biomedical Image Segmentation](https://lmb.informatik.uni-freiburg.de/people/ronneber/u-net/)\n",
        "\n",
        "We will need to change it a little bit because our input image is a lot smaller than the ones they used on their model, but the concept will be the same."
      ]
    },
    {
      "cell_type": "code",
      "metadata": {
        "id": "2lBw6uYH10V6",
        "colab_type": "code",
        "colab": {}
      },
      "source": [
        "def unet(input_shape=(64, 64, 3)):\n",
        "    \n",
        "    inputs = Input(((input_shape[0], input_shape[1], input_shape[2])))\n",
        "    \n",
        "    c_1 = Convolution2D(32, 3, activation='relu', padding='same', name='conv1_a')(inputs)\n",
        "    c_1 = Convolution2D(32, 3, activation='relu', padding='same', name='conv1_b')(c_1)\n",
        "    p_1 = MaxPooling2D(pool_size=(2, 2), name='pool1')(c_1)\n",
        "\n",
        "    c_2 = Convolution2D(64, 3, activation='relu', padding='same', name='conv2_a')(p_1)\n",
        "    c_2 = Convolution2D(64, 3, activation='relu', padding='same', name='conv2_b')(c_2)\n",
        "    p_2 = MaxPooling2D(pool_size=(2, 2), name='pool2')(c_2)\n",
        "\n",
        "    c_3 = Convolution2D(128, 3, activation='relu', padding='same', name='conv3_a')(p_2)\n",
        "    c_3 = Convolution2D(128, 3, activation='relu', padding='same', name='conv3_b')(c_3)\n",
        "    p_3 = MaxPooling2D(pool_size=(2, 2), name='pool3')(c_3)\n",
        "\n",
        "    c_4 = Convolution2D(256, 3, activation='relu', padding='same', name='conv4_a')(p_3)\n",
        "    c_4 = Convolution2D(256, 3, activation='relu', padding='same', name='conv4_b')(c_4)\n",
        "    p_4 = MaxPooling2D(pool_size=(2, 2), name='pool4')(c_4)\n",
        "\n",
        "    c_5 = Convolution2D(512, 3, activation='relu', padding='same', name='conv5_a')(p_4)\n",
        "    c_5 = Convolution2D(512, 3, activation='relu', padding='same', name='conv5_b')(c_5)\n",
        "\n",
        "    up_6 = concatenate([UpSampling2D(size=(2, 2))(c_5), c_4])\n",
        "    c_6 = Convolution2D(256, 3, activation='relu', padding='same', name='conv6_a')(up_6)\n",
        "    c_6 = Convolution2D(256, 3, activation='relu', padding='same', name='conv6_b')(c_6)\n",
        "\n",
        "    up_7 = concatenate([UpSampling2D(size=(2, 2))(c_6), c_3])\n",
        "    c_7 = Convolution2D(128, 3, activation='relu', padding='same', name='conv7_a')(up_7)\n",
        "    c_7 = Convolution2D(128, 3, activation='relu', padding='same', name='conv7_b')(c_7)\n",
        "\n",
        "    up_8 = concatenate([UpSampling2D(size=(2, 2))(c_7), c_2])\n",
        "    c_8 = Convolution2D(64, (3, 3), activation='relu', padding='same', name='conv8_a')(up_8)\n",
        "    c_8 = Convolution2D(64, (3, 3), activation='relu', padding='same', name='conv8_b')(c_8)\n",
        "\n",
        "    up_9 = concatenate([UpSampling2D(size=(2, 2))(c_8), c_1])\n",
        "    c_9 = Convolution2D(32, (3, 3), activation='relu', padding='same', name='conv9_a')(up_9)\n",
        "    c_9 = Convolution2D(32, (3, 3), activation='relu', padding='same', name='conv9_b')(c_9)\n",
        "\n",
        "    c_10 = Convolution2D(1, 1, activation='sigmoid')(c_9)\n",
        "\n",
        "    model = Model(inputs=[inputs], outputs=[c_10])\n",
        "\n",
        "    return model"
      ],
      "execution_count": 0,
      "outputs": []
    },
    {
      "cell_type": "code",
      "metadata": {
        "id": "Rhmhkzae10V7",
        "colab_type": "code",
        "colab": {}
      },
      "source": [
        "unet_model = unet()\n",
        "unet_model.compile(Adam(lr=1e-4), loss=IOU_loss, metrics=[IOU_calc])"
      ],
      "execution_count": 0,
      "outputs": []
    },
    {
      "cell_type": "code",
      "metadata": {
        "id": "440Dypik10V_",
        "colab_type": "code",
        "colab": {}
      },
      "source": [
        "unet_model.fit(trn_bbox_imgs, loc_trn_mask, batch_size=32, epochs=15,\n",
        "              validation_data=(val_bbox_imgs, loc_val_mask), verbose=1)"
      ],
      "execution_count": 0,
      "outputs": []
    },
    {
      "cell_type": "code",
      "metadata": {
        "id": "QBdAstE010WE",
        "colab_type": "code",
        "colab": {}
      },
      "source": [
        "plt.plot(unet_model.history.history['loss'], '-o')\n",
        "plt.plot(unet_model.history.history['val_loss'], '-o')\n",
        "plt.legend(['trn_loss', 'val_loss'], loc='upper right')\n",
        "plt.xlabel('iteration')\n",
        "plt.ylabel('loss')"
      ],
      "execution_count": 0,
      "outputs": []
    },
    {
      "cell_type": "code",
      "metadata": {
        "id": "Wp6BCQs210WL",
        "colab_type": "code",
        "colab": {}
      },
      "source": [
        "pred_box_unet = unet_model.predict(val_bbox_imgs)"
      ],
      "execution_count": 0,
      "outputs": []
    },
    {
      "cell_type": "code",
      "metadata": {
        "id": "jNnoKY3q10WP",
        "colab_type": "code",
        "colab": {}
      },
      "source": [
        "plt.imshow(loc_val_mask[2][:,:,0], cmap='gray')"
      ],
      "execution_count": 0,
      "outputs": []
    },
    {
      "cell_type": "code",
      "metadata": {
        "id": "EDKt_6KY10WR",
        "colab_type": "code",
        "colab": {}
      },
      "source": [
        "plt.imshow(pred_box_unet[1][:,:,0], cmap='gray')"
      ],
      "execution_count": 0,
      "outputs": []
    },
    {
      "cell_type": "code",
      "metadata": {
        "id": "p6HS06eV10WX",
        "colab_type": "code",
        "colab": {}
      },
      "source": [
        "plot_im_mask(val_bbox_imgs[500], pred_box_unet[500] * 255.)"
      ],
      "execution_count": 0,
      "outputs": []
    },
    {
      "cell_type": "markdown",
      "metadata": {
        "id": "qORgtaAM10Wb",
        "colab_type": "text"
      },
      "source": [
        "#### Save  and load our model"
      ]
    },
    {
      "cell_type": "code",
      "metadata": {
        "id": "gqlsozk710Wc",
        "colab_type": "code",
        "colab": {}
      },
      "source": [
        "#unet_model.save_weights('./models/unet.h5')"
      ],
      "execution_count": 0,
      "outputs": []
    },
    {
      "cell_type": "code",
      "metadata": {
        "id": "UAAOpJJH10Wd",
        "colab_type": "code",
        "colab": {}
      },
      "source": [
        "unet_model.load_weights('./models/unet.h5')"
      ],
      "execution_count": 0,
      "outputs": []
    },
    {
      "cell_type": "markdown",
      "metadata": {
        "id": "Zh1VwYel10Wh",
        "colab_type": "text"
      },
      "source": [
        "### Question 10\n",
        "_How well does your model localize numbers on the testing set from the realistic dataset? Do your classification results change at all with localization included?_"
      ]
    },
    {
      "cell_type": "markdown",
      "metadata": {
        "id": "NyVJ2IKS10Wh",
        "colab_type": "text"
      },
      "source": [
        "**Answer:**\n",
        "\n",
        "The last version of my localizer seems to be performing well on the realistic dataset. The accuracy of the predicted bounding boxes are a little under 90% as measured by the Dice coefficient. \n",
        "\n",
        "The SVHN test dataset already includes the coordinates for the bounding boxes on the test set and this was used to assess the performance of the model on step 2. Had this information had not been provided it's safe to assume that the model would have performed significantly worse, as suggested by our test cases on step 3. In that scenario, using the number locator we just trained should bring our performance back to the levels we saw in our test."
      ]
    },
    {
      "cell_type": "markdown",
      "metadata": {
        "id": "bK9TP85T10Wi",
        "colab_type": "text"
      },
      "source": [
        "### Question 11\n",
        "_Test the localization function on the images you captured in **Step 3**. Does the model accurately calculate a bounding box for the numbers in the images you found? If you did not use a graphical interface, you may need to investigate the bounding boxes by hand._ Provide an example of the localization created on a captured image."
      ]
    },
    {
      "cell_type": "markdown",
      "metadata": {
        "id": "4kojp4Dm10Wj",
        "colab_type": "text"
      },
      "source": [
        "**Answer:**\n",
        "Surprisingly the model was not able to generalize for the images that I used. I suspect that the poor results on the 64 x 64 pixels image is due to the loss of information you have when downsampling the original image.\n",
        "\n",
        "At 64  x 64 pixels it found the same \"blobs\" as probably the ones from where numbers were likely to be found, but the noise in the image ended up confusing the model.\n",
        "\n",
        "I also tried to use the same weights, but change the model input to 1024 x 1024 - given that this is a fully convolutional model, I assumed that the weights could be shared between models, but the results clearly show that they cannot.\n",
        "\n",
        "I suspect that given images that are more similar to the ones we have trained the model, it should perform better.\n",
        "\n",
        "I have provided the examples for both cases below: "
      ]
    },
    {
      "cell_type": "code",
      "metadata": {
        "id": "3pVAl2cz10Wj",
        "colab_type": "code",
        "colab": {}
      },
      "source": [
        "new_images = []\n",
        "new_filenames = []\n",
        "\n",
        "filelist = os.listdir('./data/')\n",
        "\n",
        "for file in filelist:\n",
        "\n",
        "    try:\n",
        "        img = cv2.imread('./data/' + file, cv2.IMREAD_COLOR)\n",
        "    except:\n",
        "        img = None\n",
        "\n",
        "    if img is not None:\n",
        "        img = cv2.cvtColor(img, cv2.COLOR_BGR2RGB)\n",
        "        img = cv2.resize(img, (64, 64))\n",
        "        new_images.append(img)\n",
        "        new_filenames.append(file)"
      ],
      "execution_count": 0,
      "outputs": []
    },
    {
      "cell_type": "code",
      "metadata": {
        "id": "X-xvhny210Wp",
        "colab_type": "code",
        "colab": {}
      },
      "source": [
        "new_images = np.array(new_images, dtype='float')\n",
        "proc_new_images = new_images / 255 - 0.5\n",
        "test_new_masks = unet_model.predict(proc_new_images, batch_size=1)"
      ],
      "execution_count": 0,
      "outputs": []
    },
    {
      "cell_type": "code",
      "metadata": {
        "id": "-NC27llO10Wr",
        "colab_type": "code",
        "colab": {}
      },
      "source": [
        "ref = 0 \n",
        "plot_im_mask(new_images[ref], test_new_masks[ref])"
      ],
      "execution_count": 0,
      "outputs": []
    },
    {
      "cell_type": "code",
      "metadata": {
        "id": "qpu9y0jx10Wt",
        "colab_type": "code",
        "colab": {}
      },
      "source": [
        "ref = 1 \n",
        "plot_im_mask(new_images[ref], test_new_masks[ref])"
      ],
      "execution_count": 0,
      "outputs": []
    },
    {
      "cell_type": "code",
      "metadata": {
        "id": "i62BeHJs10Wv",
        "colab_type": "code",
        "colab": {}
      },
      "source": [
        "ref = 2 \n",
        "plot_im_mask(new_images[ref], test_new_masks[ref])"
      ],
      "execution_count": 0,
      "outputs": []
    },
    {
      "cell_type": "code",
      "metadata": {
        "id": "_Xh_x9oz10W1",
        "colab_type": "code",
        "colab": {}
      },
      "source": [
        "ref = 3 \n",
        "plot_im_mask(new_images[ref], test_new_masks[ref])"
      ],
      "execution_count": 0,
      "outputs": []
    },
    {
      "cell_type": "code",
      "metadata": {
        "id": "oPjyQqfS10W4",
        "colab_type": "code",
        "colab": {}
      },
      "source": [
        "ref = 4 \n",
        "plot_im_mask(new_images[ref], test_new_masks[ref])"
      ],
      "execution_count": 0,
      "outputs": []
    },
    {
      "cell_type": "code",
      "metadata": {
        "id": "nAZDbCd610W7",
        "colab_type": "code",
        "colab": {}
      },
      "source": [
        "new_images = []\n",
        "new_filenames = []\n",
        "\n",
        "filelist = os.listdir('./data/')\n",
        "\n",
        "for file in filelist:\n",
        "\n",
        "    try:\n",
        "        img = cv2.imread('./data/' + file, cv2.IMREAD_COLOR)\n",
        "    except:\n",
        "        img = None\n",
        "\n",
        "    if img is not None:\n",
        "        img = cv2.cvtColor(img, cv2.COLOR_BGR2RGB)\n",
        "        img = cv2.resize(img, (1024, 1024))\n",
        "        new_images.append(img)\n",
        "        new_filenames.append(file)"
      ],
      "execution_count": 0,
      "outputs": []
    },
    {
      "cell_type": "code",
      "metadata": {
        "id": "5Do4ezda10W_",
        "colab_type": "code",
        "colab": {}
      },
      "source": [
        "unet_large = unet(input_shape=(1024, 1024, 3))\n",
        "unet_large.load_weights('./models/unet.h5')"
      ],
      "execution_count": 0,
      "outputs": []
    },
    {
      "cell_type": "code",
      "metadata": {
        "id": "YAudFf4q10XA",
        "colab_type": "code",
        "colab": {}
      },
      "source": [
        "new_images = np.array(new_images, dtype='float')\n",
        "proc_new_images = new_images / 255 - 0.5\n",
        "test_new_masks = unet_large.predict(proc_new_images, batch_size=1)"
      ],
      "execution_count": 0,
      "outputs": []
    },
    {
      "cell_type": "code",
      "metadata": {
        "id": "djveR4GR10XB",
        "colab_type": "code",
        "colab": {}
      },
      "source": [
        "ref = 0 \n",
        "plot_im_mask(new_images[ref], test_new_masks[ref])"
      ],
      "execution_count": 0,
      "outputs": []
    },
    {
      "cell_type": "code",
      "metadata": {
        "id": "-BUo37u910XD",
        "colab_type": "code",
        "colab": {}
      },
      "source": [
        "ref = 1 \n",
        "plot_im_mask(new_images[ref], test_new_masks[ref])"
      ],
      "execution_count": 0,
      "outputs": []
    },
    {
      "cell_type": "code",
      "metadata": {
        "id": "ygJ_yEtJ10XI",
        "colab_type": "code",
        "colab": {}
      },
      "source": [
        "ref = 2 \n",
        "plot_im_mask(new_images[ref], test_new_masks[ref])"
      ],
      "execution_count": 0,
      "outputs": []
    },
    {
      "cell_type": "code",
      "metadata": {
        "id": "eDZKCu6s10XK",
        "colab_type": "code",
        "colab": {}
      },
      "source": [
        "ref = 3 \n",
        "plot_im_mask(new_images[ref], test_new_masks[ref])"
      ],
      "execution_count": 0,
      "outputs": []
    },
    {
      "cell_type": "code",
      "metadata": {
        "id": "NTBbaJ3O10XM",
        "colab_type": "code",
        "colab": {}
      },
      "source": [
        "ref = 4 \n",
        "plot_im_mask(new_images[ref], test_new_masks[ref])"
      ],
      "execution_count": 0,
      "outputs": []
    },
    {
      "cell_type": "markdown",
      "metadata": {
        "id": "AgUZCTaM10XO",
        "colab_type": "text"
      },
      "source": [
        "----\n",
        "## Optional Step 5: Build an Application or Program for a Model\n",
        "Take your project one step further. If you're interested, look to build an Android application or even a more robust Python program that can interface with input images and display the classified numbers and even the bounding boxes. You can for example try to build an augmented reality app by overlaying your answer on the image like the [Word Lens](https://en.wikipedia.org/wiki/Word_Lens) app does.\n",
        "\n",
        "Loading a TensorFlow model into a camera app on Android is demonstrated in the [TensorFlow Android demo app](https://github.com/tensorflow/tensorflow/tree/master/tensorflow/examples/android), which you can simply modify.\n",
        "\n",
        "If you decide to explore this optional route, be sure to document your interface and implementation, along with significant results you find. You can see the additional rubric items that you could be evaluated on by [following this link](https://review.udacity.com/#!/rubrics/413/view)."
      ]
    },
    {
      "cell_type": "markdown",
      "metadata": {
        "id": "5wIH3dxg10XP",
        "colab_type": "text"
      },
      "source": [
        "### Optional Implementation\n",
        "Use the code cell (or multiple code cells, if necessary) to implement the first step of your project. Once you have completed your implementation and are satisfied with the results, be sure to thoroughly answer the questions that follow."
      ]
    },
    {
      "cell_type": "code",
      "metadata": {
        "id": "pXQ0xNdy10XR",
        "colab_type": "code",
        "colab": {}
      },
      "source": [
        "\n",
        "\n",
        "### Your optional code implementation goes here.\n",
        "### Feel free to use as many code cells as needed.\n",
        "\n"
      ],
      "execution_count": 0,
      "outputs": []
    },
    {
      "cell_type": "markdown",
      "metadata": {
        "id": "2BQCP21O10XT",
        "colab_type": "text"
      },
      "source": [
        "### Documentation\n",
        "Provide additional documentation sufficient for detailing the implementation of the Android application or Python program for visualizing the classification of numbers in images. It should be clear how the program or application works. Demonstrations should be provided. "
      ]
    },
    {
      "cell_type": "markdown",
      "metadata": {
        "id": "09LYg9tv10XU",
        "colab_type": "text"
      },
      "source": [
        "_Write your documentation here._"
      ]
    },
    {
      "cell_type": "markdown",
      "metadata": {
        "id": "0_TgOPpP10XU",
        "colab_type": "text"
      },
      "source": [
        "> **Note**: Once you have completed all of the code implementations and successfully answered each question above, you may finalize your work by exporting the iPython Notebook as an HTML document. You can do this by using the menu above and navigating to  \n",
        "**File -> Download as -> HTML (.html)**. Include the finished document along with this notebook as your submission."
      ]
    },
    {
      "cell_type": "code",
      "metadata": {
        "id": "hkWAWCH-aC5B",
        "colab_type": "code",
        "colab": {}
      },
      "source": [
        ""
      ],
      "execution_count": 0,
      "outputs": []
    }
  ]
}